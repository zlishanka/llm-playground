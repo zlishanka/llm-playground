{
 "cells": [
  {
   "cell_type": "code",
   "execution_count": 1,
   "id": "395b3b20-8bd0-4018-ba97-6fa51798acb9",
   "metadata": {},
   "outputs": [],
   "source": [
    "import os\n",
    "import sqlite3\n",
    "import pandas as pd\n",
    "import matplotlib.pyplot as plt\n",
    "import inspect\n",
    "\n",
    "from datasets import load_dataset, DatasetDict, Dataset"
   ]
  },
  {
   "cell_type": "code",
   "execution_count": 2,
   "id": "d99974fa-2089-44b3-9d3c-042741664178",
   "metadata": {},
   "outputs": [],
   "source": [
    "connection = sqlite3.connect(\"crypto-news.db\")\n",
    "# cursorObj = connection.cursor()\n",
    "# cursorObj.execute(\"SELECT name FROM sqlite_master WHERE type='table';\")\n",
    "# print(cursorObj.fetchall())\n"
   ]
  },
  {
   "cell_type": "code",
   "execution_count": 3,
   "id": "2a2bb70f-9553-42e9-8faa-03dc5cc40880",
   "metadata": {},
   "outputs": [
    {
     "data": {
      "text/plain": [
       "((24829, 9), (4966, 9), (1242, 9))"
      ]
     },
     "execution_count": 3,
     "metadata": {},
     "output_type": "execute_result"
    }
   ],
   "source": [
    "train_df = pd.read_sql_query(\"SELECT * from train\", connection)\n",
    "val_df = pd.read_sql_query(\"SELECT * from validation\", connection)\n",
    "test_df = pd.read_sql_query(\"SELECT * from test\", connection)\n",
    "\n",
    "train_df.shape, val_df.shape, test_df.shape"
   ]
  },
  {
   "cell_type": "code",
   "execution_count": 4,
   "id": "8fb4ca3e-26cb-43e5-9a52-8cef74089d83",
   "metadata": {},
   "outputs": [],
   "source": [
    "def create_grid(n_rows, n_columns):\n",
    "    fig, axes = plt.subplots(\n",
    "        nrows=n_rows, ncols=n_columns, figsize=(n_columns * 5, n_rows * 4)\n",
    "    )\n",
    "    return fig, axes.flatten()"
   ]
  },
  {
   "cell_type": "code",
   "execution_count": 42,
   "id": "36e63671-3f55-4e8e-8472-f23123377ebc",
   "metadata": {},
   "outputs": [],
   "source": [
    "# fig, axes = create_grid(n_rows=3, n_columns=3)\n",
    "\n",
    "# subjects = [train_df.subject.value_counts(), val_df.subject.value_counts(), test_df.subject.value_counts()]\n",
    "# sentiments = [train_df.sentiment.value_counts(), val_df.sentiment.value_counts(), test_df.sentiment.value_counts()]\n",
    "# subjectivities = [train_df.subjectivity, val_df.subjectivity, test_df.subjectivity]\n",
    "\n",
    "# axes[0].bar(subjects[0].index, subjects[0].values)\n",
    "# axes[0].set_title(\"Subject\")\n",
    "# axes[0].set_ylabel(\"Train\")\n",
    "# axes[0].set_xticklabels([])\n",
    "# axes[0].set_xticks([])\n",
    "\n",
    "# axes[3].bar(subjects[1].index, subjects[1].values)\n",
    "# axes[3].set_ylabel(\"Validataion\")\n",
    "# axes[3].set_xticklabels([])\n",
    "# axes[3].set_xticks([])\n",
    "\n",
    "# axes[6].bar(subjects[2].index, subjects[2].values)\n",
    "# axes[6].set_ylabel(\"Test\")\n",
    "# axes[6].set_xticks(axes[6].get_xticks())\n",
    "# axes[6].set_xticklabels(subjects[2].index, rotation=90)\n",
    "\n",
    "# axes[1].bar(sentiments[0].index, sentiments[0].values)\n",
    "# axes[1].set_title(\"Sentiment\")\n",
    "# axes[1].set_xticklabels([])\n",
    "# axes[1].set_xticks([])\n",
    "\n",
    "# axes[4].bar(sentiments[1].index, sentiments[1].values)\n",
    "# axes[4].set_xticklabels([])\n",
    "# axes[4].set_xticks([])\n",
    "\n",
    "# axes[7].bar(sentiments[2].index, sentiments[2].values)\n",
    "# axes[7].set_xticks(axes[7].get_xticks())\n",
    "# axes[7].set_xticklabels(sentiments[2].index, rotation=90)\n",
    "\n",
    "# axes[2].hist(subjectivities[0])\n",
    "# axes[2].set_title(\"Subjectivity\")\n",
    "# axes[2].set_xticklabels([])\n",
    "# axes[2].set_xticks([])\n",
    "\n",
    "# axes[5].hist(subjectivities[1])\n",
    "# axes[5].set_xticklabels([])\n",
    "# axes[5].set_xticks([])\n",
    "\n",
    "# axes[8].hist(subjectivities[2])\n",
    "\n",
    "# plt.show()\n",
    "\n"
   ]
  },
  {
   "cell_type": "code",
   "execution_count": 5,
   "id": "b43586be-50ff-4e8f-8ca7-932b8e884191",
   "metadata": {},
   "outputs": [
    {
     "data": {
      "text/plain": [
       "{'train': Dataset({\n",
       "     features: ['date', 'source', 'subject', 'text', 'title', 'url', 'sentiment', 'polarity', 'subjectivity'],\n",
       "     num_rows: 24829\n",
       " }),\n",
       " 'validation': Dataset({\n",
       "     features: ['date', 'source', 'subject', 'text', 'title', 'url', 'sentiment', 'polarity', 'subjectivity'],\n",
       "     num_rows: 4966\n",
       " }),\n",
       " 'test': Dataset({\n",
       "     features: ['date', 'source', 'subject', 'text', 'title', 'url', 'sentiment', 'polarity', 'subjectivity'],\n",
       "     num_rows: 1242\n",
       " })}"
      ]
     },
     "execution_count": 5,
     "metadata": {},
     "output_type": "execute_result"
    }
   ],
   "source": [
    "dataset = {\n",
    "    \"train\": Dataset.from_pandas(train_df),\n",
    "    \"validation\": Dataset.from_pandas(val_df),\n",
    "    \"test\": Dataset.from_pandas(test_df)\n",
    "}\n",
    "dataset"
   ]
  },
  {
   "cell_type": "code",
   "execution_count": 6,
   "id": "a1cfecad-d281-480b-bd04-e2bfacd1243f",
   "metadata": {},
   "outputs": [
    {
     "data": {
      "text/plain": [
       "Embedding(32008, 2048)"
      ]
     },
     "execution_count": 6,
     "metadata": {},
     "output_type": "execute_result"
    }
   ],
   "source": [
    "import torch\n",
    "from transformers import AutoModelForCausalLM, AutoTokenizer\n",
    "\n",
    "MODEL_NAME = \"TinyLlama/TinyLlama-1.1B-intermediate-step-1431k-3T\"\n",
    "PAD_TOKEN = \"<pad>\"\n",
    "\n",
    "tokenizer = AutoTokenizer.from_pretrained(MODEL_NAME)\n",
    "tokenizer.add_special_tokens({\"pad_token\": PAD_TOKEN})\n",
    "tokenizer.padding_side = \"right\"\n",
    "\n",
    "model = AutoModelForCausalLM.from_pretrained(\n",
    "    MODEL_NAME,\n",
    "    device_map=\"auto\",\n",
    "    trust_remote_code=True,\n",
    "    # attn_implementation=\"flash_attention_2\" #if available\n",
    ")\n",
    "model.resize_token_embeddings(len(tokenizer), pad_to_multiple_of=8)"
   ]
  },
  {
   "cell_type": "code",
   "execution_count": 53,
   "id": "e251bc5e-a930-449e-aa71-06848e5ef71f",
   "metadata": {},
   "outputs": [],
   "source": [
    "# tokenizer.bos_token, tokenizer.bos_token_id\n",
    "# tokenizer.eos_token, tokenizer.eos_token_id\n",
    "# tokenizer.pad_token, tokenizer.pad_token_id\n",
    "# PAD_TOKEN in tokenizer.get_vocab()"
   ]
  },
  {
   "cell_type": "code",
   "execution_count": 7,
   "id": "416daf3a-b5da-473d-847b-c5a59cc3b0c6",
   "metadata": {},
   "outputs": [
    {
     "name": "stdout",
     "output_type": "stream",
     "text": [
      "### Title:\n",
      "IDEG Appoints Coinbase Prime as Strategic Partner to Launch Ethereum Enhanced Portfolio\n",
      "### Text:\n",
      "IDEG's new investment vehicle is part of its thematic product suite - TIMES and it comes following a partnership with Coinbase.\n",
      "### Prediction:\n",
      "subject: ethereum\n",
      "sentiment: positive\n"
     ]
    }
   ],
   "source": [
    "def format_example(example):\n",
    "    return inspect.cleandoc(f\"\"\"\n",
    "    ### Title:\n",
    "    {example[\"title\"]}\n",
    "    ### Text:\n",
    "    {example[\"text\"]}\n",
    "    ### Prediction:\n",
    "    subject: {example[\"subject\"]}\n",
    "    sentiment: {example[\"sentiment\"]}\n",
    "    \"\"\")\n",
    "print(format_example(dataset[\"train\"][0]))"
   ]
  },
  {
   "cell_type": "code",
   "execution_count": 8,
   "id": "eba3f9a7-642b-4fb4-b71d-d0cc32fe9c6c",
   "metadata": {},
   "outputs": [
    {
     "data": {
      "image/png": "[encoded data removed]",
      "text/plain": [
       "<Figure size 640x480 with 1 Axes>"
      ]
     },
     "metadata": {},
     "output_type": "display_data"
    }
   ],
   "source": [
    "# Shows the tokenizer histogram of training set\n",
    "\n",
    "token_counts = []\n",
    "for example in dataset[\"train\"]:\n",
    "    token_counts.append(\n",
    "        len(tokenizer(format_example(example), add_special_tokens=True, return_attention_mask=False)[\"input_ids\"])\n",
    "    )\n",
    "plt.hist(token_counts)\n",
    "plt.xlabel(\"Tokens\")\n",
    "plt.ylabel(\"Count\")\n",
    "plt.show()"
   ]
  },
  {
   "cell_type": "code",
   "execution_count": 9,
   "id": "e75e84ad-3d35-4f4a-8fe9-554b031f8a7d",
   "metadata": {},
   "outputs": [],
   "source": [
    "model.pad_token_id = tokenizer.pad_token_id\n",
    "model.config.pad_token_id = tokenizer.pad_token_id"
   ]
  },
  {
   "cell_type": "code",
   "execution_count": 10,
   "id": "9142e80c-120c-4fe1-9788-93a3ecbcdf7a",
   "metadata": {},
   "outputs": [
    {
     "data": {
      "text/plain": [
       "LlamaForCausalLM(\n",
       "  (model): LlamaModel(\n",
       "    (embed_tokens): Embedding(32008, 2048)\n",
       "    (layers): ModuleList(\n",
       "      (0-21): 22 x LlamaDecoderLayer(\n",
       "        (self_attn): LlamaSdpaAttention(\n",
       "          (q_proj): Linear(in_features=2048, out_features=2048, bias=False)\n",
       "          (k_proj): Linear(in_features=2048, out_features=256, bias=False)\n",
       "          (v_proj): Linear(in_features=2048, out_features=256, bias=False)\n",
       "          (o_proj): Linear(in_features=2048, out_features=2048, bias=False)\n",
       "          (rotary_emb): LlamaRotaryEmbedding()\n",
       "        )\n",
       "        (mlp): LlamaMLP(\n",
       "          (gate_proj): Linear(in_features=2048, out_features=5632, bias=False)\n",
       "          (up_proj): Linear(in_features=2048, out_features=5632, bias=False)\n",
       "          (down_proj): Linear(in_features=5632, out_features=2048, bias=False)\n",
       "          (act_fn): SiLU()\n",
       "        )\n",
       "        (input_layernorm): LlamaRMSNorm()\n",
       "        (post_attention_layernorm): LlamaRMSNorm()\n",
       "      )\n",
       "    )\n",
       "    (norm): LlamaRMSNorm()\n",
       "  )\n",
       "  (lm_head): Linear(in_features=2048, out_features=32008, bias=False)\n",
       ")"
      ]
     },
     "execution_count": 10,
     "metadata": {},
     "output_type": "execute_result"
    }
   ],
   "source": [
    "#model.config\n",
    "model"
   ]
  },
  {
   "cell_type": "code",
   "execution_count": 11,
   "id": "19f24a87-90cb-4673-9b38-6fbc6cb824e0",
   "metadata": {},
   "outputs": [
    {
     "name": "stdout",
     "output_type": "stream",
     "text": [
      "trainable params: 100,925,440 || all params: 1,201,006,592 || trainable%: 8.403404333687455\n"
     ]
    }
   ],
   "source": [
    "# LoRA setup, use model.print_trainable_parameters() to get augmented model\n",
    "\n",
    "from peft import LoraConfig, get_peft_model, TaskType\n",
    "\n",
    "lora_config = LoraConfig (\n",
    "    r=128,\n",
    "    lora_alpha=128,\n",
    "    target_modules=[\n",
    "        \"self_attn.q_proj\",\n",
    "        \"self_attn.k_proj\",\n",
    "        \"self_attn.v_proj\",\n",
    "        \"self_attn.o_proj\",\n",
    "        \"mlp.gate_proj\",\n",
    "        \"mlp.up_proj\",\n",
    "        \"mlp.down_proj\"\n",
    "    ],\n",
    "    lora_dropout=0.1,\n",
    "    bias=\"none\",\n",
    "    task_type=TaskType.CAUSAL_LM,\n",
    ")\n",
    "\n",
    "model = get_peft_model(model, lora_config)\n",
    "model.print_trainable_parameters()"
   ]
  },
  {
   "cell_type": "code",
   "execution_count": 12,
   "id": "b3fc2af6-61d3-4bf2-a10a-d46c78df51e2",
   "metadata": {},
   "outputs": [
    {
     "name": "stderr",
     "output_type": "stream",
     "text": [
      "huggingface/tokenizers: The current process just got forked, after parallelism has already been used. Disabling parallelism to avoid deadlocks...\n",
      "To disable this warning, you can either:\n",
      "\t- Avoid using `tokenizers` before the fork if possible\n",
      "\t- Explicitly set the environment variable TOKENIZERS_PARALLELISM=(true | false)\n"
     ]
    }
   ],
   "source": [
    "# Training \n",
    "\n",
    "from trl import SFTTrainer, DataCollatorForCompletionOnlyLM\n",
    "from torch.utils.data import DataLoader\n",
    "\n",
    "response_template_with_context = \"\\n### Prediction:\"\n",
    "\n",
    "#subject: {example[\"subject\"]}\n",
    "#sentiment: {example[\"sentiment\"]}, last two, ignore Title, Text\n",
    "response_template_ids = tokenizer.encode(response_template_with_context, add_special_tokens=False)[2:]\n",
    "\n",
    "# Data collator used for language modeling that masks entire words.\n",
    "# Data collators are objects that will form a batch by using a list of dataset elements as input.\n",
    "collator = DataCollatorForCompletionOnlyLM(response_template_ids, tokenizer=tokenizer)\n",
    "\n",
    "examples = [format_example(dataset[\"train\"][0])]\n",
    "encodings = [tokenizer(e) for e in examples]\n",
    "\n",
    "dataloader = DataLoader(encodings, collate_fn=collator, batch_size=1)\n"
   ]
  },
  {
   "cell_type": "code",
   "execution_count": 13,
   "id": "f13704bf-6aa6-4aa6-9b26-12e596979aa8",
   "metadata": {},
   "outputs": [
    {
     "data": {
      "text/plain": [
       "dict_keys(['input_ids', 'attention_mask', 'labels'])"
      ]
     },
     "execution_count": 13,
     "metadata": {},
     "output_type": "execute_result"
    }
   ],
   "source": [
    "batch = next(iter(dataloader))\n",
    "batch.keys()"
   ]
  },
  {
   "cell_type": "code",
   "execution_count": 14,
   "id": "d08f8f00-294b-4c64-9e73-c29daf56d1e7",
   "metadata": {},
   "outputs": [
    {
     "data": {
      "text/plain": [
       "tensor([[ -100,  -100,  -100,  -100,  -100,  -100,  -100,  -100,  -100,  -100,\n",
       "          -100,  -100,  -100,  -100,  -100,  -100,  -100,  -100,  -100,  -100,\n",
       "          -100,  -100,  -100,  -100,  -100,  -100,  -100,  -100,  -100,  -100,\n",
       "          -100,  -100,  -100,  -100,  -100,  -100,  -100,  -100,  -100,  -100,\n",
       "          -100,  -100,  -100,  -100,  -100,  -100,  -100,  -100,  -100,  -100,\n",
       "          -100,  -100,  -100,  -100,  -100,  -100,  -100,  -100,  -100,  -100,\n",
       "          -100,  -100,  -100,  -100,  -100,  -100,  -100,  -100,  -100,  -100,\n",
       "          -100,  -100,  -100,  -100,    13, 16009, 29901, 11314,   406,   398,\n",
       "            13, 18616,  2073, 29901,  6374]])"
      ]
     },
     "execution_count": 14,
     "metadata": {},
     "output_type": "execute_result"
    }
   ],
   "source": [
    "batch[\"labels\"]"
   ]
  },
  {
   "cell_type": "code",
   "execution_count": 15,
   "id": "13d8acb9-7101-4cd5-8c66-e6b5d2b40db1",
   "metadata": {},
   "outputs": [],
   "source": [
    "# Traininig Arguments\n",
    "\n",
    "from transformers import TrainingArguments\n",
    "\n",
    "training_arguments = TrainingArguments(\n",
    "    output_dir=\"experiments\",\n",
    "    num_train_epochs=1,\n",
    "    per_device_train_batch_size=4,\n",
    "    gradient_accumulation_steps=4,\n",
    "    optim=\"adamw_torch\",\n",
    "    evaluation_strategy=\"steps\",\n",
    "    eval_steps=0.2,\n",
    "    logging_steps=10,\n",
    "    learning_rate=1e-4,\n",
    "    #bf16=True,  # or fp16=True,\n",
    "    save_strategy=\"epoch\",\n",
    "    max_grad_norm=1.0,\n",
    "    warmup_ratio=0.1,\n",
    "    lr_scheduler_type=\"constant\",\n",
    "    report_to=\"tensorboard\",\n",
    "    save_safetensors=True,\n",
    "    seed=123,\n",
    ")"
   ]
  },
  {
   "cell_type": "code",
   "execution_count": 16,
   "id": "76943523-7657-496d-95e3-3203d6da3207",
   "metadata": {},
   "outputs": [],
   "source": [
    "def format_prompts(example):\n",
    "    output_texts = []\n",
    "    for i in range(len(example[\"title\"])):\n",
    "        text = inspect.cleandoc(f\"\"\"\n",
    "        ### Title:\n",
    "        {example[\"title\"][i]}\n",
    "        ### Text:\n",
    "        {example[\"text\"][i]}\n",
    "        ### Prediction:\n",
    "        subject: {example[\"subject\"][i]}\n",
    "        sentiment: {example[\"sentiment\"][i]}\n",
    "        \"\"\")\n",
    "        output_texts.append(text)\n",
    "    return output_texts"
   ]
  },
  {
   "cell_type": "code",
   "execution_count": 17,
   "id": "01ca2fb7-12bb-4ad8-80c1-64b9ba838872",
   "metadata": {},
   "outputs": [
    {
     "name": "stderr",
     "output_type": "stream",
     "text": [
      "huggingface/tokenizers: The current process just got forked, after parallelism has already been used. Disabling parallelism to avoid deadlocks...\n",
      "To disable this warning, you can either:\n",
      "\t- Avoid using `tokenizers` before the fork if possible\n",
      "\t- Explicitly set the environment variable TOKENIZERS_PARALLELISM=(true | false)\n"
     ]
    },
    {
     "data": {
      "application/vnd.jupyter.widget-view+json": {
       "model_id": "02e1415b70bf423d8d74b8165f90b808",
       "version_major": 2,
       "version_minor": 0
      },
      "text/plain": [
       "Map:   0%|          | 0/24829 [00:00<?, ? examples/s]"
      ]
     },
     "metadata": {},
     "output_type": "display_data"
    },
    {
     "data": {
      "application/vnd.jupyter.widget-view+json": {
       "model_id": "ccd41b1d0f4a4b689096fc070ff5d782",
       "version_major": 2,
       "version_minor": 0
      },
      "text/plain": [
       "Map:   0%|          | 0/4966 [00:00<?, ? examples/s]"
      ]
     },
     "metadata": {},
     "output_type": "display_data"
    }
   ],
   "source": [
    "# trainer \n",
    "\n",
    "trainer = SFTTrainer(\n",
    "    model=model,\n",
    "    args=training_arguments,\n",
    "    train_dataset=dataset[\"train\"],\n",
    "    eval_dataset=dataset[\"validation\"],\n",
    "    tokenizer=tokenizer,\n",
    "    max_seq_length=1024,\n",
    "    formatting_func=format_prompts,\n",
    "    data_collator=collator\n",
    ")"
   ]
  },
  {
   "cell_type": "code",
   "execution_count": 18,
   "id": "ea9fc6e4-1bd0-4091-aaf3-afa3a8aa679d",
   "metadata": {},
   "outputs": [
    {
     "data": {
      "text/html": [
       "\n",
       "    <div>\n",
       "      \n",
       "      <progress value='1552' max='1552' style='width:300px; height:20px; vertical-align: middle;'></progress>\n",
       "      [1552/1552 10:55:51, Epoch 1/1]\n",
       "    </div>\n",
       "    <table border=\"1\" class=\"dataframe\">\n",
       "  <thead>\n",
       " <tr style=\"text-align: left;\">\n",
       "      <th>Step</th>\n",
       "      <th>Training Loss</th>\n",
       "      <th>Validation Loss</th>\n",
       "    </tr>\n",
       "  </thead>\n",
       "  <tbody>\n",
       "    <tr>\n",
       "      <td>311</td>\n",
       "      <td>0.141200</td>\n",
       "      <td>0.146068</td>\n",
       "    </tr>\n",
       "    <tr>\n",
       "      <td>622</td>\n",
       "      <td>0.109500</td>\n",
       "      <td>0.115414</td>\n",
       "    </tr>\n",
       "    <tr>\n",
       "      <td>933</td>\n",
       "      <td>0.089000</td>\n",
       "      <td>0.102901</td>\n",
       "    </tr>\n",
       "    <tr>\n",
       "      <td>1244</td>\n",
       "      <td>0.087500</td>\n",
       "      <td>0.091207</td>\n",
       "    </tr>\n",
       "  </tbody>\n",
       "</table><p>"
      ],
      "text/plain": [
       "<IPython.core.display.HTML object>"
      ]
     },
     "metadata": {},
     "output_type": "display_data"
    },
    {
     "name": "stderr",
     "output_type": "stream",
     "text": [
      "/Users/royzheng/workArea/workspace/llm-playground/env/lib/python3.10/site-packages/peft/utils/save_and_load.py:160: UserWarning: Setting `save_embedding_layers` to `True` as the embedding layer has been resized during finetuning.\n",
      "  warnings.warn(\n"
     ]
    },
    {
     "data": {
      "text/plain": [
       "TrainOutput(global_step=1552, training_loss=0.12305564889396281, metrics={'train_runtime': 39360.9115, 'train_samples_per_second': 0.631, 'train_steps_per_second': 0.039, 'total_flos': 1.7664047648464896e+16, 'train_loss': 0.12305564889396281, 'epoch': 1.0})"
      ]
     },
     "execution_count": 18,
     "metadata": {},
     "output_type": "execute_result"
    }
   ],
   "source": [
    "# run training\n",
    "trainer.train()"
   ]
  },
  {
   "cell_type": "code",
   "execution_count": 19,
   "id": "2924bf4a-5512-437b-8ef9-e40c3f93425a",
   "metadata": {},
   "outputs": [],
   "source": [
    "%load_ext tensorboard"
   ]
  },
  {
   "cell_type": "code",
   "execution_count": 20,
   "id": "e6d013a2-1906-4b2b-a39a-fd087074487c",
   "metadata": {},
   "outputs": [
    {
     "data": {
      "text/html": [
       "\n",
       "      <iframe id=\"tensorboard-frame-44867db30d67b366\" width=\"100%\" height=\"800\" frameborder=\"0\">\n",
       "      </iframe>\n",
       "      <script>\n",
       "        (function() {\n",
       "          const frame = document.getElementById(\"tensorboard-frame-44867db30d67b366\");\n",
       "          const url = new URL(\"/\", window.location);\n",
       "          const port = 6006;\n",
       "          if (port) {\n",
       "            url.port = port;\n",
       "          }\n",
       "          frame.src = url;\n",
       "        })();\n",
       "      </script>\n",
       "    "
      ],
      "text/plain": [
       "<IPython.core.display.HTML object>"
      ]
     },
     "metadata": {},
     "output_type": "display_data"
    },
    {
     "name": "stderr",
     "output_type": "stream",
     "text": [
      "python(43613) MallocStackLogging: can't turn off malloc stack logging because it was not enabled.\n",
      "huggingface/tokenizers: The current process just got forked, after parallelism has already been used. Disabling parallelism to avoid deadlocks...\n",
      "To disable this warning, you can either:\n",
      "\t- Avoid using `tokenizers` before the fork if possible\n",
      "\t- Explicitly set the environment variable TOKENIZERS_PARALLELISM=(true | false)\n"
     ]
    }
   ],
   "source": [
    "%tensorboard --logdir experiments/runs"
   ]
  },
  {
   "cell_type": "code",
   "execution_count": null,
   "id": "4ec25e5a-187a-4646-bb7c-1a0175cfe95e",
   "metadata": {},
   "outputs": [],
   "source": []
  }
 ],
 "metadata": {
  "kernelspec": {
   "display_name": "Python 3 (ipykernel)",
   "language": "python",
   "name": "python3"
  },
  "language_info": {
   "codemirror_mode": {
    "name": "ipython",
    "version": 3
   },
   "file_extension": ".py",
   "mimetype": "text/x-python",
   "name": "python",
   "nbconvert_exporter": "python",
   "pygments_lexer": "ipython3",
   "version": "3.10.10"
  }
 },
 "nbformat": 4,
 "nbformat_minor": 5
}
