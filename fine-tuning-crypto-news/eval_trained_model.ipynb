{
 "cells": [
  {
   "cell_type": "code",
   "execution_count": 8,
   "id": "1810d8b6-1b2e-429f-a37f-6443d44f8802",
   "metadata": {},
   "outputs": [
    {
     "data": {
      "text/plain": [
       "('<pad>', 32000, 'right')"
      ]
     },
     "execution_count": 8,
     "metadata": {},
     "output_type": "execute_result"
    }
   ],
   "source": [
    "# Load trained model\n",
    "import torch\n",
    "from transformers import AutoModelForCausalLM, AutoTokenizer\n",
    "from peft import PeftModel\n",
    "\n",
    "MODEL_NAME = \"TinyLlama/TinyLlama-1.1B-intermediate-step-1431k-3T\"\n",
    "\n",
    "base_model = AutoModelForCausalLM.from_pretrained(\n",
    "    MODEL_NAME,\n",
    "    device_map=\"auto\",\n",
    "    torch_dtype=torch.float16,\n",
    "    trust_remote_code=True,\n",
    ")\n",
    "# resize token embeddings, base_model is 32000, tokenizer's length is 32008\n",
    "base_model.resize_token_embeddings(len(tokenizer), pad_to_multiple_of=8)\n",
    "\n",
    "model = PeftModel.from_pretrained(base_model, \"crypto-sentiment-model\")\n",
    "model = model.merge_and_unload()\n",
    "\n",
    "tokenizer = AutoTokenizer.from_pretrained(\"crypto-sentiment-model\", trust_remote_code=True)\n",
    "tokenizer.pad_token, tokenizer.pad_token_id, tokenizer.padding_side\n"
   ]
  },
  {
   "cell_type": "code",
   "execution_count": 25,
   "id": "0406cdd5-5c3f-41bd-8c2d-7aed92d48fd0",
   "metadata": {},
   "outputs": [
    {
     "data": {
      "text/plain": [
       "(1242, 9)"
      ]
     },
     "execution_count": 25,
     "metadata": {},
     "output_type": "execute_result"
    }
   ],
   "source": [
    "# load test dataset\n",
    "import sqlite3\n",
    "import pandas as pd\n",
    "import matplotlib.pyplot as plt\n",
    "import inspect\n",
    "from datasets import load_dataset, DatasetDict, Dataset\n",
    "\n",
    "connection = sqlite3.connect(\"crypto-news.db\")\n",
    "test_df = pd.read_sql_query(\"SELECT * from test\", connection)\n",
    "test_df.shape"
   ]
  },
  {
   "cell_type": "code",
   "execution_count": 15,
   "id": "775b021c-822f-49a6-b20b-e3f3a0ec016e",
   "metadata": {},
   "outputs": [
    {
     "data": {
      "text/plain": [
       "{'test': Dataset({\n",
       "     features: ['date', 'source', 'subject', 'text', 'title', 'url', 'sentiment', 'polarity', 'subjectivity'],\n",
       "     num_rows: 1242\n",
       " })}"
      ]
     },
     "execution_count": 15,
     "metadata": {},
     "output_type": "execute_result"
    }
   ],
   "source": [
    "dataset = {\n",
    "    \"test\": Dataset.from_pandas(test_df)\n",
    "}\n",
    "dataset"
   ]
  },
  {
   "cell_type": "code",
   "execution_count": 9,
   "id": "cca99641-856e-45bc-a1d6-a67b7e6a96b9",
   "metadata": {},
   "outputs": [],
   "source": [
    "model.pad_token_id = tokenizer.pad_token_id\n",
    "model.config.pad_token_id = tokenizer.pad_token_id"
   ]
  },
  {
   "cell_type": "code",
   "execution_count": 10,
   "id": "795c572f-7b1a-4d74-b096-69c5b52e4480",
   "metadata": {},
   "outputs": [],
   "source": [
    "from transformers import pipeline\n",
    "\n",
    "pipe = pipeline(task=\"text-generation\", model=model, tokenizer=tokenizer, max_new_tokens=16, return_full_text=False)"
   ]
  },
  {
   "cell_type": "code",
   "execution_count": 12,
   "id": "71a70447-56b7-4bb8-9ec2-520b8374c20a",
   "metadata": {},
   "outputs": [],
   "source": [
    "def format_for_prediction(example):\n",
    "    return inspect.cleandoc(f\"\"\"\n",
    "    ### Title:\n",
    "    {example[\"title\"]}\n",
    "    ### Text:\n",
    "    {example[\"text\"]}\n",
    "    ### Prediction:\n",
    "    \"\"\")"
   ]
  },
  {
   "cell_type": "code",
   "execution_count": 13,
   "id": "e33f9f4f-e712-4752-bd25-e95f5a6a2d1c",
   "metadata": {},
   "outputs": [],
   "source": [
    "from transformers import logging\n",
    "logging.set_verbosity(logging.CRITICAL)"
   ]
  },
  {
   "cell_type": "code",
   "execution_count": 17,
   "id": "ad55f308-97ba-415a-9266-9c614195f0fa",
   "metadata": {},
   "outputs": [
    {
     "name": "stdout",
     "output_type": "stream",
     "text": [
      "Example 1\n",
      "\n",
      "Title: Binance Research Report Reveals 110% Surge in Crypto Market Cap YTD\n",
      "Text: Positive shift in stablecoin supply, NFT trade volume resurgence, and increased fees signal crypto market maturation.\n",
      "Subject: nft\n",
      "Sentiment: positive\n",
      "\n",
      "Prediction:\n",
      "\n",
      "subject: nft\n",
      "sentiment: positive\n",
      "sentiment: positive\n",
      "\n",
      "\n",
      "Example 2\n",
      "\n",
      "Title: Bitcoin Price and Ethereum Prediction: BTC Revisits $30,000 \\x93 Can Both Cryptocurrencies Bounce Back?\n",
      "Text: Bitcoin and Ethereum are two major cryptocurrencies that have gained substantial popularity since the beginning of this year. Ethereum (ETH), the second-most popular cryptocurrency, has recently crossed the $2,000 milestone for the first time since May last year.\n",
      "Subject: altcoin\n",
      "Sentiment: positive\n",
      "\n",
      "Prediction:\n",
      "\n",
      "subject: altcoin\n",
      "sentiment: positive\n",
      "sentiment: positive\n",
      "\n",
      "Example 3\n",
      "\n",
      "Title: Ethereum's Last Test Before the Merge 'Quite Good' Despite 'Confusion'\n",
      "Text: Ethereum's final testnet merge before the blockchain transitions to proof-of-stake (PoS) has ostensibly been successful.\n",
      "Subject: ethereum\n",
      "Sentiment: positive\n",
      "\n",
      "Prediction:\n",
      "\n",
      "subject: ethereum\n",
      "sentiment: positive\n",
      "sentiment: positive\n",
      "\n",
      "Example 4\n",
      "\n",
      "Title: Coinbase CEO Calls for Regulation of Centralized Crypto Entities\n",
      "Text: The demise of FTX has set back crypto by years and this disaster is likely to stir regulators into action.\n",
      "Subject: altcoin\n",
      "Sentiment: positive\n",
      "\n",
      "Prediction:\n",
      "\n",
      "subject: altcoin\n",
      "sentiment: neutral\n",
      "sentiment: neutral\n",
      "\n",
      "Example 5\n",
      "\n",
      "Title: BNB price rallies on news of DOJ-Binance settlement\n",
      "Text: The BNB token defied today’s wider market downturn with a high volume rally, which saw its price hit a 5-month high at $271.90\n",
      "Subject: altcoin\n",
      "Sentiment: positive\n",
      "\n",
      "Prediction:\n",
      "\n",
      "subject: altcoin\n",
      "sentiment: positive\n",
      "sentiment: positive\n",
      "\n",
      "Example 6\n",
      "\n",
      "Title: Bitcoin Price Prediction as BTC Breaks Through $27,000 Barrier \\x93 Here are Price Levels to Watch\n",
      "Text: Bitcoin, the world's largest cryptocurrency by market capitalization, has been making headlines recently as it broke through the $27,000 barrier for the first time. This surge in price has reignited speculation about where Bitcoin is headed next, with many analysts and investors offering their predictions.\n",
      "Subject: altcoin\n",
      "Sentiment: positive\n",
      "\n",
      "Prediction:\n",
      "\n",
      "subject: bitcoin\n",
      "sentiment: positive\n",
      "sentiment: positive\n",
      "\n",
      "Example 7\n",
      "\n",
      "Title: Blur introduces NFT perpetual lending protocol\n",
      "Text: Borrowing positions automatically roll their expiry, and can be refinanced should one party unilaterally decide to terminate.\n",
      "Subject: blockchain\n",
      "Sentiment: negative\n",
      "\n",
      "Prediction:\n",
      "\n",
      "subject: blockchain\n",
      "sentiment: neutral\n",
      "sentiment: neutral\n",
      "\n",
      "\n",
      "Example 8\n",
      "\n",
      "Title: CZ Did Not Put FTX Out of Business: Anthony Scaramucci (Consensus 2023 LIVE)\n",
      "Text: Anthony Scaramucci recaps the week of FTX's collapse, his encounter with Sam Bankman-Fried, and Skybridge's performance ever since. \n",
      "Subject: altcoin\n",
      "Sentiment: neutral\n",
      "\n",
      "Prediction:\n",
      "\n",
      "subject: altcoin\n",
      "sentiment: neutral\n",
      "sentiment: neutral\n",
      "\n",
      "Example 9\n",
      "\n",
      "Title: What happened? Terra debacle exposes flaws plaguing the crypto industry\n",
      "Text: The downfall of Terra calls into question the real-world utility as well as the long-term viability of algorithmic stablecoins.\n",
      "Subject: blockchain\n",
      "Sentiment: neutral\n",
      "\n",
      "Prediction:\n",
      "\n",
      "subject: blockchain\n",
      "sentiment: neutral\n",
      "sentiment: positive\n",
      "\n",
      "\n",
      "Example 10\n",
      "\n",
      "Title: Montana Bill Classifying Crypto as Personal Property Approved by House of Reps\n",
      "Text: Bill number 178 aims to categorize digital assets (cryptocurrencies, stablecoins, and NFTs) as \"personal property.\"\\xa0\n",
      "Subject: nft\n",
      "Sentiment: neutral\n",
      "\n",
      "Prediction:\n",
      "\n",
      "subject: nft\n",
      "sentiment: neutral\n",
      "sentiment: neutral\n",
      "\n",
      "\n"
     ]
    }
   ],
   "source": [
    "for i in range(10):\n",
    "    example = dataset[\"test\"][i]\n",
    "    print(f\"Example {i+1}\\n\")\n",
    "    text = inspect.cleandoc(f\"\"\"\n",
    "        Title: {example[\"title\"]}\n",
    "        Text: {example[\"text\"]}\n",
    "        Subject: {example[\"subject\"]}\n",
    "        Sentiment: {example[\"sentiment\"]}\n",
    "    \"\"\")\n",
    "    print(text)\n",
    "    print(\"\\nPrediction:\")\n",
    "    outputs = pipe(format_for_prediction(example))\n",
    "    print(outputs[0][\"generated_text\"])\n",
    "    print()"
   ]
  },
  {
   "cell_type": "code",
   "execution_count": 20,
   "id": "ca4277d1-47f4-4e74-8ca6-fb22aebb48cd",
   "metadata": {},
   "outputs": [
    {
     "name": "stderr",
     "output_type": "stream",
     "text": [
      "  8%|███████████▊                                                                                                                                        | 99/1242 [01:28<16:26,  1.16it/s]"
     ]
    },
    {
     "name": "stdout",
     "output_type": "stream",
     "text": [
      "error parts - ['ethereum ethereum ethereum ethereum ethereum eth']\n"
     ]
    },
    {
     "name": "stderr",
     "output_type": "stream",
     "text": [
      " 56%|██████████████████████████████████████████████████████████████████████████████████▊                                                                | 700/1242 [10:46<08:12,  1.10it/s]"
     ]
    },
    {
     "name": "stdout",
     "output_type": "stream",
     "text": [
      "error parts - ['defi blockchain blockchain blockchain defi defi defi defi']\n"
     ]
    },
    {
     "name": "stderr",
     "output_type": "stream",
     "text": [
      "100%|██████████████████████████████████████████████████████████████████████████████████████████████████████████████████████████████████████████████████| 1242/1242 [19:08<00:00,  1.08it/s]\n"
     ]
    }
   ],
   "source": [
    "import re\n",
    "from tqdm import tqdm\n",
    "\n",
    "rows = []\n",
    "for i in tqdm(range(len(dataset[\"test\"]))):\n",
    "    try:\n",
    "        example = dataset[\"test\"][i]\n",
    "        outputs = pipe(format_for_prediction(example))\n",
    "        text = outputs[0][\"generated_text\"]\n",
    "        parts = re.split(r'[:\\n]', text.strip())\n",
    "        subject, sentiment = parts[1].strip(), parts[3].strip()\n",
    "    \n",
    "        rows.append({\n",
    "            \"title\": example[\"title\"],\n",
    "            \"text\": example[\"text\"],\n",
    "            \"true_subject\": example[\"subject\"],\n",
    "            \"true_sentiment\": example[\"sentiment\"],\n",
    "            \"pred_subject\": subject,\n",
    "            \"pred_sentiment\": sentiment\n",
    "        })\n",
    "    except:\n",
    "        print(f\"error parts - {parts}\")"
   ]
  },
  {
   "cell_type": "code",
   "execution_count": 21,
   "id": "e5ea3519-0f66-4c70-b52d-34ded9bb688d",
   "metadata": {},
   "outputs": [
    {
     "data": {
      "text/html": [
       "<div>\n",
       "<style scoped>\n",
       "    .dataframe tbody tr th:only-of-type {\n",
       "        vertical-align: middle;\n",
       "    }\n",
       "\n",
       "    .dataframe tbody tr th {\n",
       "        vertical-align: top;\n",
       "    }\n",
       "\n",
       "    .dataframe thead th {\n",
       "        text-align: right;\n",
       "    }\n",
       "</style>\n",
       "<table border=\"1\" class=\"dataframe\">\n",
       "  <thead>\n",
       "    <tr style=\"text-align: right;\">\n",
       "      <th></th>\n",
       "      <th>title</th>\n",
       "      <th>text</th>\n",
       "      <th>true_subject</th>\n",
       "      <th>true_sentiment</th>\n",
       "      <th>pred_subject</th>\n",
       "      <th>pred_sentiment</th>\n",
       "    </tr>\n",
       "  </thead>\n",
       "  <tbody>\n",
       "    <tr>\n",
       "      <th>0</th>\n",
       "      <td>Binance Research Report Reveals 110% Surge in ...</td>\n",
       "      <td>Positive shift in stablecoin supply, NFT trade...</td>\n",
       "      <td>nft</td>\n",
       "      <td>positive</td>\n",
       "      <td>nft</td>\n",
       "      <td>positive</td>\n",
       "    </tr>\n",
       "    <tr>\n",
       "      <th>1</th>\n",
       "      <td>Bitcoin Price and Ethereum Prediction: BTC Rev...</td>\n",
       "      <td>Bitcoin and Ethereum are two major cryptocurre...</td>\n",
       "      <td>altcoin</td>\n",
       "      <td>positive</td>\n",
       "      <td>altcoin</td>\n",
       "      <td>positive</td>\n",
       "    </tr>\n",
       "    <tr>\n",
       "      <th>2</th>\n",
       "      <td>Ethereum's Last Test Before the Merge 'Quite G...</td>\n",
       "      <td>Ethereum's final testnet merge before the bloc...</td>\n",
       "      <td>ethereum</td>\n",
       "      <td>positive</td>\n",
       "      <td>ethereum</td>\n",
       "      <td>positive</td>\n",
       "    </tr>\n",
       "    <tr>\n",
       "      <th>3</th>\n",
       "      <td>Coinbase CEO Calls for Regulation of Centraliz...</td>\n",
       "      <td>The demise of FTX has set back crypto by years...</td>\n",
       "      <td>altcoin</td>\n",
       "      <td>positive</td>\n",
       "      <td>altcoin</td>\n",
       "      <td>neutral</td>\n",
       "    </tr>\n",
       "    <tr>\n",
       "      <th>4</th>\n",
       "      <td>BNB price rallies on news of DOJ-Binance settl...</td>\n",
       "      <td>The BNB token defied today’s wider market down...</td>\n",
       "      <td>altcoin</td>\n",
       "      <td>positive</td>\n",
       "      <td>altcoin</td>\n",
       "      <td>positive</td>\n",
       "    </tr>\n",
       "  </tbody>\n",
       "</table>\n",
       "</div>"
      ],
      "text/plain": [
       "                                               title  \\\n",
       "0  Binance Research Report Reveals 110% Surge in ...   \n",
       "1  Bitcoin Price and Ethereum Prediction: BTC Rev...   \n",
       "2  Ethereum's Last Test Before the Merge 'Quite G...   \n",
       "3  Coinbase CEO Calls for Regulation of Centraliz...   \n",
       "4  BNB price rallies on news of DOJ-Binance settl...   \n",
       "\n",
       "                                                text true_subject  \\\n",
       "0  Positive shift in stablecoin supply, NFT trade...          nft   \n",
       "1  Bitcoin and Ethereum are two major cryptocurre...      altcoin   \n",
       "2  Ethereum's final testnet merge before the bloc...     ethereum   \n",
       "3  The demise of FTX has set back crypto by years...      altcoin   \n",
       "4  The BNB token defied today’s wider market down...      altcoin   \n",
       "\n",
       "  true_sentiment pred_subject pred_sentiment  \n",
       "0       positive          nft       positive  \n",
       "1       positive      altcoin       positive  \n",
       "2       positive     ethereum       positive  \n",
       "3       positive      altcoin        neutral  \n",
       "4       positive      altcoin       positive  "
      ]
     },
     "execution_count": 21,
     "metadata": {},
     "output_type": "execute_result"
    }
   ],
   "source": [
    "predictions_df = pd.DataFrame(rows)\n",
    "predictions_df.head()"
   ]
  },
  {
   "cell_type": "code",
   "execution_count": 22,
   "id": "fb49c88f-a85f-474a-b5c2-9b7ffa3af16c",
   "metadata": {},
   "outputs": [
    {
     "data": {
      "text/plain": [
       "0.7637096774193548"
      ]
     },
     "execution_count": 22,
     "metadata": {},
     "output_type": "execute_result"
    }
   ],
   "source": [
    "# Prediction accuracy\n",
    "(predictions_df[\"true_subject\"] == predictions_df[\"pred_subject\"]).sum()/len(predictions_df)"
   ]
  },
  {
   "cell_type": "code",
   "execution_count": 37,
   "id": "20368c55-f237-47a7-b3ad-7addf09bbddd",
   "metadata": {},
   "outputs": [
    {
     "data": {
      "image/png": "[encoded data removed]",
      "text/plain": [
       "<Figure size 800x600 with 2 Axes>"
      ]
     },
     "metadata": {},
     "output_type": "display_data"
    }
   ],
   "source": [
    "from sklearn.metrics import confusion_matrix\n",
    "import seaborn as sns\n",
    "\n",
    "labels = predictions_df[\"true_subject\"].unique().tolist()\n",
    "cf_matrix = confusion_matrix(predictions_df[\"true_subject\"], predictions_df[\"pred_subject\"], labels=labels)\n",
    "_ , ax = plt.subplots(figsize=(8,6))\n",
    "sns.heatmap(\n",
    "    cf_matrix,\n",
    "    cmap='Reds',\n",
    "    ax=ax,\n",
    ")\n",
    "ax.set_yticklabels(labels, rotation=0)\n",
    "ax.set_xticklabels(labels, rotation=45);"
   ]
  },
  {
   "cell_type": "code",
   "execution_count": 31,
   "id": "ae07a5b4-6013-432f-bfb9-76182f4becdb",
   "metadata": {},
   "outputs": [
    {
     "data": {
      "text/plain": [
       "0.9209677419354839"
      ]
     },
     "execution_count": 31,
     "metadata": {},
     "output_type": "execute_result"
    }
   ],
   "source": [
    "(predictions_df[\"true_sentiment\"] == predictions_df[\"pred_sentiment\"]).sum()/len(predictions_df)"
   ]
  },
  {
   "cell_type": "code",
   "execution_count": 36,
   "id": "7a297993-6156-48c7-b2b4-bdee60e46d41",
   "metadata": {},
   "outputs": [
    {
     "data": {
      "image/png": "[encoded data removed]",
      "text/plain": [
       "<Figure size 800x600 with 2 Axes>"
      ]
     },
     "metadata": {},
     "output_type": "display_data"
    }
   ],
   "source": [
    "labels = predictions_df[\"true_sentiment\"].unique().tolist()\n",
    "cf_matrix = confusion_matrix(predictions_df[\"true_sentiment\"], predictions_df[\"pred_sentiment\"], labels=labels)\n",
    "_ , ax = plt.subplots(figsize=(8,6))\n",
    "sns.heatmap(\n",
    "    cf_matrix,\n",
    "    cmap='Blues',\n",
    "    ax=ax,\n",
    ")\n",
    "ax.set_yticklabels(labels, rotation=0)\n",
    "ax.set_xticklabels(labels, rotation=45);"
   ]
  },
  {
   "cell_type": "code",
   "execution_count": null,
   "id": "97506971-2e1e-411c-be9d-5bad6359ebf8",
   "metadata": {},
   "outputs": [],
   "source": []
  }
 ],
 "metadata": {
  "kernelspec": {
   "display_name": "Python 3 (ipykernel)",
   "language": "python",
   "name": "python3"
  },
  "language_info": {
   "codemirror_mode": {
    "name": "ipython",
    "version": 3
   },
   "file_extension": ".py",
   "mimetype": "text/x-python",
   "name": "python",
   "nbconvert_exporter": "python",
   "pygments_lexer": "ipython3",
   "version": "3.10.10"
  }
 },
 "nbformat": 4,
 "nbformat_minor": 5
}
