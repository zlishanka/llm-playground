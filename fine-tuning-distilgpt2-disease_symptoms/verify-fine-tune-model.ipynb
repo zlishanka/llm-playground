{
 "cells": [
  {
   "cell_type": "code",
   "execution_count": 3,
   "id": "ebc068a1-fa16-40f7-bf05-af2b1bc58e4f",
   "metadata": {},
   "outputs": [
    {
     "name": "stderr",
     "output_type": "stream",
     "text": [
      "/Users/royzheng/workArea/workspace/llm-playground/env/lib/python3.10/site-packages/huggingface_hub/repocard.py:105: UserWarning: Repo card metadata block was not found. Setting CardData to empty.\n",
      "  warnings.warn(\"Repo card metadata block was not found. Setting CardData to empty.\")\n"
     ]
    }
   ],
   "source": [
    "# Load both pre-trained and fine-tuned models and compare the results\n",
    "import os\n",
    "from dotenv import load_dotenv\n",
    "from datasets import load_dataset, DatasetDict, Dataset \n",
    "import pandas as pd \n",
    "import ast \n",
    "import datasets \n",
    "from tqdm import tqdm \n",
    "import time\n",
    "import torch\n",
    "\n",
    "load_dotenv()\n",
    "access_token = os.getenv(\"ACCESS_TOKEN\")\n",
    "\n",
    "# Load data set from huggingface \n",
    "data_sample = load_dataset(\"QuyenAnhDE/Diseases_Symptoms\")"
   ]
  },
  {
   "cell_type": "code",
   "execution_count": 4,
   "id": "9e2ff534-31ed-41aa-873b-7d5561ebcb4f",
   "metadata": {},
   "outputs": [],
   "source": [
    "from transformers import GPT2Tokenizer, GPT2LMHeadModel \n",
    "\n",
    "# If you have an NVIDIA GPU attached, use 'cuda' \n",
    "if torch.cuda.is_available(): \n",
    "    device = torch.device('cuda') \n",
    "else: # If Apple Silicon, set to 'mps' - otherwise 'cpu' (not advised) \n",
    "    try: \n",
    "        device = torch.device('mps') \n",
    "    except Exception: \n",
    "        device = torch.device('cpu')\n",
    "\n",
    "# The tokenizer turns texts to numbers (and vice-versa) \n",
    "base_tokenizer = GPT2Tokenizer.from_pretrained('distilgpt2') \n",
    "# The transformer \n",
    "base_model = GPT2LMHeadModel.from_pretrained('distilgpt2').to(device)"
   ]
  },
  {
   "cell_type": "code",
   "execution_count": 7,
   "id": "ffb5ef62-4a6c-4afc-9b1f-cfdba03e658d",
   "metadata": {},
   "outputs": [
    {
     "name": "stderr",
     "output_type": "stream",
     "text": [
      "The attention mask and the pad token id were not set. As a consequence, you may observe unexpected behavior. Please pass your input's `attention_mask` to obtain reliable results.\n",
      "Setting `pad_token_id` to `eos_token_id`:50256 for open-end generation.\n"
     ]
    },
    {
     "name": "stdout",
     "output_type": "stream",
     "text": [
      "Fetal Alcohol Syndrome, and the Development of Chronic Fatigue. The authors declare no conflict between\n"
     ]
    }
   ],
   "source": [
    "# Test base GPT2 model\n",
    "input_str = \"Fetal Alcohol Syndrome\" \n",
    "input_ids = base_tokenizer.encode(input_str, return_tensors='pt').to(device) \n",
    "output = base_model.generate( input_ids, max_length=20, num_return_sequences=1, \\\n",
    "                        do_sample=True, top_k=8, top_p=0.95, temperature=0.5, repetition_penalty=1.2 ) \n",
    "decoded_output = base_tokenizer.decode(output[0], skip_special_tokens=True) \n",
    "print(decoded_output)"
   ]
  },
  {
   "cell_type": "code",
   "execution_count": 9,
   "id": "da580cf6-2f1e-49be-b92e-7c4bee0a2ffd",
   "metadata": {},
   "outputs": [
    {
     "data": {
      "application/vnd.jupyter.widget-view+json": {
       "model_id": "f398e76e62994aacb9e03d95d0a88afd",
       "version_major": 2,
       "version_minor": 0
      },
      "text/plain": [
       "config.json:   0%|          | 0.00/1.01k [00:00<?, ?B/s]"
      ]
     },
     "metadata": {},
     "output_type": "display_data"
    },
    {
     "data": {
      "application/vnd.jupyter.widget-view+json": {
       "model_id": "ebd00b7d6ab14971a9f520f3ea5c362c",
       "version_major": 2,
       "version_minor": 0
      },
      "text/plain": [
       "model.safetensors:   0%|          | 0.00/328M [00:00<?, ?B/s]"
      ]
     },
     "metadata": {},
     "output_type": "display_data"
    },
    {
     "data": {
      "application/vnd.jupyter.widget-view+json": {
       "model_id": "67b1889ca86e4469b31cf38bb4814f4d",
       "version_major": 2,
       "version_minor": 0
      },
      "text/plain": [
       "generation_config.json:   0%|          | 0.00/119 [00:00<?, ?B/s]"
      ]
     },
     "metadata": {},
     "output_type": "display_data"
    }
   ],
   "source": [
    "# Test fine-tuned model\n",
    "#tune_tokenizer = GPT2Tokenizer.from_pretrained('zheng438/distilgpt2-disease-syptom')\n",
    "# The transformer \n",
    "tune_model = GPT2LMHeadModel.from_pretrained('zheng438/distilgpt2-disease-syptom').to(device)"
   ]
  },
  {
   "cell_type": "code",
   "execution_count": 16,
   "id": "3ae85285-ef6e-455d-8aa7-8cc930209de9",
   "metadata": {},
   "outputs": [
    {
     "name": "stderr",
     "output_type": "stream",
     "text": [
      "The attention mask and the pad token id were not set. As a consequence, you may observe unexpected behavior. Please pass your input's `attention_mask` to obtain reliable results.\n",
      "Setting `pad_token_id` to `eos_token_id`:50256 for open-end generation.\n"
     ]
    },
    {
     "name": "stdout",
     "output_type": "stream",
     "text": [
      "predicting 0 ...\n"
     ]
    },
    {
     "name": "stderr",
     "output_type": "stream",
     "text": [
      "The attention mask and the pad token id were not set. As a consequence, you may observe unexpected behavior. Please pass your input's `attention_mask` to obtain reliable results.\n",
      "Setting `pad_token_id` to `eos_token_id`:50256 for open-end generation.\n"
     ]
    },
    {
     "name": "stdout",
     "output_type": "stream",
     "text": [
      "done 0.\n",
      "result differs on id=0, output=Panic disorder | Palpitations, Sweating, Trembling, Shortness of breath,, expected=Palpitations, Sweating, Trembling, Shortness of breath, Fear of losing control, Dizziness\n",
      "predicting 1 ...\n"
     ]
    },
    {
     "name": "stderr",
     "output_type": "stream",
     "text": [
      "The attention mask and the pad token id were not set. As a consequence, you may observe unexpected behavior. Please pass your input's `attention_mask` to obtain reliable results.\n",
      "Setting `pad_token_id` to `eos_token_id`:50256 for open-end generation.\n"
     ]
    },
    {
     "name": "stdout",
     "output_type": "stream",
     "text": [
      "done 1.\n",
      "result differs on id=1, output=Vocal cord polyp | Shortness of breath, especially during physical activity or exertion, chest, expected=Hoarseness, Vocal Changes, Vocal Fatigue\n",
      "predicting 2 ...\n"
     ]
    },
    {
     "name": "stderr",
     "output_type": "stream",
     "text": [
      "The attention mask and the pad token id were not set. As a consequence, you may observe unexpected behavior. Please pass your input's `attention_mask` to obtain reliable results.\n",
      "Setting `pad_token_id` to `eos_token_id`:50256 for open-end generation.\n"
     ]
    },
    {
     "name": "stdout",
     "output_type": "stream",
     "text": [
      "done 2.\n",
      "result differs on id=2, output=Turner syndrome | Double vision, Eye fatigue, Poor depth perception of light, Head tilting, expected=Short stature, Gonadal dysgenesis, Webbed neck, Lymphedema\n",
      "predicting 3 ...\n"
     ]
    },
    {
     "name": "stderr",
     "output_type": "stream",
     "text": [
      "The attention mask and the pad token id were not set. As a consequence, you may observe unexpected behavior. Please pass your input's `attention_mask` to obtain reliable results.\n",
      "Setting `pad_token_id` to `eos_token_id`:50256 for open-end generation.\n"
     ]
    },
    {
     "name": "stdout",
     "output_type": "stream",
     "text": [
      "done 3.\n",
      "result differs on id=3, output=Cryptorchidism | Absence or undescended testicle(s), empty scrotum, expected=Absence or undescended testicle(s), empty scrotum, smaller or underdeveloped testicle(s), inguinal hernia, abnormal positioning of the testicle(s) (higher in the groin area)\n",
      "predicting 4 ...\n"
     ]
    },
    {
     "name": "stderr",
     "output_type": "stream",
     "text": [
      "The attention mask and the pad token id were not set. As a consequence, you may observe unexpected behavior. Please pass your input's `attention_mask` to obtain reliable results.\n",
      "Setting `pad_token_id` to `eos_token_id`:50256 for open-end generation.\n"
     ]
    },
    {
     "name": "stdout",
     "output_type": "stream",
     "text": [
      "done 4.\n",
      "result differs on id=4, output=Ethylene glycol poisoning-1 | Nausea, vomiting followed by purging the digestive tract, expected=Nausea, vomiting, abdominal pain, General malaise, weakness, Increased thirst, frequent urination\n",
      "predicting 5 ...\n"
     ]
    },
    {
     "name": "stderr",
     "output_type": "stream",
     "text": [
      "The attention mask and the pad token id were not set. As a consequence, you may observe unexpected behavior. Please pass your input's `attention_mask` to obtain reliable results.\n",
      "Setting `pad_token_id` to `eos_token_id`:50256 for open-end generation.\n"
     ]
    },
    {
     "name": "stdout",
     "output_type": "stream",
     "text": [
      "done 5.\n",
      "result differs on id=5, output=Ethylene glycol poisoning-2 | Metabolic acidosis, apid breathing, rapid heartbe, expected=Metabolic acidosis, apid breathing, rapid heart rate, confusion, headache, dizziness, seizures\n",
      "predicting 6 ...\n"
     ]
    },
    {
     "name": "stderr",
     "output_type": "stream",
     "text": [
      "The attention mask and the pad token id were not set. As a consequence, you may observe unexpected behavior. Please pass your input's `attention_mask` to obtain reliable results.\n",
      "Setting `pad_token_id` to `eos_token_id`:50256 for open-end generation.\n"
     ]
    },
    {
     "name": "stdout",
     "output_type": "stream",
     "text": [
      "done 6.\n",
      "result differs on id=6, output=Ethylene glycol poisoning-3 | Decreased urine output, swelling in the legs and ankles,, expected=Decreased urine output, swelling in the legs and ankles, and signs of fluid overload, Severe kidney damage\n",
      "predicting 7 ...\n"
     ]
    },
    {
     "name": "stderr",
     "output_type": "stream",
     "text": [
      "The attention mask and the pad token id were not set. As a consequence, you may observe unexpected behavior. Please pass your input's `attention_mask` to obtain reliable results.\n",
      "Setting `pad_token_id` to `eos_token_id`:50256 for open-end generation.\n"
     ]
    },
    {
     "name": "stdout",
     "output_type": "stream",
     "text": [
      "done 7.\n",
      "result differs on id=7, output=Atrophic vaginitis | Vaginal dryness, Vaginal burning, frequent urination, urinary, expected=Vaginal dryness, Vaginal burning, frequent urination, urinary tract infections, Painful intercourse\n",
      "predicting 8 ...\n"
     ]
    },
    {
     "name": "stderr",
     "output_type": "stream",
     "text": [
      "The attention mask and the pad token id were not set. As a consequence, you may observe unexpected behavior. Please pass your input's `attention_mask` to obtain reliable results.\n",
      "Setting `pad_token_id` to `eos_token_id`:50256 for open-end generation.\n"
     ]
    },
    {
     "name": "stdout",
     "output_type": "stream",
     "text": [
      "done 8.\n",
      "result differs on id=8, output=Fracture of the Shoulder | Shoulder pain, swelling, limited range of motion, expected=Pain, Swelling, Bruising, Deformity, Difficulty moving, Loss of function\n",
      "predicting 9 ...\n"
     ]
    },
    {
     "name": "stderr",
     "output_type": "stream",
     "text": [
      "The attention mask and the pad token id were not set. As a consequence, you may observe unexpected behavior. Please pass your input's `attention_mask` to obtain reliable results.\n",
      "Setting `pad_token_id` to `eos_token_id`:50256 for open-end generation.\n"
     ]
    },
    {
     "name": "stdout",
     "output_type": "stream",
     "text": [
      "done 9.\n",
      "result differs on id=9, output=Cellulitis | Redness, Pain, tenderness, Swelling, Skin changes, Lymph, expected=Redness, Pain, tenderness, Swelling, Skin changes, Lymph node enlargement\n",
      "predicting 10 ...\n"
     ]
    },
    {
     "name": "stderr",
     "output_type": "stream",
     "text": [
      "The attention mask and the pad token id were not set. As a consequence, you may observe unexpected behavior. Please pass your input's `attention_mask` to obtain reliable results.\n",
      "Setting `pad_token_id` to `eos_token_id`:50256 for open-end generation.\n"
     ]
    },
    {
     "name": "stdout",
     "output_type": "stream",
     "text": [
      "done 10.\n",
      "result differs on id=10, output=Eye alignment disorder | Double vision, Eye fatigue, Poor depth perception, Head tilting, expected=Double vision, Eye fatigue, Poor depth perception, Head tilting\n",
      "predicting 11 ...\n"
     ]
    },
    {
     "name": "stderr",
     "output_type": "stream",
     "text": [
      "The attention mask and the pad token id were not set. As a consequence, you may observe unexpected behavior. Please pass your input's `attention_mask` to obtain reliable results.\n",
      "Setting `pad_token_id` to `eos_token_id`:50256 for open-end generation.\n"
     ]
    },
    {
     "name": "stdout",
     "output_type": "stream",
     "text": [
      "done 11.\n",
      "result differs on id=11, output=Headache after lumbar puncture | throbbing headache, expected=throbbing headache\n",
      "predicting 12 ...\n"
     ]
    },
    {
     "name": "stderr",
     "output_type": "stream",
     "text": [
      "The attention mask and the pad token id were not set. As a consequence, you may observe unexpected behavior. Please pass your input's `attention_mask` to obtain reliable results.\n",
      "Setting `pad_token_id` to `eos_token_id`:50256 for open-end generation.\n"
     ]
    },
    {
     "name": "stdout",
     "output_type": "stream",
     "text": [
      "done 12.\n",
      "result differs on id=12, output=Pyloric stenosis | Persistent hunger, Weight loss, Dehydration, Visible per, expected=Persistent hunger, Weight loss, Dehydration, Visible peristalsis, Palpable mass, Fussiness \n",
      "predicting 13 ...\n"
     ]
    },
    {
     "name": "stderr",
     "output_type": "stream",
     "text": [
      "The attention mask and the pad token id were not set. As a consequence, you may observe unexpected behavior. Please pass your input's `attention_mask` to obtain reliable results.\n",
      "Setting `pad_token_id` to `eos_token_id`:50256 for open-end generation.\n"
     ]
    },
    {
     "name": "stdout",
     "output_type": "stream",
     "text": [
      "done 13.\n",
      "result differs on id=13, output=Adenoid cystic carcinoma | Lump, swelling, Facial numbness, tingling, expected=Lump, swelling, Facial numbness, tingling\n",
      "predicting 14 ...\n"
     ]
    },
    {
     "name": "stderr",
     "output_type": "stream",
     "text": [
      "The attention mask and the pad token id were not set. As a consequence, you may observe unexpected behavior. Please pass your input's `attention_mask` to obtain reliable results.\n",
      "Setting `pad_token_id` to `eos_token_id`:50256 for open-end generation.\n",
      "The attention mask and the pad token id were not set. As a consequence, you may observe unexpected behavior. Please pass your input's `attention_mask` to obtain reliable results.\n",
      "Setting `pad_token_id` to `eos_token_id`:50256 for open-end generation.\n"
     ]
    },
    {
     "name": "stdout",
     "output_type": "stream",
     "text": [
      "done 14.\n",
      "result differs on id=14, output=Pleomorphic adenoma | Painless lump or swelling, Facial changes, expected=Painless lump or swelling, Facial changes\n",
      "predicting 15 ...\n",
      "done 15.\n",
      "result differs on id=15, output=Warthin tumor | Painless lump or swelling, Facial changes, expected=Painless lump or swelling, Facial changes\n",
      "predicting 16 ...\n"
     ]
    },
    {
     "name": "stderr",
     "output_type": "stream",
     "text": [
      "The attention mask and the pad token id were not set. As a consequence, you may observe unexpected behavior. Please pass your input's `attention_mask` to obtain reliable results.\n",
      "Setting `pad_token_id` to `eos_token_id`:50256 for open-end generation.\n",
      "The attention mask and the pad token id were not set. As a consequence, you may observe unexpected behavior. Please pass your input's `attention_mask` to obtain reliable results.\n",
      "Setting `pad_token_id` to `eos_token_id`:50256 for open-end generation.\n"
     ]
    },
    {
     "name": "stdout",
     "output_type": "stream",
     "text": [
      "done 16.\n",
      "result differs on id=16, output=Mucoepidermoid carcinoma | Lump, swelling, Difficulty, pain when swallowing and speaking, expected=Lump, swelling, Difficulty, pain when swallowing and speaking, Facial weakness, Facial paralysis \n",
      "predicting 17 ...\n",
      "done 17.\n",
      "result differs on id=17, output=Acinic cell carcinoma | Lump, swelling, Facial changes, expected=Lump, swelling, Facial changes\n",
      "predicting 18 ...\n"
     ]
    },
    {
     "name": "stderr",
     "output_type": "stream",
     "text": [
      "The attention mask and the pad token id were not set. As a consequence, you may observe unexpected behavior. Please pass your input's `attention_mask` to obtain reliable results.\n",
      "Setting `pad_token_id` to `eos_token_id`:50256 for open-end generation.\n"
     ]
    },
    {
     "name": "stdout",
     "output_type": "stream",
     "text": [
      "done 18.\n",
      "result differs on id=18, output=Mucocele | Painless fluid-filled swelling in the oral cavity, expected=Painless fluid-filled swelling in the oral cavity\n",
      "predicting 19 ...\n"
     ]
    },
    {
     "name": "stderr",
     "output_type": "stream",
     "text": [
      "The attention mask and the pad token id were not set. As a consequence, you may observe unexpected behavior. Please pass your input's `attention_mask` to obtain reliable results.\n",
      "Setting `pad_token_id` to `eos_token_id`:50256 for open-end generation.\n",
      "The attention mask and the pad token id were not set. As a consequence, you may observe unexpected behavior. Please pass your input's `attention_mask` to obtain reliable results.\n",
      "Setting `pad_token_id` to `eos_token_id`:50256 for open-end generation.\n"
     ]
    },
    {
     "name": "stdout",
     "output_type": "stream",
     "text": [
      "done 19.\n",
      "result differs on id=19, output=Osteochondrosis | Joint pain, stiffness, swelling, reduced range of motion, expected=Joint pain, stiffness, swelling, reduced range of motion\n",
      "predicting 20 ...\n",
      "done 20.\n",
      "result differs on id=20, output=Sialolithiasis | Swelling, pain, tenderness, difficulty eating, expected=Swelling, pain, tenderness, difficulty eating\n",
      "predicting 21 ...\n"
     ]
    },
    {
     "name": "stderr",
     "output_type": "stream",
     "text": [
      "The attention mask and the pad token id were not set. As a consequence, you may observe unexpected behavior. Please pass your input's `attention_mask` to obtain reliable results.\n",
      "Setting `pad_token_id` to `eos_token_id`:50256 for open-end generation.\n"
     ]
    },
    {
     "name": "stdout",
     "output_type": "stream",
     "text": [
      "done 21.\n",
      "result differs on id=21, output=Submandibular stones | Swelling, pain, dry mouth, bad taste, expected=Swelling, pain, dry mouth, bad taste\n",
      "predicting 22 ...\n"
     ]
    },
    {
     "name": "stderr",
     "output_type": "stream",
     "text": [
      "The attention mask and the pad token id were not set. As a consequence, you may observe unexpected behavior. Please pass your input's `attention_mask` to obtain reliable results.\n",
      "Setting `pad_token_id` to `eos_token_id`:50256 for open-end generation.\n",
      "The attention mask and the pad token id were not set. As a consequence, you may observe unexpected behavior. Please pass your input's `attention_mask` to obtain reliable results.\n",
      "Setting `pad_token_id` to `eos_token_id`:50256 for open-end generation.\n"
     ]
    },
    {
     "name": "stdout",
     "output_type": "stream",
     "text": [
      "done 22.\n",
      "result differs on id=22, output=Parotid stones | Nausea, vomiting, abdominal pain or cramps, fever, confusion, expected=Swelling, pain, dry mouth, bad taste\n",
      "predicting 23 ...\n",
      "done 23.\n",
      "result differs on id=23, output=Recurrent salivary stones | Frequent episodes of stone formation, expected=Frequent episodes of stone formation\n",
      "predicting 24 ...\n"
     ]
    },
    {
     "name": "stderr",
     "output_type": "stream",
     "text": [
      "The attention mask and the pad token id were not set. As a consequence, you may observe unexpected behavior. Please pass your input's `attention_mask` to obtain reliable results.\n",
      "Setting `pad_token_id` to `eos_token_id`:50256 for open-end generation.\n"
     ]
    },
    {
     "name": "stdout",
     "output_type": "stream",
     "text": [
      "done 24.\n",
      "result differs on id=24, output=Wharton's duct stones | Swelling, pain, dry mouth, bad taste, expected=Swelling, pain, dry mouth, bad taste\n",
      "predicting 25 ...\n"
     ]
    },
    {
     "name": "stderr",
     "output_type": "stream",
     "text": [
      "The attention mask and the pad token id were not set. As a consequence, you may observe unexpected behavior. Please pass your input's `attention_mask` to obtain reliable results.\n",
      "Setting `pad_token_id` to `eos_token_id`:50256 for open-end generation.\n"
     ]
    },
    {
     "name": "stdout",
     "output_type": "stream",
     "text": [
      "done 25.\n",
      "result differs on id=25, output=Mumps | Swollen salivary glands (usually parotid), fever, headache, fatigue, expected=Swollen salivary glands (usually parotid), fever, headache, fatigue\n",
      "predicting 26 ...\n"
     ]
    },
    {
     "name": "stderr",
     "output_type": "stream",
     "text": [
      "The attention mask and the pad token id were not set. As a consequence, you may observe unexpected behavior. Please pass your input's `attention_mask` to obtain reliable results.\n",
      "Setting `pad_token_id` to `eos_token_id`:50256 for open-end generation.\n",
      "The attention mask and the pad token id were not set. As a consequence, you may observe unexpected behavior. Please pass your input's `attention_mask` to obtain reliable results.\n",
      "Setting `pad_token_id` to `eos_token_id`:50256 for open-end generation.\n"
     ]
    },
    {
     "name": "stdout",
     "output_type": "stream",
     "text": [
      "done 26.\n",
      "result differs on id=26, output=Ludwig's angina | Severe swelling of the eyelid, fever, difficulty swallowing,, expected=Severe swelling of the floor of the mouth, fever, difficulty swallowing, drooling\n",
      "predicting 27 ...\n",
      "done 27.\n",
      "result differs on id=27, output=Mucocele | Painless fluid-filled swelling in the oral cavity, expected=Painless swelling, usually on the lower lip or floor of the mouth\n",
      "predicting 28 ...\n"
     ]
    },
    {
     "name": "stderr",
     "output_type": "stream",
     "text": [
      "The attention mask and the pad token id were not set. As a consequence, you may observe unexpected behavior. Please pass your input's `attention_mask` to obtain reliable results.\n",
      "Setting `pad_token_id` to `eos_token_id`:50256 for open-end generation.\n"
     ]
    },
    {
     "name": "stdout",
     "output_type": "stream",
     "text": [
      "done 28.\n",
      "result differs on id=28, output=Abscess | Swelling, pain, redness, fever, pus formation, expected=Swelling, pain, redness, fever, pus formation\n",
      "predicting 29 ...\n"
     ]
    },
    {
     "name": "stderr",
     "output_type": "stream",
     "text": [
      "The attention mask and the pad token id were not set. As a consequence, you may observe unexpected behavior. Please pass your input's `attention_mask` to obtain reliable results.\n",
      "Setting `pad_token_id` to `eos_token_id`:50256 for open-end generation.\n",
      "The attention mask and the pad token id were not set. As a consequence, you may observe unexpected behavior. Please pass your input's `attention_mask` to obtain reliable results.\n",
      "Setting `pad_token_id` to `eos_token_id`:50256 for open-end generation.\n"
     ]
    },
    {
     "name": "stdout",
     "output_type": "stream",
     "text": [
      "done 29.\n",
      "result differs on id=29, output=Sjögren's syndrome | Dry mouth and eyes, fatigue, joint pain, dry skin, expected=Dry mouth and eyes, fatigue, joint pain, dry skin\n",
      "predicting 30 ...\n",
      "done 30.\n",
      "result differs on id=30, output=Open-Angle Glaucoma | Gradual loss of peripheral vision, tunnel vision, expected=Gradual loss of peripheral vision, tunnel vision\n",
      "predicting 31 ...\n"
     ]
    },
    {
     "name": "stderr",
     "output_type": "stream",
     "text": [
      "The attention mask and the pad token id were not set. As a consequence, you may observe unexpected behavior. Please pass your input's `attention_mask` to obtain reliable results.\n",
      "Setting `pad_token_id` to `eos_token_id`:50256 for open-end generation.\n",
      "The attention mask and the pad token id were not set. As a consequence, you may observe unexpected behavior. Please pass your input's `attention_mask` to obtain reliable results.\n",
      "Setting `pad_token_id` to `eos_token_id`:50256 for open-end generation.\n"
     ]
    },
    {
     "name": "stdout",
     "output_type": "stream",
     "text": [
      "done 31.\n",
      "result differs on id=31, output=Angle-Closure Glaucoma | Severe eye pain, headache, blurred vision, hal, expected=Severe eye pain, headache, blurred vision, halos around lights, nausea and vomiting\n",
      "predicting 32 ...\n",
      "done 32.\n",
      "result differs on id=32, output=Normal-Tension Glaucoma | Gradual loss of vision, visual field defects, expected=Gradual loss of vision, visual field defects\n",
      "predicting 33 ...\n"
     ]
    },
    {
     "name": "stderr",
     "output_type": "stream",
     "text": [
      "The attention mask and the pad token id were not set. As a consequence, you may observe unexpected behavior. Please pass your input's `attention_mask` to obtain reliable results.\n",
      "Setting `pad_token_id` to `eos_token_id`:50256 for open-end generation.\n"
     ]
    },
    {
     "name": "stdout",
     "output_type": "stream",
     "text": [
      "done 33.\n",
      "result differs on id=33, output=Congenital Glaucoma | Cloudy or hazy eyes, excessive tearing, sensitivity to, expected=Cloudy or hazy eyes, excessive tearing, sensitivity to light\n",
      "predicting 34 ...\n"
     ]
    },
    {
     "name": "stderr",
     "output_type": "stream",
     "text": [
      "The attention mask and the pad token id were not set. As a consequence, you may observe unexpected behavior. Please pass your input's `attention_mask` to obtain reliable results.\n",
      "Setting `pad_token_id` to `eos_token_id`:50256 for open-end generation.\n",
      "The attention mask and the pad token id were not set. As a consequence, you may observe unexpected behavior. Please pass your input's `attention_mask` to obtain reliable results.\n",
      "Setting `pad_token_id` to `eos_token_id`:50256 for open-end generation.\n"
     ]
    },
    {
     "name": "stdout",
     "output_type": "stream",
     "text": [
      "done 34.\n",
      "result differs on id=34, output=Secondary Glaucoma | Sudden vision loss or blurry vision, halos around lights, expected=Varies depending on the underlying cause\n",
      "predicting 35 ...\n",
      "done 35.\n",
      "result differs on id=35, output=Pigmentary Glaucoma | Blurred vision, halos around lights, eye pain, expected=Blurred vision, halos around lights, eye pain\n",
      "predicting 36 ...\n"
     ]
    },
    {
     "name": "stderr",
     "output_type": "stream",
     "text": [
      "The attention mask and the pad token id were not set. As a consequence, you may observe unexpected behavior. Please pass your input's `attention_mask` to obtain reliable results.\n",
      "Setting `pad_token_id` to `eos_token_id`:50256 for open-end generation.\n",
      "The attention mask and the pad token id were not set. As a consequence, you may observe unexpected behavior. Please pass your input's `attention_mask` to obtain reliable results.\n",
      "Setting `pad_token_id` to `eos_token_id`:50256 for open-end generation.\n"
     ]
    },
    {
     "name": "stdout",
     "output_type": "stream",
     "text": [
      "done 36.\n",
      "result differs on id=36, output=Exfoliation Glaucoma | Elevated intraocular pressure, visual field loss, expected=Elevated intraocular pressure, visual field loss\n",
      "predicting 37 ...\n",
      "done 37.\n",
      "result differs on id=37, output=Ocular Hypertension | Elevated intraocular pressure without optic nerve damage, expected=Elevated intraocular pressure without optic nerve damage\n",
      "predicting 38 ...\n"
     ]
    },
    {
     "name": "stderr",
     "output_type": "stream",
     "text": [
      "The attention mask and the pad token id were not set. As a consequence, you may observe unexpected behavior. Please pass your input's `attention_mask` to obtain reliable results.\n",
      "Setting `pad_token_id` to `eos_token_id`:50256 for open-end generation.\n"
     ]
    },
    {
     "name": "stdout",
     "output_type": "stream",
     "text": [
      "done 38.\n",
      "result differs on id=38, output=Low-Tension Glaucoma | Gradual loss of vision, visual field defects, expected=Gradual loss of vision, visual field defects\n",
      "predicting 39 ...\n"
     ]
    },
    {
     "name": "stderr",
     "output_type": "stream",
     "text": [
      "The attention mask and the pad token id were not set. As a consequence, you may observe unexpected behavior. Please pass your input's `attention_mask` to obtain reliable results.\n",
      "Setting `pad_token_id` to `eos_token_id`:50256 for open-end generation.\n"
     ]
    },
    {
     "name": "stdout",
     "output_type": "stream",
     "text": [
      "done 39.\n",
      "result differs on id=39, output=Anorexia Nervosa | Extreme weight loss, fear of gaining weight, distorted body image, expected=Extreme weight loss, fear of gaining weight, distorted body image\n",
      "predicting 40 ...\n"
     ]
    },
    {
     "name": "stderr",
     "output_type": "stream",
     "text": [
      "The attention mask and the pad token id were not set. As a consequence, you may observe unexpected behavior. Please pass your input's `attention_mask` to obtain reliable results.\n",
      "Setting `pad_token_id` to `eos_token_id`:50256 for open-end generation.\n",
      "The attention mask and the pad token id were not set. As a consequence, you may observe unexpected behavior. Please pass your input's `attention_mask` to obtain reliable results.\n",
      "Setting `pad_token_id` to `eos_token_id`:50256 for open-end generation.\n"
     ]
    },
    {
     "name": "stdout",
     "output_type": "stream",
     "text": [
      "done 40.\n",
      "result differs on id=40, output=Bulimia Nervosa | Recurrent episodes of binge eating followed by purging behaviors, expected=Recurrent episodes of binge eating followed by purging behaviors\n",
      "predicting 41 ...\n",
      "done 41.\n",
      "result differs on id=41, output=Binge Eating Disorder | Recurrent episodes of binge eating without compensatory behaviors, expected=Recurrent episodes of binge eating without compensatory behaviors\n",
      "predicting 42 ...\n"
     ]
    },
    {
     "name": "stderr",
     "output_type": "stream",
     "text": [
      "The attention mask and the pad token id were not set. As a consequence, you may observe unexpected behavior. Please pass your input's `attention_mask` to obtain reliable results.\n",
      "Setting `pad_token_id` to `eos_token_id`:50256 for open-end generation.\n"
     ]
    },
    {
     "name": "stdout",
     "output_type": "stream",
     "text": [
      "done 42.\n",
      "result differs on id=42, output=Avoidant/Restrictive Food Intake Disorder (ARFID) | Avoidance or restriction of, expected=Avoidance or restriction of certain foods or entire food groups, significant weight loss or failure to gain weight\n",
      "predicting 43 ...\n"
     ]
    },
    {
     "name": "stderr",
     "output_type": "stream",
     "text": [
      "The attention mask and the pad token id were not set. As a consequence, you may observe unexpected behavior. Please pass your input's `attention_mask` to obtain reliable results.\n",
      "Setting `pad_token_id` to `eos_token_id`:50256 for open-end generation.\n"
     ]
    },
    {
     "name": "stdout",
     "output_type": "stream",
     "text": [
      "done 43.\n",
      "result differs on id=43, output=Other Specified Feeding or Eating Disorder (OSFED) | Difficulty feeding or staying asleep,, expected=Symptoms that do not meet the full criteria for a specific eating disorder\n",
      "predicting 44 ...\n"
     ]
    },
    {
     "name": "stderr",
     "output_type": "stream",
     "text": [
      "The attention mask and the pad token id were not set. As a consequence, you may observe unexpected behavior. Please pass your input's `attention_mask` to obtain reliable results.\n",
      "Setting `pad_token_id` to `eos_token_id`:50256 for open-end generation.\n",
      "The attention mask and the pad token id were not set. As a consequence, you may observe unexpected behavior. Please pass your input's `attention_mask` to obtain reliable results.\n",
      "Setting `pad_token_id` to `eos_token_id`:50256 for open-end generation.\n"
     ]
    },
    {
     "name": "stdout",
     "output_type": "stream",
     "text": [
      "done 44.\n",
      "result differs on id=44, output=Orthorexia Nervosa | Obsessive focus on \"clean\" eating, healthy food, expected=Obsessive focus on \"clean\" eating, healthy food choices\n",
      "predicting 45 ...\n",
      "done 45.\n",
      "result differs on id=45, output=Pica | Persistent consumption of non-food substances, expected=Persistent consumption of non-food substances\n",
      "predicting 46 ...\n"
     ]
    },
    {
     "name": "stderr",
     "output_type": "stream",
     "text": [
      "The attention mask and the pad token id were not set. As a consequence, you may observe unexpected behavior. Please pass your input's `attention_mask` to obtain reliable results.\n",
      "Setting `pad_token_id` to `eos_token_id`:50256 for open-end generation.\n"
     ]
    },
    {
     "name": "stdout",
     "output_type": "stream",
     "text": [
      "done 46.\n",
      "result differs on id=46, output=Rumination Disorder | Repeated regurgitation and re-chewing of food, expected=Repeated regurgitation and re-chewing of food\n",
      "predicting 47 ...\n"
     ]
    },
    {
     "name": "stderr",
     "output_type": "stream",
     "text": [
      "The attention mask and the pad token id were not set. As a consequence, you may observe unexpected behavior. Please pass your input's `attention_mask` to obtain reliable results.\n",
      "Setting `pad_token_id` to `eos_token_id`:50256 for open-end generation.\n"
     ]
    },
    {
     "name": "stdout",
     "output_type": "stream",
     "text": [
      "done 47.\n",
      "result differs on id=47, output=Transient ischemic attack | Sudden onset of neurological symptoms that resolve within 24 hours, expected=Sudden onset of neurological symptoms that resolve within 24 hours\n",
      "predicting 48 ...\n"
     ]
    },
    {
     "name": "stderr",
     "output_type": "stream",
     "text": [
      "The attention mask and the pad token id were not set. As a consequence, you may observe unexpected behavior. Please pass your input's `attention_mask` to obtain reliable results.\n",
      "Setting `pad_token_id` to `eos_token_id`:50256 for open-end generation.\n"
     ]
    },
    {
     "name": "stdout",
     "output_type": "stream",
     "text": [
      "done 48.\n",
      "result differs on id=48, output=Pyelonephritis | Fatigue, swelling of the eyelid, joint pain, dizziness, expected=Fever, chills, back or flank pain, frequent urination\n",
      "predicting 49 ...\n"
     ]
    },
    {
     "name": "stderr",
     "output_type": "stream",
     "text": [
      "The attention mask and the pad token id were not set. As a consequence, you may observe unexpected behavior. Please pass your input's `attention_mask` to obtain reliable results.\n",
      "Setting `pad_token_id` to `eos_token_id`:50256 for open-end generation.\n"
     ]
    },
    {
     "name": "stdout",
     "output_type": "stream",
     "text": [
      "done 49.\n",
      "result differs on id=49, output=Rotator Cuff Injury | Decreased urine output, fluid retention, fatigue, shortness of breath, expected=Shoulder pain, weakness or loss of strength, limited range of motion, shoulder stiffness\n",
      "predicting 50 ...\n"
     ]
    },
    {
     "name": "stderr",
     "output_type": "stream",
     "text": [
      "The attention mask and the pad token id were not set. As a consequence, you may observe unexpected behavior. Please pass your input's `attention_mask` to obtain reliable results.\n",
      "Setting `pad_token_id` to `eos_token_id`:50256 for open-end generation.\n"
     ]
    },
    {
     "name": "stdout",
     "output_type": "stream",
     "text": [
      "done 50.\n",
      "result differs on id=50, output=Fibromyalgia | Widespread musculoskeletal pain, fatigue, sleep disturbances, expected=Widespread musculoskeletal pain, fatigue, sleep disturbances\n",
      "predicting 51 ...\n"
     ]
    },
    {
     "name": "stderr",
     "output_type": "stream",
     "text": [
      "The attention mask and the pad token id were not set. As a consequence, you may observe unexpected behavior. Please pass your input's `attention_mask` to obtain reliable results.\n",
      "Setting `pad_token_id` to `eos_token_id`:50256 for open-end generation.\n"
     ]
    },
    {
     "name": "stdout",
     "output_type": "stream",
     "text": [
      "done 51.\n",
      "result differs on id=51, output=Chronic Fatigue Syndrome | Fatigue, abdominal pain or swelling on the hands and feet, joint, expected=Extreme fatigue, cognitive difficulties, unrefreshing sleep\n",
      "predicting 52 ...\n"
     ]
    },
    {
     "name": "stderr",
     "output_type": "stream",
     "text": [
      "The attention mask and the pad token id were not set. As a consequence, you may observe unexpected behavior. Please pass your input's `attention_mask` to obtain reliable results.\n",
      "Setting `pad_token_id` to `eos_token_id`:50256 for open-end generation.\n",
      "The attention mask and the pad token id were not set. As a consequence, you may observe unexpected behavior. Please pass your input's `attention_mask` to obtain reliable results.\n",
      "Setting `pad_token_id` to `eos_token_id`:50256 for open-end generation.\n"
     ]
    },
    {
     "name": "stdout",
     "output_type": "stream",
     "text": [
      "done 52.\n",
      "result differs on id=52, output=Complex Regional Pain Syndrome (CRPS) | Severe and persistent pain, changes in skin temperature, expected=Severe and persistent pain, changes in skin color or temperature, swelling, stiffness\n",
      "predicting 53 ...\n",
      "done 53.\n",
      "result differs on id=53, output=Myofascial Pain Syndrome | Localized muscle pain, trigger points, expected=Localized muscle pain, trigger points\n",
      "predicting 54 ...\n"
     ]
    },
    {
     "name": "stderr",
     "output_type": "stream",
     "text": [
      "The attention mask and the pad token id were not set. As a consequence, you may observe unexpected behavior. Please pass your input's `attention_mask` to obtain reliable results.\n",
      "Setting `pad_token_id` to `eos_token_id`:50256 for open-end generation.\n"
     ]
    },
    {
     "name": "stdout",
     "output_type": "stream",
     "text": [
      "done 54.\n",
      "result differs on id=54, output=Chronic Migraine | Recurrent, disabling migraines, expected=Recurrent, disabling migraines\n",
      "predicting 55 ...\n"
     ]
    },
    {
     "name": "stderr",
     "output_type": "stream",
     "text": [
      "The attention mask and the pad token id were not set. As a consequence, you may observe unexpected behavior. Please pass your input's `attention_mask` to obtain reliable results.\n",
      "Setting `pad_token_id` to `eos_token_id`:50256 for open-end generation.\n",
      "The attention mask and the pad token id were not set. As a consequence, you may observe unexpected behavior. Please pass your input's `attention_mask` to obtain reliable results.\n",
      "Setting `pad_token_id` to `eos_token_id`:50256 for open-end generation.\n"
     ]
    },
    {
     "name": "stdout",
     "output_type": "stream",
     "text": [
      "done 55.\n",
      "result differs on id=55, output=Neuropathic Pain | Shooting or burning pain, tingling or numbness, expected=Shooting or burning pain, tingling or numbness\n",
      "predicting 56 ...\n",
      "done 56.\n",
      "result differs on id=56, output=Gestational Diabetes | High blood sugar levels during pregnancy, expected=High blood sugar levels during pregnancy\n",
      "predicting 57 ...\n"
     ]
    },
    {
     "name": "stderr",
     "output_type": "stream",
     "text": [
      "The attention mask and the pad token id were not set. As a consequence, you may observe unexpected behavior. Please pass your input's `attention_mask` to obtain reliable results.\n",
      "Setting `pad_token_id` to `eos_token_id`:50256 for open-end generation.\n"
     ]
    },
    {
     "name": "stdout",
     "output_type": "stream",
     "text": [
      "done 57.\n",
      "result differs on id=57, output=Pregnancy-Induced Hypertension | Vaginal bleeding, abdominal pain or cramping, confusion, expected=High blood pressure during pregnancy\n",
      "predicting 58 ...\n"
     ]
    },
    {
     "name": "stderr",
     "output_type": "stream",
     "text": [
      "The attention mask and the pad token id were not set. As a consequence, you may observe unexpected behavior. Please pass your input's `attention_mask` to obtain reliable results.\n",
      "Setting `pad_token_id` to `eos_token_id`:50256 for open-end generation.\n"
     ]
    },
    {
     "name": "stdout",
     "output_type": "stream",
     "text": [
      "done 58.\n",
      "result differs on id=58, output=Gestational Hypertension | High blood pressure without proteinuria (preeclampsia), expected=High blood pressure without proteinuria (preeclampsia)\n",
      "predicting 59 ...\n"
     ]
    },
    {
     "name": "stderr",
     "output_type": "stream",
     "text": [
      "The attention mask and the pad token id were not set. As a consequence, you may observe unexpected behavior. Please pass your input's `attention_mask` to obtain reliable results.\n",
      "Setting `pad_token_id` to `eos_token_id`:50256 for open-end generation.\n",
      "The attention mask and the pad token id were not set. As a consequence, you may observe unexpected behavior. Please pass your input's `attention_mask` to obtain reliable results.\n",
      "Setting `pad_token_id` to `eos_token_id`:50256 for open-end generation.\n"
     ]
    },
    {
     "name": "stdout",
     "output_type": "stream",
     "text": [
      "done 59.\n",
      "result differs on id=59, output=Preeclampsia | Curvature of the penis, pain during erections, expected=High blood pressure, proteinuria, swelling, headaches, visual disturbances\n",
      "predicting 60 ...\n",
      "done 60.\n",
      "result differs on id=60, output=Hyperemesis Gravidarum | Severe nausea and vomiting during pregnancy, expected=Severe nausea and vomiting during pregnancy\n",
      "predicting 61 ...\n"
     ]
    },
    {
     "name": "stderr",
     "output_type": "stream",
     "text": [
      "The attention mask and the pad token id were not set. As a consequence, you may observe unexpected behavior. Please pass your input's `attention_mask` to obtain reliable results.\n",
      "Setting `pad_token_id` to `eos_token_id`:50256 for open-end generation.\n"
     ]
    },
    {
     "name": "stdout",
     "output_type": "stream",
     "text": [
      "done 61.\n",
      "result differs on id=61, output=Urinary Tract Infection (UTI) | Frequent urination, burning sensation during ur, expected=Painful urination, frequent urination, pelvic pain, cloudy urine\n",
      "predicting 62 ...\n"
     ]
    },
    {
     "name": "stderr",
     "output_type": "stream",
     "text": [
      "The attention mask and the pad token id were not set. As a consequence, you may observe unexpected behavior. Please pass your input's `attention_mask` to obtain reliable results.\n",
      "Setting `pad_token_id` to `eos_token_id`:50256 for open-end generation.\n"
     ]
    },
    {
     "name": "stdout",
     "output_type": "stream",
     "text": [
      "done 62.\n",
      "result differs on id=62, output=Anemia due to Malignancy | Fatigue, weakness, shortness of breath, pale skin, expected=Fatigue, weakness, pale skin, shortness of breath\n",
      "predicting 63 ...\n"
     ]
    },
    {
     "name": "stderr",
     "output_type": "stream",
     "text": [
      "The attention mask and the pad token id were not set. As a consequence, you may observe unexpected behavior. Please pass your input's `attention_mask` to obtain reliable results.\n",
      "Setting `pad_token_id` to `eos_token_id`:50256 for open-end generation.\n"
     ]
    },
    {
     "name": "stdout",
     "output_type": "stream",
     "text": [
      "done 63.\n",
      "result differs on id=63, output=Pregnancy-Related Back Pain, unpredictable bleeding episodes, bleeding after sexual intercourse, bleeding after menop, expected=Lower back pain, discomfort in the pelvic area\n",
      "predicting 64 ...\n"
     ]
    },
    {
     "name": "stderr",
     "output_type": "stream",
     "text": [
      "The attention mask and the pad token id were not set. As a consequence, you may observe unexpected behavior. Please pass your input's `attention_mask` to obtain reliable results.\n",
      "Setting `pad_token_id` to `eos_token_id`:50256 for open-end generation.\n"
     ]
    },
    {
     "name": "stdout",
     "output_type": "stream",
     "text": [
      "done 64.\n",
      "result differs on id=64, output=Round Ligament Pain | Sharp or aching pain in the lower abdomen or groin, expected=Sharp or aching pain in the lower abdomen or groin\n",
      "predicting 65 ...\n"
     ]
    },
    {
     "name": "stderr",
     "output_type": "stream",
     "text": [
      "The attention mask and the pad token id were not set. As a consequence, you may observe unexpected behavior. Please pass your input's `attention_mask` to obtain reliable results.\n",
      "Setting `pad_token_id` to `eos_token_id`:50256 for open-end generation.\n"
     ]
    },
    {
     "name": "stdout",
     "output_type": "stream",
     "text": [
      "done 65.\n",
      "result differs on id=65, output=Placenta Previa | Vaginal bleeding, painless bleeding in the third trimester, expected=Vaginal bleeding, painless bleeding in the third trimester\n",
      "predicting 66 ...\n"
     ]
    },
    {
     "name": "stderr",
     "output_type": "stream",
     "text": [
      "The attention mask and the pad token id were not set. As a consequence, you may observe unexpected behavior. Please pass your input's `attention_mask` to obtain reliable results.\n",
      "Setting `pad_token_id` to `eos_token_id`:50256 for open-end generation.\n"
     ]
    },
    {
     "name": "stdout",
     "output_type": "stream",
     "text": [
      "done 66.\n",
      "result differs on id=66, output=Carpal Tunnel Syndrome | Tingling, numbness, and pain in the hand and fingers, expected=Tingling, numbness, and pain in the hand and fingers\n",
      "predicting 67 ...\n"
     ]
    },
    {
     "name": "stderr",
     "output_type": "stream",
     "text": [
      "The attention mask and the pad token id were not set. As a consequence, you may observe unexpected behavior. Please pass your input's `attention_mask` to obtain reliable results.\n",
      "Setting `pad_token_id` to `eos_token_id`:50256 for open-end generation.\n"
     ]
    },
    {
     "name": "stdout",
     "output_type": "stream",
     "text": [
      "done 67.\n",
      "result differs on id=67, output=Sciatica | Lower back pain, leg pain, numbness or tingling, expected=Sharp pain, tingling, or numbness that radiates from the lower back through the hips and down the leg\n",
      "predicting 68 ...\n"
     ]
    },
    {
     "name": "stderr",
     "output_type": "stream",
     "text": [
      "The attention mask and the pad token id were not set. As a consequence, you may observe unexpected behavior. Please pass your input's `attention_mask` to obtain reliable results.\n",
      "Setting `pad_token_id` to `eos_token_id`:50256 for open-end generation.\n"
     ]
    },
    {
     "name": "stdout",
     "output_type": "stream",
     "text": [
      "done 68.\n",
      "result differs on id=68, output=Varicose Veins | Enlarged, swollen veins, often in the legs, expected=Enlarged, swollen veins, often in the legs\n",
      "predicting 69 ...\n"
     ]
    },
    {
     "name": "stderr",
     "output_type": "stream",
     "text": [
      "The attention mask and the pad token id were not set. As a consequence, you may observe unexpected behavior. Please pass your input's `attention_mask` to obtain reliable results.\n",
      "Setting `pad_token_id` to `eos_token_id`:50256 for open-end generation.\n",
      "The attention mask and the pad token id were not set. As a consequence, you may observe unexpected behavior. Please pass your input's `attention_mask` to obtain reliable results.\n",
      "Setting `pad_token_id` to `eos_token_id`:50256 for open-end generation.\n"
     ]
    },
    {
     "name": "stdout",
     "output_type": "stream",
     "text": [
      "done 69.\n",
      "result differs on id=69, output=Hemorrhoids | Swollen, itchy, or painful veins in the rectal area, expected=Swollen, itchy, or painful veins in the rectal area\n",
      "predicting 70 ...\n",
      "done 70.\n",
      "result differs on id=70, output=Gestational Cholestasis | Itchy skin, particularly on the hands and feet, expected=Itchy skin, particularly on the hands and feet\n",
      "predicting 71 ...\n"
     ]
    },
    {
     "name": "stderr",
     "output_type": "stream",
     "text": [
      "The attention mask and the pad token id were not set. As a consequence, you may observe unexpected behavior. Please pass your input's `attention_mask` to obtain reliable results.\n",
      "Setting `pad_token_id` to `eos_token_id`:50256 for open-end generation.\n",
      "The attention mask and the pad token id were not set. As a consequence, you may observe unexpected behavior. Please pass your input's `attention_mask` to obtain reliable results.\n",
      "Setting `pad_token_id` to `eos_token_id`:50256 for open-end generation.\n"
     ]
    },
    {
     "name": "stdout",
     "output_type": "stream",
     "text": [
      "done 71.\n",
      "result differs on id=71, output=Liver Cancer | Abdominal pain, jaundice (yellowing of the skin and eyes, expected=Abdominal pain, jaundice (yellowing of the skin and eyes), unexplained weight loss, loss of appetite, fatigue, nausea, vomiting\n",
      "predicting 72 ...\n",
      "done 72.\n",
      "result differs on id=72, output=Atelectasis | Difficulty breathing, rapid breathing, chest pain, expected=Difficulty breathing, rapid breathing, chest pain\n",
      "predicting 73 ...\n"
     ]
    },
    {
     "name": "stderr",
     "output_type": "stream",
     "text": [
      "The attention mask and the pad token id were not set. As a consequence, you may observe unexpected behavior. Please pass your input's `attention_mask` to obtain reliable results.\n",
      "Setting `pad_token_id` to `eos_token_id`:50256 for open-end generation.\n"
     ]
    },
    {
     "name": "stdout",
     "output_type": "stream",
     "text": [
      "done 73.\n",
      "result differs on id=73, output=Ectopic Pregnancy | Vaginal bleeding, abdominal pain or cramping, shoulder pain (if, expected=Vaginal bleeding, abdominal pain or cramping, shoulder pain (if the fallopian tube ruptures)\n",
      "predicting 74 ...\n"
     ]
    },
    {
     "name": "stderr",
     "output_type": "stream",
     "text": [
      "The attention mask and the pad token id were not set. As a consequence, you may observe unexpected behavior. Please pass your input's `attention_mask` to obtain reliable results.\n",
      "Setting `pad_token_id` to `eos_token_id`:50256 for open-end generation.\n"
     ]
    },
    {
     "name": "stdout",
     "output_type": "stream",
     "text": [
      "done 74.\n",
      "result differs on id=74, output=Choledocholithiasis | Abdominal pain (often in the upper abdominal), jaundice, expected=Abdominal pain (often in the upper right quadrant), jaundice, dark urine, pale stools, nausea, vomiting, endoscopic retrograde cholangiopancreatography (ERCP) with stone removal, sphincterotomy, Cholecystectomy \n",
      "predicting 75 ...\n"
     ]
    },
    {
     "name": "stderr",
     "output_type": "stream",
     "text": [
      "The attention mask and the pad token id were not set. As a consequence, you may observe unexpected behavior. Please pass your input's `attention_mask` to obtain reliable results.\n",
      "Setting `pad_token_id` to `eos_token_id`:50256 for open-end generation.\n"
     ]
    },
    {
     "name": "stdout",
     "output_type": "stream",
     "text": [
      "done 75.\n",
      "result differs on id=75, output=Cirrhosis | Fatigue, jaundice, abdominal swelling (ascites), easy bruising, expected=Fatigue, jaundice, abdominal swelling (ascites), easy bruising and bleeding, confusion, loss of appetite, weight loss\n",
      "predicting 76 ...\n"
     ]
    },
    {
     "name": "stderr",
     "output_type": "stream",
     "text": [
      "The attention mask and the pad token id were not set. As a consequence, you may observe unexpected behavior. Please pass your input's `attention_mask` to obtain reliable results.\n",
      "Setting `pad_token_id` to `eos_token_id`:50256 for open-end generation.\n"
     ]
    },
    {
     "name": "stdout",
     "output_type": "stream",
     "text": [
      "done 76.\n",
      "result differs on id=76, output=Thoracic Aortic Aneurysm | Chest or back pain, shortness of, expected=Chest or back pain, shortness of breath, hoarseness, difficulty swallowing\n",
      "predicting 77 ...\n"
     ]
    },
    {
     "name": "stderr",
     "output_type": "stream",
     "text": [
      "The attention mask and the pad token id were not set. As a consequence, you may observe unexpected behavior. Please pass your input's `attention_mask` to obtain reliable results.\n",
      "Setting `pad_token_id` to `eos_token_id`:50256 for open-end generation.\n"
     ]
    },
    {
     "name": "stdout",
     "output_type": "stream",
     "text": [
      "done 77.\n",
      "result differs on id=77, output=Subdural hemorrhage | Headache, confusion, dizziness or nausea, vomiting, seizures,, expected=Headache, confusion, dizziness, nausea or vomiting, seizures, weakness or numbness\n",
      "predicting 78 ...\n"
     ]
    },
    {
     "name": "stderr",
     "output_type": "stream",
     "text": [
      "The attention mask and the pad token id were not set. As a consequence, you may observe unexpected behavior. Please pass your input's `attention_mask` to obtain reliable results.\n",
      "Setting `pad_token_id` to `eos_token_id`:50256 for open-end generation.\n"
     ]
    },
    {
     "name": "stdout",
     "output_type": "stream",
     "text": [
      "done 78.\n",
      "result differs on id=78, output=Congenital rubella | Developmental delays, intellectual disability, hearing loss, vision problems, heart, expected=Developmental delays, intellectual disability, hearing loss, vision problems, heart defects, liver or spleen enlargement, rash at birth\n",
      "predicting 79 ...\n"
     ]
    },
    {
     "name": "stderr",
     "output_type": "stream",
     "text": [
      "The attention mask and the pad token id were not set. As a consequence, you may observe unexpected behavior. Please pass your input's `attention_mask` to obtain reliable results.\n",
      "Setting `pad_token_id` to `eos_token_id`:50256 for open-end generation.\n"
     ]
    },
    {
     "name": "stdout",
     "output_type": "stream",
     "text": [
      "done 79.\n",
      "result differs on id=79, output=Diabetic retinopathy | Blurred or distorted vision, floaters, impaired color vision, dark, expected=Blurred or distorted vision, floaters, impaired color vision, dark or empty areas in the visual field, vision loss\n",
      "predicting 80 ...\n"
     ]
    },
    {
     "name": "stderr",
     "output_type": "stream",
     "text": [
      "The attention mask and the pad token id were not set. As a consequence, you may observe unexpected behavior. Please pass your input's `attention_mask` to obtain reliable results.\n",
      "Setting `pad_token_id` to `eos_token_id`:50256 for open-end generation.\n"
     ]
    },
    {
     "name": "stdout",
     "output_type": "stream",
     "text": [
      "done 80.\n",
      "result differs on id=80, output=Fibromyalgia | Widespread musculoskeletal pain, fatigue, sleep disturbances, expected=Widespread musculoskeletal pain, fatigue, sleep disturbances, cognitive difficulties (fibro fog), mood changes\n",
      "predicting 81 ...\n"
     ]
    },
    {
     "name": "stderr",
     "output_type": "stream",
     "text": [
      "The attention mask and the pad token id were not set. As a consequence, you may observe unexpected behavior. Please pass your input's `attention_mask` to obtain reliable results.\n",
      "Setting `pad_token_id` to `eos_token_id`:50256 for open-end generation.\n"
     ]
    },
    {
     "name": "stdout",
     "output_type": "stream",
     "text": [
      "done 81.\n",
      "result differs on id=81, output=Ischemia of the Bowel | Severe abdominal pain, bloody stools, diarrhea,, expected=Severe abdominal pain, bloody stools, diarrhea, nausea, vomiting, fever, rapid heart rate, low blood pressure\n",
      "predicting 82 ...\n"
     ]
    },
    {
     "name": "stderr",
     "output_type": "stream",
     "text": [
      "The attention mask and the pad token id were not set. As a consequence, you may observe unexpected behavior. Please pass your input's `attention_mask` to obtain reliable results.\n",
      "Setting `pad_token_id` to `eos_token_id`:50256 for open-end generation.\n"
     ]
    },
    {
     "name": "stdout",
     "output_type": "stream",
     "text": [
      "done 82.\n",
      "result differs on id=82, output=Fetal Alcohol Syndrome | Growth deficiencies, facial abnormalities, developmental delays, intellectual disability, expected=Growth deficiencies, facial abnormalities, developmental delays, intellectual disability\n",
      "predicting 83 ...\n"
     ]
    },
    {
     "name": "stderr",
     "output_type": "stream",
     "text": [
      "The attention mask and the pad token id were not set. As a consequence, you may observe unexpected behavior. Please pass your input's `attention_mask` to obtain reliable results.\n",
      "Setting `pad_token_id` to `eos_token_id`:50256 for open-end generation.\n"
     ]
    },
    {
     "name": "stdout",
     "output_type": "stream",
     "text": [
      "done 83.\n",
      "result differs on id=83, output=Peritonitis | Severe abdominal pain, tenderness, bloating, fever, nausea or vomiting, expected=Severe abdominal pain, tenderness, bloating, fever, nausea, vomiting, loss of appetite, increased heart rate\n",
      "predicting 84 ...\n"
     ]
    },
    {
     "name": "stderr",
     "output_type": "stream",
     "text": [
      "The attention mask and the pad token id were not set. As a consequence, you may observe unexpected behavior. Please pass your input's `attention_mask` to obtain reliable results.\n",
      "Setting `pad_token_id` to `eos_token_id`:50256 for open-end generation.\n"
     ]
    },
    {
     "name": "stdout",
     "output_type": "stream",
     "text": [
      "done 84.\n",
      "result differs on id=84, output=Abdominal Injury | Abdominal pain, tenderness, bruising, swelling, difficulty breathing,, expected=Abdominal pain, tenderness, bruising, swelling, difficulty breathing, nausea, vomiting, changes in bowel movements, blood in urine or stool\n",
      "predicting 85 ...\n"
     ]
    },
    {
     "name": "stderr",
     "output_type": "stream",
     "text": [
      "The attention mask and the pad token id were not set. As a consequence, you may observe unexpected behavior. Please pass your input's `attention_mask` to obtain reliable results.\n",
      "Setting `pad_token_id` to `eos_token_id`:50256 for open-end generation.\n"
     ]
    },
    {
     "name": "stdout",
     "output_type": "stream",
     "text": [
      "done 85.\n",
      "result differs on id=85, output=Acute Pancreatitis | Severe upper abdominal pain, nausea, vomiting, fever, rapid pulse, expected=Severe upper abdominal pain, nausea, vomiting, fever, rapid pulse, swollen and tender abdomen, jaundice\n",
      "predicting 86 ...\n"
     ]
    },
    {
     "name": "stderr",
     "output_type": "stream",
     "text": [
      "The attention mask and the pad token id were not set. As a consequence, you may observe unexpected behavior. Please pass your input's `attention_mask` to obtain reliable results.\n",
      "Setting `pad_token_id` to `eos_token_id`:50256 for open-end generation.\n"
     ]
    },
    {
     "name": "stdout",
     "output_type": "stream",
     "text": [
      "done 86.\n",
      "result differs on id=86, output=Thrombophlebitis | Nausea, vomiting, early satiety, bloating, expected=Redness, warmth, swelling, and tenderness along a vein, pain or discomfort, skin discoloration, visible veins, fever\n",
      "predicting 87 ...\n"
     ]
    },
    {
     "name": "stderr",
     "output_type": "stream",
     "text": [
      "The attention mask and the pad token id were not set. As a consequence, you may observe unexpected behavior. Please pass your input's `attention_mask` to obtain reliable results.\n",
      "Setting `pad_token_id` to `eos_token_id`:50256 for open-end generation.\n"
     ]
    },
    {
     "name": "stdout",
     "output_type": "stream",
     "text": [
      "done 87.\n",
      "result differs on id=87, output=Asthma | Recurrent episodes of wheezing, chest tightness, coughing, especially at night, expected=Recurrent episodes of wheezing, shortness of breath, chest tightness, coughing, especially at night or in response to triggers such as allergens or exercise\n",
      "predicting 88 ...\n"
     ]
    },
    {
     "name": "stderr",
     "output_type": "stream",
     "text": [
      "The attention mask and the pad token id were not set. As a consequence, you may observe unexpected behavior. Please pass your input's `attention_mask` to obtain reliable results.\n",
      "Setting `pad_token_id` to `eos_token_id`:50256 for open-end generation.\n"
     ]
    },
    {
     "name": "stdout",
     "output_type": "stream",
     "text": [
      "done 88.\n",
      "result differs on id=88, output=Restless Leg Syndrome | Vaginal bleeding, abdominal pain or cramps, fever, expected=Uncomfortable sensation in the legs, usually in the evening or at night, urge to move legs for relief\n",
      "predicting 89 ...\n"
     ]
    },
    {
     "name": "stderr",
     "output_type": "stream",
     "text": [
      "The attention mask and the pad token id were not set. As a consequence, you may observe unexpected behavior. Please pass your input's `attention_mask` to obtain reliable results.\n",
      "Setting `pad_token_id` to `eos_token_id`:50256 for open-end generation.\n",
      "The attention mask and the pad token id were not set. As a consequence, you may observe unexpected behavior. Please pass your input's `attention_mask` to obtain reliable results.\n",
      "Setting `pad_token_id` to `eos_token_id`:50256 for open-end generation.\n"
     ]
    },
    {
     "name": "stdout",
     "output_type": "stream",
     "text": [
      "done 89.\n",
      "result differs on id=89, output=Emphysema | Shortness of breath, wheezing, chest tightness, fatigue,, expected=Shortness of breath, wheezing, chronic cough, chest tightness, fatigue, weight loss\n",
      "predicting 90 ...\n",
      "done 90.\n",
      "result differs on id=90, output=Induced Abortion | Vaginal bleeding, abdominal cramps, pelvic pain, expected=Vaginal bleeding, cramping, abdominal pain, nausea, fatigue, emotional distress\n",
      "predicting 91 ...\n"
     ]
    },
    {
     "name": "stderr",
     "output_type": "stream",
     "text": [
      "The attention mask and the pad token id were not set. As a consequence, you may observe unexpected behavior. Please pass your input's `attention_mask` to obtain reliable results.\n",
      "Setting `pad_token_id` to `eos_token_id`:50256 for open-end generation.\n"
     ]
    },
    {
     "name": "stdout",
     "output_type": "stream",
     "text": [
      "done 91.\n",
      "result differs on id=91, output=Acute Sinusitis | Facial pain or pressure, nasal congestion, thick nasal discharge, fatigue, expected=Facial pain or pressure, nasal congestion, thick nasal discharge, post-nasal drip, cough, headache, fatigue, fever (in some cases)\n",
      "predicting 92 ...\n",
      "done 92.\n",
      "result differs on id=92, output=Von Hippel-Lindau Disease | Hemangioblastomas (tumors in, expected=Hemangioblastomas (tumors in the brain, spinal cord, or other organs), retinal angiomas (abnormal blood vessel growth in the retina), renal cell carcinomas (kidney tumors), pheochromocytomas (adrenal gland tumors), pancreatic cysts/tumors, other tumors or cysts\n",
      "predicting 93 ...\n"
     ]
    },
    {
     "name": "stderr",
     "output_type": "stream",
     "text": [
      "The attention mask and the pad token id were not set. As a consequence, you may observe unexpected behavior. Please pass your input's `attention_mask` to obtain reliable results.\n",
      "Setting `pad_token_id` to `eos_token_id`:50256 for open-end generation.\n",
      "The attention mask and the pad token id were not set. As a consequence, you may observe unexpected behavior. Please pass your input's `attention_mask` to obtain reliable results.\n",
      "Setting `pad_token_id` to `eos_token_id`:50256 for open-end generation.\n"
     ]
    },
    {
     "name": "stdout",
     "output_type": "stream",
     "text": [
      "done 93.\n",
      "result differs on id=93, output=Alcohol Use Disorder | Cravings for alcohol, inability to control or limit alcohol consumption, withdrawal symptoms, expected=Cravings for alcohol, inability to control or limit alcohol consumption, withdrawal symptoms (such as tremors, anxiety, sweating) when attempting to stop or reduce alcohol use, continued use despite negative consequences (such as relationship problems, health issues), neglecting responsibilities, tolerance to alcohol\n",
      "predicting 94 ...\n"
     ]
    },
    {
     "name": "stderr",
     "output_type": "stream",
     "text": [
      "The attention mask and the pad token id were not set. As a consequence, you may observe unexpected behavior. Please pass your input's `attention_mask` to obtain reliable results.\n",
      "Setting `pad_token_id` to `eos_token_id`:50256 for open-end generation.\n"
     ]
    },
    {
     "name": "stdout",
     "output_type": "stream",
     "text": [
      "done 94.\n",
      "result differs on id=94, output=Opioid Use Disorder | Compulsive use of opioids, strong desire or cravings for opioids,, expected=Compulsive use of opioids, strong desire or cravings for opioids, inability to control or reduce opioid use, withdrawal symptoms (such as nausea, muscle aches, anxiety) when attempting to stop or reduce use, tolerance to opioids, continued use despite negative consequences (such as legal issues, health problems)\n",
      "predicting 95 ...\n"
     ]
    },
    {
     "name": "stderr",
     "output_type": "stream",
     "text": [
      "The attention mask and the pad token id were not set. As a consequence, you may observe unexpected behavior. Please pass your input's `attention_mask` to obtain reliable results.\n",
      "Setting `pad_token_id` to `eos_token_id`:50256 for open-end generation.\n"
     ]
    },
    {
     "name": "stdout",
     "output_type": "stream",
     "text": [
      "done 95.\n",
      "result differs on id=95, output=Stimulant Use Disorder | Increased energy and alertness, euphoria, decreased appetite, increased, expected=Increased energy and alertness, euphoria, decreased appetite, increased heart rate and blood pressure, insomnia, restlessness, irritability, paranoia, psychosis (in severe cases)\n",
      "predicting 96 ...\n"
     ]
    },
    {
     "name": "stderr",
     "output_type": "stream",
     "text": [
      "The attention mask and the pad token id were not set. As a consequence, you may observe unexpected behavior. Please pass your input's `attention_mask` to obtain reliable results.\n",
      "Setting `pad_token_id` to `eos_token_id`:50256 for open-end generation.\n"
     ]
    },
    {
     "name": "stdout",
     "output_type": "stream",
     "text": [
      "done 96.\n",
      "result differs on id=96, output=Cannabis Use Disorder | Increased appetite, relaxation, altered perception of time, impaired memory and concentration, expected=Increased appetite, relaxation, altered perception of time, impaired memory and concentration, bloodshot eyes, anxiety or paranoia (in some individuals), withdrawal symptoms (such as irritability, insomnia) when attempting to stop or reduce cannabis use, continued use despite negative consequences (such as relationship problems, job difficulties)\n",
      "predicting 97 ...\n"
     ]
    },
    {
     "name": "stderr",
     "output_type": "stream",
     "text": [
      "The attention mask and the pad token id were not set. As a consequence, you may observe unexpected behavior. Please pass your input's `attention_mask` to obtain reliable results.\n",
      "Setting `pad_token_id` to `eos_token_id`:50256 for open-end generation.\n"
     ]
    },
    {
     "name": "stdout",
     "output_type": "stream",
     "text": [
      "done 97.\n",
      "result differs on id=97, output=Benzodiazepine Use Disorder | Sedation, relaxation, reduced anxiety, drowsiness, poor, expected=Sedation, relaxation, reduced anxiety, drowsiness, poor coordination, memory impairment, withdrawal symptoms (such as rebound anxiety, insomnia, tremors) when attempting to stop or reduce benzodiazepine use, continued use despite negative consequences (such as relationship problems, health risks)\n",
      "predicting 98 ...\n"
     ]
    },
    {
     "name": "stderr",
     "output_type": "stream",
     "text": [
      "The attention mask and the pad token id were not set. As a consequence, you may observe unexpected behavior. Please pass your input's `attention_mask` to obtain reliable results.\n",
      "Setting `pad_token_id` to `eos_token_id`:50256 for open-end generation.\n"
     ]
    },
    {
     "name": "stdout",
     "output_type": "stream",
     "text": [
      "done 98.\n",
      "result differs on id=98, output=Hallucinogen Use Disorder | Altered perception of reality, visual or auditory hallucinations, changes in, expected=Altered perception of reality, visual or auditory hallucinations, changes in sensory experiences, introspective thoughts, feelings of connection or disconnection, anxiety or paranoia (in some individuals), flashbacks (in some individuals)\n",
      "predicting 99 ...\n"
     ]
    },
    {
     "name": "stderr",
     "output_type": "stream",
     "text": [
      "The attention mask and the pad token id were not set. As a consequence, you may observe unexpected behavior. Please pass your input's `attention_mask` to obtain reliable results.\n",
      "Setting `pad_token_id` to `eos_token_id`:50256 for open-end generation.\n"
     ]
    },
    {
     "name": "stdout",
     "output_type": "stream",
     "text": [
      "done 99.\n",
      "result differs on id=99, output=Sedative, Hypnotic, or Anxiolytic Use Disorder | Sedation,, expected=Sedation, relaxation, reduced anxiety, drowsiness, poor coordination, memory impairment, withdrawal symptoms (such as rebound anxiety, insomnia, tremors) when attempting to stop or reduce use, continued use despite negative consequences (such as relationship problems, health risks)\n",
      "predicting 100 ...\n"
     ]
    },
    {
     "name": "stderr",
     "output_type": "stream",
     "text": [
      "The attention mask and the pad token id were not set. As a consequence, you may observe unexpected behavior. Please pass your input's `attention_mask` to obtain reliable results.\n",
      "Setting `pad_token_id` to `eos_token_id`:50256 for open-end generation.\n"
     ]
    },
    {
     "name": "stdout",
     "output_type": "stream",
     "text": [
      "done 100.\n",
      "result differs on id=100, output=Postpartum Depression | Persistent feelings of sadness, emptiness, or hopelessness, frequent crying,, expected=Persistent feelings of sadness, emptiness, or hopelessness, frequent crying, irritability, loss of interest or pleasure in activities, difficulty bonding with the baby, changes in appetite or sleep patterns, overwhelming fatigue, feelings of guilt or worthlessness, trouble concentrating or making decisions, thoughts of self-harm or harming the baby\n",
      "predicting 101 ...\n"
     ]
    },
    {
     "name": "stderr",
     "output_type": "stream",
     "text": [
      "The attention mask and the pad token id were not set. As a consequence, you may observe unexpected behavior. Please pass your input's `attention_mask` to obtain reliable results.\n",
      "Setting `pad_token_id` to `eos_token_id`:50256 for open-end generation.\n"
     ]
    },
    {
     "name": "stdout",
     "output_type": "stream",
     "text": [
      "done 101.\n",
      "result differs on id=101, output=Coronary Atherosclerosis | Chest pain or discomfort (low blood pressure), shortness of breath, expected=Chest pain or discomfort (angina), shortness of breath, fatigue, irregular heartbeat, dizziness, nausea, sweating, jaw or arm pain (in some cases), heart attack (when a coronary artery becomes completely blocked)\n",
      "predicting 102 ...\n"
     ]
    },
    {
     "name": "stderr",
     "output_type": "stream",
     "text": [
      "The attention mask and the pad token id were not set. As a consequence, you may observe unexpected behavior. Please pass your input's `attention_mask` to obtain reliable results.\n",
      "Setting `pad_token_id` to `eos_token_id`:50256 for open-end generation.\n"
     ]
    },
    {
     "name": "stdout",
     "output_type": "stream",
     "text": [
      "done 102.\n",
      "result differs on id=102, output=Spondylitis | Chronic back pain and stiffness, especially in the morning or after periods of in, expected=Chronic back pain and stiffness, especially in the morning or after periods of inactivity, limited range of motion in the spine, fatigue, inflammation and pain in other joints (such as hips, shoulders, knees), discomfort or pain in the neck, difficulty maintaining proper posture, tenderness or swelling in affected areas, tingling or numbness in extremities in severe cases\n",
      "predicting 103 ...\n"
     ]
    },
    {
     "name": "stderr",
     "output_type": "stream",
     "text": [
      "The attention mask and the pad token id were not set. As a consequence, you may observe unexpected behavior. Please pass your input's `attention_mask` to obtain reliable results.\n",
      "Setting `pad_token_id` to `eos_token_id`:50256 for open-end generation.\n"
     ]
    },
    {
     "name": "stdout",
     "output_type": "stream",
     "text": [
      "done 103.\n",
      "result differs on id=103, output=Pituitary Adenoma | Various symptoms depending on the specific disorder, including hormonal imbalances, expected=Headaches, vision problems (such as blurred vision or loss of peripheral vision), hormonal imbalances (such as excessive production or deficiency of specific hormones), fatigue, weight gain or loss, menstrual irregularities, infertility, erectile dysfunction, growth abnormalities in children, mood changes, cognitive impairments\n",
      "predicting 104 ...\n"
     ]
    },
    {
     "name": "stderr",
     "output_type": "stream",
     "text": [
      "The attention mask and the pad token id were not set. As a consequence, you may observe unexpected behavior. Please pass your input's `attention_mask` to obtain reliable results.\n",
      "Setting `pad_token_id` to `eos_token_id`:50256 for open-end generation.\n",
      "The attention mask and the pad token id were not set. As a consequence, you may observe unexpected behavior. Please pass your input's `attention_mask` to obtain reliable results.\n",
      "Setting `pad_token_id` to `eos_token_id`:50256 for open-end generation.\n"
     ]
    },
    {
     "name": "stdout",
     "output_type": "stream",
     "text": [
      "done 104.\n",
      "result differs on id=104, output=Uterine Fibroids | Heavy or prolonged menstrual periods, pelvic pain or pressure, frequent ur, expected=Heavy or prolonged menstrual periods, pelvic pain or pressure, frequent urination, difficulty emptying the bladder, constipation, backache, leg pain, enlarged abdomen or uterus, infertility or recurrent miscarriages (in some cases)\n",
      "predicting 105 ...\n",
      "done 105.\n",
      "result differs on id=105, output=Idiopathic Nonmenstrual Bleeding | Abnormal vaginal bleeding outside of the menstrual period, expected=Abnormal vaginal bleeding outside of the menstrual period, unpredictable bleeding episodes, bleeding after sexual intercourse, bleeding after menopause, spotting or light bleeding between periods, prolonged or heavy bleeding\n",
      "predicting 106 ...\n"
     ]
    },
    {
     "name": "stderr",
     "output_type": "stream",
     "text": [
      "The attention mask and the pad token id were not set. As a consequence, you may observe unexpected behavior. Please pass your input's `attention_mask` to obtain reliable results.\n",
      "Setting `pad_token_id` to `eos_token_id`:50256 for open-end generation.\n"
     ]
    },
    {
     "name": "stdout",
     "output_type": "stream",
     "text": [
      "done 106.\n",
      "result differs on id=106, output=Chalazion | Painful, red lump or swelling on the eyelid, blurred vision (, expected=Painful, red lump or swelling on the eyelid, usually on the upper eyelid, sensitivity to light, blurred vision (if the chalazion affects the line of sight), mild discomfort, tenderness, localized inflammation and swelling\n",
      "predicting 107 ...\n"
     ]
    },
    {
     "name": "stderr",
     "output_type": "stream",
     "text": [
      "The attention mask and the pad token id were not set. As a consequence, you may observe unexpected behavior. Please pass your input's `attention_mask` to obtain reliable results.\n",
      "Setting `pad_token_id` to `eos_token_id`:50256 for open-end generation.\n"
     ]
    },
    {
     "name": "stdout",
     "output_type": "stream",
     "text": [
      "done 107.\n",
      "result differs on id=107, output=Ovarian Torsion | Sudden and severe abdominal or pelvic pain, nausea, vomiting,, expected=Sudden and severe abdominal or pelvic pain on one side, sharp or stabbing pain, nausea, vomiting, fever, rapid heartbeat, abdominal tenderness, bloating, swelling, pain during intercourse, abnormal bleeding or spotting\n",
      "predicting 108 ...\n"
     ]
    },
    {
     "name": "stderr",
     "output_type": "stream",
     "text": [
      "The attention mask and the pad token id were not set. As a consequence, you may observe unexpected behavior. Please pass your input's `attention_mask` to obtain reliable results.\n",
      "Setting `pad_token_id` to `eos_token_id`:50256 for open-end generation.\n"
     ]
    },
    {
     "name": "stdout",
     "output_type": "stream",
     "text": [
      "done 108.\n",
      "result differs on id=108, output=Vaginal Yeast Infection | Itching and irritation in the vagina and vulva, red, expected=Itching and irritation in the vagina and vulva, redness and swelling of the vulva, white, thick, clumpy vaginal discharge (resembling cottage cheese), burning sensation during urination, pain during sexual intercourse, rash or soreness in the affected area\n",
      "predicting 109 ...\n"
     ]
    },
    {
     "name": "stderr",
     "output_type": "stream",
     "text": [
      "The attention mask and the pad token id were not set. As a consequence, you may observe unexpected behavior. Please pass your input's `attention_mask` to obtain reliable results.\n",
      "Setting `pad_token_id` to `eos_token_id`:50256 for open-end generation.\n"
     ]
    },
    {
     "name": "stdout",
     "output_type": "stream",
     "text": [
      "done 109.\n",
      "result differs on id=109, output=Mastoiditis | Ear pain (particularly behind the ear), swelling and redness of the area, expected=Ear pain (particularly behind the ear), swelling and redness of the ear or the area behind the ear, fever, headache, hearing loss or impaired hearing, drainage of fluid or pus from the ear, earache, irritability (in infants and young children), tenderness or pain when touching the area, mastoid bone protrusion or swelling\n",
      "predicting 110 ...\n"
     ]
    },
    {
     "name": "stderr",
     "output_type": "stream",
     "text": [
      "The attention mask and the pad token id were not set. As a consequence, you may observe unexpected behavior. Please pass your input's `attention_mask` to obtain reliable results.\n",
      "Setting `pad_token_id` to `eos_token_id`:50256 for open-end generation.\n"
     ]
    },
    {
     "name": "stdout",
     "output_type": "stream",
     "text": [
      "done 110.\n",
      "result differs on id=110, output=Lung Contusion | Fatigue, abdominal pain or swelling in the legs and ankles, joint pain, expected=Chest pain (sharp or dull), difficulty breathing or shortness of breath, rapid or shallow breathing, coughing up blood or pink-tinged sputum, decreased oxygen levels, wheezing, cyanosis (bluish discoloration of the skin), chest wall bruising, rib fractures (associated injuries)\n",
      "predicting 111 ...\n"
     ]
    },
    {
     "name": "stderr",
     "output_type": "stream",
     "text": [
      "The attention mask and the pad token id were not set. As a consequence, you may observe unexpected behavior. Please pass your input's `attention_mask` to obtain reliable results.\n",
      "Setting `pad_token_id` to `eos_token_id`:50256 for open-end generation.\n",
      "The attention mask and the pad token id were not set. As a consequence, you may observe unexpected behavior. Please pass your input's `attention_mask` to obtain reliable results.\n",
      "Setting `pad_token_id` to `eos_token_id`:50256 for open-end generation.\n"
     ]
    },
    {
     "name": "stdout",
     "output_type": "stream",
     "text": [
      "done 111.\n",
      "result differs on id=111, output=Hypertrophic Obstructive Cardiomyopathy (HOCM) | Shortness of breath, expected=Shortness of breath, especially during physical activity or exertion, chest pain or discomfort, dizziness or lightheadedness, fainting or near-fainting episodes, heart palpitations (rapid or irregular heartbeat), fatigue, swelling in the ankles, feet, or legs\n",
      "predicting 112 ...\n",
      "done 112.\n",
      "result differs on id=112, output=Pulmonary Eosinophilia | Cough, shortness of breath, wheezing, expected=Cough, shortness of breath, wheezing, chest pain, fever, night sweats, fatigue, weight loss, elevated eosinophil count in the blood or sputum\n",
      "predicting 113 ...\n"
     ]
    },
    {
     "name": "stderr",
     "output_type": "stream",
     "text": [
      "The attention mask and the pad token id were not set. As a consequence, you may observe unexpected behavior. Please pass your input's `attention_mask` to obtain reliable results.\n",
      "Setting `pad_token_id` to `eos_token_id`:50256 for open-end generation.\n",
      "The attention mask and the pad token id were not set. As a consequence, you may observe unexpected behavior. Please pass your input's `attention_mask` to obtain reliable results.\n",
      "Setting `pad_token_id` to `eos_token_id`:50256 for open-end generation.\n"
     ]
    },
    {
     "name": "stdout",
     "output_type": "stream",
     "text": [
      "done 113.\n",
      "result differs on id=113, output=Corneal Disorder | Blurred or hazy vision, eye pain or discomfort, redness or, expected=Blurred or hazy vision, eye pain or discomfort, redness or irritation of the eye, excessive tearing, sensitivity to light (photophobia), foreign body sensation, dryness or excessive tearing, corneal abrasions or ulcers, distorted or irregular corneal shape, vision loss\n",
      "predicting 114 ...\n",
      "done 114.\n",
      "result differs on id=114, output=Foreign Body in the Gastrointestinal Tract | Abdominal pain or discomfort, difficulty swallowing,, expected=Abdominal pain or discomfort, difficulty swallowing, choking or gagging, drooling, nausea or vomiting, loss of appetite, chest pain or pressure, respiratory distress, coughing or wheezing, gastrointestinal bleeding, bowel obstruction, perforation of the digestive tract\n",
      "predicting 115 ...\n"
     ]
    },
    {
     "name": "stderr",
     "output_type": "stream",
     "text": [
      "The attention mask and the pad token id were not set. As a consequence, you may observe unexpected behavior. Please pass your input's `attention_mask` to obtain reliable results.\n",
      "Setting `pad_token_id` to `eos_token_id`:50256 for open-end generation.\n"
     ]
    },
    {
     "name": "stdout",
     "output_type": "stream",
     "text": [
      "done 115.\n",
      "result differs on id=115, output=Endophthalmitis | Eye pain, redness, swelling, blurred vision, decreased vision,, expected=Eye pain, redness, swelling, blurred vision, decreased vision, floaters (dark spots or cobwebs in the vision), increased sensitivity to light (photophobia), discharge from the eye, excessive tearing, fever\n",
      "predicting 116 ...\n"
     ]
    },
    {
     "name": "stderr",
     "output_type": "stream",
     "text": [
      "The attention mask and the pad token id were not set. As a consequence, you may observe unexpected behavior. Please pass your input's `attention_mask` to obtain reliable results.\n",
      "Setting `pad_token_id` to `eos_token_id`:50256 for open-end generation.\n",
      "The attention mask and the pad token id were not set. As a consequence, you may observe unexpected behavior. Please pass your input's `attention_mask` to obtain reliable results.\n",
      "Setting `pad_token_id` to `eos_token_id`:50256 for open-end generation.\n"
     ]
    },
    {
     "name": "stdout",
     "output_type": "stream",
     "text": [
      "done 116.\n",
      "result differs on id=116, output=Achalasia | Fatigue, pale skin, frequent infections, shortness of breath, chest pain, expected=Difficulty swallowing\n",
      "predicting 117 ...\n",
      "done 117.\n",
      "result differs on id=117, output=Conductive Hearing Loss | Reduced hearing sensitivity, muffled or blocked sound, expected=Reduced hearing sensitivity, muffled or blocked sound\n",
      "predicting 118 ...\n"
     ]
    },
    {
     "name": "stderr",
     "output_type": "stream",
     "text": [
      "The attention mask and the pad token id were not set. As a consequence, you may observe unexpected behavior. Please pass your input's `attention_mask` to obtain reliable results.\n",
      "Setting `pad_token_id` to `eos_token_id`:50256 for open-end generation.\n"
     ]
    },
    {
     "name": "stdout",
     "output_type": "stream",
     "text": [
      "done 118.\n",
      "result differs on id=118, output=Abdominal Hernia | Visible bulge or swelling, discomfort or pain, expected=Visible bulge or swelling, discomfort or pain\n",
      "predicting 119 ...\n"
     ]
    },
    {
     "name": "stderr",
     "output_type": "stream",
     "text": [
      "The attention mask and the pad token id were not set. As a consequence, you may observe unexpected behavior. Please pass your input's `attention_mask` to obtain reliable results.\n",
      "Setting `pad_token_id` to `eos_token_id`:50256 for open-end generation.\n"
     ]
    },
    {
     "name": "stdout",
     "output_type": "stream",
     "text": [
      "done 119.\n",
      "result differs on id=119, output=Marijuana Abuse | Impaired memory and cognition, altered judgment, anxiety, expected=Impaired memory and cognition, altered judgment, anxiety\n",
      "predicting 120 ...\n"
     ]
    },
    {
     "name": "stderr",
     "output_type": "stream",
     "text": [
      "The attention mask and the pad token id were not set. As a consequence, you may observe unexpected behavior. Please pass your input's `attention_mask` to obtain reliable results.\n",
      "Setting `pad_token_id` to `eos_token_id`:50256 for open-end generation.\n",
      "The attention mask and the pad token id were not set. As a consequence, you may observe unexpected behavior. Please pass your input's `attention_mask` to obtain reliable results.\n",
      "Setting `pad_token_id` to `eos_token_id`:50256 for open-end generation.\n"
     ]
    },
    {
     "name": "stdout",
     "output_type": "stream",
     "text": [
      "done 120.\n",
      "result differs on id=120, output=Cryptococcosis | Fatigue, weakness, pale skin, shortness of breath, ting, expected=Headache, fever, fatigue, cough, meningitis, pneumonia\n",
      "predicting 121 ...\n",
      "done 121.\n",
      "result differs on id=121, output=Obesity | Excessive body weight, increased risk of chronic conditions, expected=Excessive body weight, increased risk of chronic conditions\n",
      "predicting 122 ...\n"
     ]
    },
    {
     "name": "stderr",
     "output_type": "stream",
     "text": [
      "The attention mask and the pad token id were not set. As a consequence, you may observe unexpected behavior. Please pass your input's `attention_mask` to obtain reliable results.\n",
      "Setting `pad_token_id` to `eos_token_id`:50256 for open-end generation.\n"
     ]
    },
    {
     "name": "stdout",
     "output_type": "stream",
     "text": [
      "done 122.\n",
      "result differs on id=122, output=Indigestion | Abdominal pain, bloating, heartburn, nausea, acidic taste, expected=Abdominal pain, bloating, heartburn, nausea, acidic taste\n",
      "predicting 123 ...\n"
     ]
    },
    {
     "name": "stderr",
     "output_type": "stream",
     "text": [
      "The attention mask and the pad token id were not set. As a consequence, you may observe unexpected behavior. Please pass your input's `attention_mask` to obtain reliable results.\n",
      "Setting `pad_token_id` to `eos_token_id`:50256 for open-end generation.\n"
     ]
    },
    {
     "name": "stdout",
     "output_type": "stream",
     "text": [
      "done 123.\n",
      "result differs on id=123, output=Bursitis | Inflammation of the glans penis (tip of penile curvature),, expected=Joint pain, swelling, tenderness, limited range of motion\n",
      "predicting 124 ...\n"
     ]
    },
    {
     "name": "stderr",
     "output_type": "stream",
     "text": [
      "The attention mask and the pad token id were not set. As a consequence, you may observe unexpected behavior. Please pass your input's `attention_mask` to obtain reliable results.\n",
      "Setting `pad_token_id` to `eos_token_id`:50256 for open-end generation.\n"
     ]
    },
    {
     "name": "stdout",
     "output_type": "stream",
     "text": [
      "done 124.\n",
      "result differs on id=124, output=Esophageal Cancer | Abdominal pain, jaundice (yellowing of the skin, expected=Difficulty swallowing, unintentional weight loss, chest pain, hoarseness\n",
      "predicting 125 ...\n"
     ]
    },
    {
     "name": "stderr",
     "output_type": "stream",
     "text": [
      "The attention mask and the pad token id were not set. As a consequence, you may observe unexpected behavior. Please pass your input's `attention_mask` to obtain reliable results.\n",
      "Setting `pad_token_id` to `eos_token_id`:50256 for open-end generation.\n",
      "The attention mask and the pad token id were not set. As a consequence, you may observe unexpected behavior. Please pass your input's `attention_mask` to obtain reliable results.\n",
      "Setting `pad_token_id` to `eos_token_id`:50256 for open-end generation.\n"
     ]
    },
    {
     "name": "stdout",
     "output_type": "stream",
     "text": [
      "done 125.\n",
      "result differs on id=125, output=Pulmonary Congestion | Shortness of breath, cough, wheezing, fatigue,, expected=Shortness of breath, cough, wheezing, fatigue, chest discomfort or tightness\n",
      "predicting 126 ...\n",
      "done 126.\n",
      "result differs on id=126, output=Juvenile Rheumatoid Arthritis | Joint pain, swelling, stiffness, limited range of, expected=Joint pain, swelling, stiffness, limited range of motion, fever, rash\n",
      "predicting 127 ...\n"
     ]
    },
    {
     "name": "stderr",
     "output_type": "stream",
     "text": [
      "The attention mask and the pad token id were not set. As a consequence, you may observe unexpected behavior. Please pass your input's `attention_mask` to obtain reliable results.\n",
      "Setting `pad_token_id` to `eos_token_id`:50256 for open-end generation.\n",
      "The attention mask and the pad token id were not set. As a consequence, you may observe unexpected behavior. Please pass your input's `attention_mask` to obtain reliable results.\n",
      "Setting `pad_token_id` to `eos_token_id`:50256 for open-end generation.\n"
     ]
    },
    {
     "name": "stdout",
     "output_type": "stream",
     "text": [
      "done 127.\n",
      "result differs on id=127, output=Actinic Keratosis | Rough, scaly patches on the skin, usually in sun-exp, expected=Rough, scaly patches on the skin, usually in sun-exposed areas\n",
      "predicting 128 ...\n",
      "done 128.\n",
      "result differs on id=128, output=Acute Otitis Media | Ear pain, hearing loss, recurrent ear infections, expected=Ear pain, fever, fluid drainage from the ear, hearing loss or muffled hearing in the affected ear\n",
      "predicting 129 ...\n"
     ]
    },
    {
     "name": "stderr",
     "output_type": "stream",
     "text": [
      "The attention mask and the pad token id were not set. As a consequence, you may observe unexpected behavior. Please pass your input's `attention_mask` to obtain reliable results.\n",
      "Setting `pad_token_id` to `eos_token_id`:50256 for open-end generation.\n"
     ]
    },
    {
     "name": "stdout",
     "output_type": "stream",
     "text": [
      "done 129.\n",
      "result differs on id=129, output=Astigmatism | Recurrent episodes of wheezing, chest tightness, coughing, especially at, expected=Blurred or distorted vision, eye strain, headaches,uneven curvature of cornea\n",
      "predicting 130 ...\n"
     ]
    },
    {
     "name": "stderr",
     "output_type": "stream",
     "text": [
      "The attention mask and the pad token id were not set. As a consequence, you may observe unexpected behavior. Please pass your input's `attention_mask` to obtain reliable results.\n",
      "Setting `pad_token_id` to `eos_token_id`:50256 for open-end generation.\n"
     ]
    },
    {
     "name": "stdout",
     "output_type": "stream",
     "text": [
      "done 130.\n",
      "result differs on id=130, output=Tuberous Sclerosis | Benign tumors in various organs, seizures, developmental delays, skin abnormalities, expected=Benign tumors in various organs, seizures, developmental delays, skin abnormalities\n",
      "predicting 131 ...\n"
     ]
    },
    {
     "name": "stderr",
     "output_type": "stream",
     "text": [
      "The attention mask and the pad token id were not set. As a consequence, you may observe unexpected behavior. Please pass your input's `attention_mask` to obtain reliable results.\n",
      "Setting `pad_token_id` to `eos_token_id`:50256 for open-end generation.\n"
     ]
    },
    {
     "name": "stdout",
     "output_type": "stream",
     "text": [
      "done 131.\n",
      "result differs on id=131, output=Empyema | Fever, chest pain, productive cough with foul-smelling or bloody sp, expected=Fever, chest pain, productive cough with foul-smelling or bloody sputum\n",
      "predicting 132 ...\n"
     ]
    },
    {
     "name": "stderr",
     "output_type": "stream",
     "text": [
      "The attention mask and the pad token id were not set. As a consequence, you may observe unexpected behavior. Please pass your input's `attention_mask` to obtain reliable results.\n",
      "Setting `pad_token_id` to `eos_token_id`:50256 for open-end generation.\n"
     ]
    },
    {
     "name": "stdout",
     "output_type": "stream",
     "text": [
      "done 132.\n",
      "result differs on id=132, output=Presbycusis | Gradual hearing loss, difficulty hearing high-pitched sounds, speech sounds, expected=Gradual hearing loss, difficulty hearing high-pitched sounds, speech sounds muffled or unclear\n",
      "predicting 133 ...\n"
     ]
    },
    {
     "name": "stderr",
     "output_type": "stream",
     "text": [
      "The attention mask and the pad token id were not set. As a consequence, you may observe unexpected behavior. Please pass your input's `attention_mask` to obtain reliable results.\n",
      "Setting `pad_token_id` to `eos_token_id`:50256 for open-end generation.\n"
     ]
    },
    {
     "name": "stdout",
     "output_type": "stream",
     "text": [
      "done 133.\n",
      "result differs on id=133, output=Neonatal Jaundice | Yellowing of the skin and eyes, pale stools, dark, expected=Yellowing of the skin and eyes, pale stools, dark urine\n",
      "predicting 134 ...\n"
     ]
    },
    {
     "name": "stderr",
     "output_type": "stream",
     "text": [
      "The attention mask and the pad token id were not set. As a consequence, you may observe unexpected behavior. Please pass your input's `attention_mask` to obtain reliable results.\n",
      "Setting `pad_token_id` to `eos_token_id`:50256 for open-end generation.\n"
     ]
    },
    {
     "name": "stdout",
     "output_type": "stream",
     "text": [
      "done 134.\n",
      "result differs on id=134, output=Dislocation of the Elbow | Shoulder pain, swelling, inability to straighten the leg, expected=Severe pain, visible deformity, swelling, inability to move the elbow, numbness or tingling in the hand/arm\n",
      "predicting 135 ...\n"
     ]
    },
    {
     "name": "stderr",
     "output_type": "stream",
     "text": [
      "The attention mask and the pad token id were not set. As a consequence, you may observe unexpected behavior. Please pass your input's `attention_mask` to obtain reliable results.\n",
      "Setting `pad_token_id` to `eos_token_id`:50256 for open-end generation.\n",
      "The attention mask and the pad token id were not set. As a consequence, you may observe unexpected behavior. Please pass your input's `attention_mask` to obtain reliable results.\n",
      "Setting `pad_token_id` to `eos_token_id`:50256 for open-end generation.\n"
     ]
    },
    {
     "name": "stdout",
     "output_type": "stream",
     "text": [
      "done 135.\n",
      "result differs on id=135, output=Spondylosis | Neck or back pain, stiffness, limited range of motion, numbness or, expected=Neck or back pain, stiffness, limited range of motion, numbness or weakness in the extremities\n",
      "predicting 136 ...\n",
      "done 136.\n",
      "result differs on id=136, output=Herpangina | Persistent consumption of non-food substances, expected=Sore throat, fever, painful sores or blisters in the mouth and throat, difficulty swallowing, loss of appetite\n",
      "predicting 137 ...\n"
     ]
    },
    {
     "name": "stderr",
     "output_type": "stream",
     "text": [
      "The attention mask and the pad token id were not set. As a consequence, you may observe unexpected behavior. Please pass your input's `attention_mask` to obtain reliable results.\n",
      "Setting `pad_token_id` to `eos_token_id`:50256 for open-end generation.\n"
     ]
    },
    {
     "name": "stdout",
     "output_type": "stream",
     "text": [
      "done 137.\n",
      "result differs on id=137, output=Poisoning due to Antidepressants | Nausea, vomiting, drowsiness, dizz, expected=Nausea, vomiting, drowsiness, dizziness, confusion, seizures, changes in heart rate, low blood pressure, respiratory distress\n",
      "predicting 138 ...\n"
     ]
    },
    {
     "name": "stderr",
     "output_type": "stream",
     "text": [
      "The attention mask and the pad token id were not set. As a consequence, you may observe unexpected behavior. Please pass your input's `attention_mask` to obtain reliable results.\n",
      "Setting `pad_token_id` to `eos_token_id`:50256 for open-end generation.\n"
     ]
    },
    {
     "name": "stdout",
     "output_type": "stream",
     "text": [
      "done 138.\n",
      "result differs on id=138, output=Infection of Open Wound | Wheezing, chest pain, fever, night sweats,, expected=Redness, swelling, warmth, pain or tenderness at the wound site, pus or drainage from the wound, fever, malaise\n",
      "predicting 139 ...\n"
     ]
    },
    {
     "name": "stderr",
     "output_type": "stream",
     "text": [
      "The attention mask and the pad token id were not set. As a consequence, you may observe unexpected behavior. Please pass your input's `attention_mask` to obtain reliable results.\n",
      "Setting `pad_token_id` to `eos_token_id`:50256 for open-end generation.\n",
      "The attention mask and the pad token id were not set. As a consequence, you may observe unexpected behavior. Please pass your input's `attention_mask` to obtain reliable results.\n",
      "Setting `pad_token_id` to `eos_token_id`:50256 for open-end generation.\n"
     ]
    },
    {
     "name": "stdout",
     "output_type": "stream",
     "text": [
      "done 139.\n",
      "result differs on id=139, output=Protein Deficiency | Muscle wasting, fatigue, weakness, delayed wound healing, swelling of the limbs, expected=Muscle wasting, fatigue, weakness, delayed wound healing, swelling of the limbs, hair loss, impaired immunity\n",
      "predicting 140 ...\n",
      "done 140.\n",
      "result differs on id=140, output=Myoclonus | Ear pain, hearing loss, recurrent ear infections, expected=Sudden, brief muscle contractions or jerks, often affecting the arms, legs, or face\n",
      "predicting 141 ...\n"
     ]
    },
    {
     "name": "stderr",
     "output_type": "stream",
     "text": [
      "The attention mask and the pad token id were not set. As a consequence, you may observe unexpected behavior. Please pass your input's `attention_mask` to obtain reliable results.\n",
      "Setting `pad_token_id` to `eos_token_id`:50256 for open-end generation.\n"
     ]
    },
    {
     "name": "stdout",
     "output_type": "stream",
     "text": [
      "done 141.\n",
      "result differs on id=141, output=Bone Spur of the Calcaneus | Painful, red lump or swelling on the eyelid, expected=Heel pain, especially when walking or standing, tenderness, swelling, inflammation of the surrounding tissue\n",
      "predicting 142 ...\n"
     ]
    },
    {
     "name": "stderr",
     "output_type": "stream",
     "text": [
      "The attention mask and the pad token id were not set. As a consequence, you may observe unexpected behavior. Please pass your input's `attention_mask` to obtain reliable results.\n",
      "Setting `pad_token_id` to `eos_token_id`:50256 for open-end generation.\n"
     ]
    },
    {
     "name": "stdout",
     "output_type": "stream",
     "text": [
      "done 142.\n",
      "result differs on id=142, output=Von Willebrand Disease | Easy or excessive bruising, prolonged or excessive bleeding from cuts or injuries, expected=Easy or excessive bruising, prolonged or excessive bleeding from cuts or injuries, frequent nosebleeds, heavy or prolonged menstrual periods, bleeding gums, blood in urine or stool\n",
      "predicting 143 ...\n"
     ]
    },
    {
     "name": "stderr",
     "output_type": "stream",
     "text": [
      "The attention mask and the pad token id were not set. As a consequence, you may observe unexpected behavior. Please pass your input's `attention_mask` to obtain reliable results.\n",
      "Setting `pad_token_id` to `eos_token_id`:50256 for open-end generation.\n"
     ]
    },
    {
     "name": "stdout",
     "output_type": "stream",
     "text": [
      "done 143.\n",
      "result differs on id=143, output=Heart Blockage | Decreased urine output, fluid retention, fatigue, shortness of breath, nausea, expected=Fatigue, dizziness, fainting, chest pain or discomfort, shortness of breath, irregular heart rhythms\n",
      "predicting 144 ...\n"
     ]
    },
    {
     "name": "stderr",
     "output_type": "stream",
     "text": [
      "The attention mask and the pad token id were not set. As a consequence, you may observe unexpected behavior. Please pass your input's `attention_mask` to obtain reliable results.\n",
      "Setting `pad_token_id` to `eos_token_id`:50256 for open-end generation.\n"
     ]
    },
    {
     "name": "stdout",
     "output_type": "stream",
     "text": [
      "done 144.\n",
      "result differs on id=144, output=Colonic Polyp | Most colonic polyps do not cause symptoms. Some larger polyps or, expected=Most colonic polyps do not cause symptoms. Some larger polyps or certain types may cause rectal bleeding or changes in bowel habits, such as diarrhea or constipation.\n",
      "predicting 145 ...\n"
     ]
    },
    {
     "name": "stderr",
     "output_type": "stream",
     "text": [
      "The attention mask and the pad token id were not set. As a consequence, you may observe unexpected behavior. Please pass your input's `attention_mask` to obtain reliable results.\n",
      "Setting `pad_token_id` to `eos_token_id`:50256 for open-end generation.\n"
     ]
    },
    {
     "name": "stdout",
     "output_type": "stream",
     "text": [
      "done 145.\n",
      "result differs on id=145, output=Hypospadias | Abnormal positioning of the urethral opening on the underside of the penis, expected=Abnormal positioning of the urethral opening on the underside of the penis, penile curvature, spraying of urine, difficulty in urination\n",
      "predicting 146 ...\n"
     ]
    },
    {
     "name": "stderr",
     "output_type": "stream",
     "text": [
      "The attention mask and the pad token id were not set. As a consequence, you may observe unexpected behavior. Please pass your input's `attention_mask` to obtain reliable results.\n",
      "Setting `pad_token_id` to `eos_token_id`:50256 for open-end generation.\n"
     ]
    },
    {
     "name": "stdout",
     "output_type": "stream",
     "text": [
      "done 146.\n",
      "result differs on id=146, output=Magnesium Deficiency | Muscle twitches or cramps, fatigue, weakness, loss of appetite,, expected=Muscle twitches or cramps, fatigue, weakness, loss of appetite, nausea, vomiting, irritability, mental confusion, irregular heartbeat, tingling or numbness, personality changes, seizures\n",
      "predicting 147 ...\n"
     ]
    },
    {
     "name": "stderr",
     "output_type": "stream",
     "text": [
      "The attention mask and the pad token id were not set. As a consequence, you may observe unexpected behavior. Please pass your input's `attention_mask` to obtain reliable results.\n",
      "Setting `pad_token_id` to `eos_token_id`:50256 for open-end generation.\n"
     ]
    },
    {
     "name": "stdout",
     "output_type": "stream",
     "text": [
      "done 147.\n",
      "result differs on id=147, output=Female Infertility of Unknown Cause of Cancer | Abdominal pain, high blood pressure, kidney stones, expected=Inability to conceive after one year of unprotected intercourse, irregular or absent menstrual cycles, hormonal imbalances, age-related factors, other\n",
      "predicting 148 ...\n"
     ]
    },
    {
     "name": "stderr",
     "output_type": "stream",
     "text": [
      "The attention mask and the pad token id were not set. As a consequence, you may observe unexpected behavior. Please pass your input's `attention_mask` to obtain reliable results.\n",
      "Setting `pad_token_id` to `eos_token_id`:50256 for open-end generation.\n",
      "The attention mask and the pad token id were not set. As a consequence, you may observe unexpected behavior. Please pass your input's `attention_mask` to obtain reliable results.\n",
      "Setting `pad_token_id` to `eos_token_id`:50256 for open-end generation.\n"
     ]
    },
    {
     "name": "stdout",
     "output_type": "stream",
     "text": [
      "done 148.\n",
      "result differs on id=148, output=Pericarditis | Chest pain (sharp and stabbing), worsens with deep breaths or lying down, expected=Chest pain (sharp and stabbing), worsens with deep breaths or lying down, fever\n",
      "predicting 149 ...\n",
      "done 149.\n",
      "result differs on id=149, output=Attention Deficit Hyperactivity Disorder (ADHD) | High fever, strong desire or cravings, expected=Inattention, hyperactivity, impulsivity\n",
      "predicting 150 ...\n"
     ]
    },
    {
     "name": "stderr",
     "output_type": "stream",
     "text": [
      "The attention mask and the pad token id were not set. As a consequence, you may observe unexpected behavior. Please pass your input's `attention_mask` to obtain reliable results.\n",
      "Setting `pad_token_id` to `eos_token_id`:50256 for open-end generation.\n"
     ]
    },
    {
     "name": "stdout",
     "output_type": "stream",
     "text": [
      "done 150.\n",
      "result differs on id=150, output=Neuromyelitis Optica | Optic neuritis (vision loss, pain with eye movement, expected=Optic neuritis (vision loss, pain with eye movement), transverse myelitis (weakness, numbness, or paralysis of the limbs, loss of bladder or bowel control)\n",
      "predicting 151 ...\n"
     ]
    },
    {
     "name": "stderr",
     "output_type": "stream",
     "text": [
      "The attention mask and the pad token id were not set. As a consequence, you may observe unexpected behavior. Please pass your input's `attention_mask` to obtain reliable results.\n",
      "Setting `pad_token_id` to `eos_token_id`:50256 for open-end generation.\n"
     ]
    },
    {
     "name": "stdout",
     "output_type": "stream",
     "text": [
      "done 151.\n",
      "result differs on id=151, output=Pulmonic Valve Disease | Fatigue, shortness of breath, chest pain or discomfort,, expected=Fatigue, shortness of breath, chest pain or discomfort, heart palpitations, fainting or lightheadedness, swollen legs or ankles\n",
      "predicting 152 ...\n"
     ]
    },
    {
     "name": "stderr",
     "output_type": "stream",
     "text": [
      "The attention mask and the pad token id were not set. As a consequence, you may observe unexpected behavior. Please pass your input's `attention_mask` to obtain reliable results.\n",
      "Setting `pad_token_id` to `eos_token_id`:50256 for open-end generation.\n",
      "The attention mask and the pad token id were not set. As a consequence, you may observe unexpected behavior. Please pass your input's `attention_mask` to obtain reliable results.\n",
      "Setting `pad_token_id` to `eos_token_id`:50256 for open-end generation.\n"
     ]
    },
    {
     "name": "stdout",
     "output_type": "stream",
     "text": [
      "done 152.\n",
      "result differs on id=152, output=Tietze Syndrome | Chest pain, swelling and tenderness of the cartilage connecting the ribs to, expected=Chest pain, swelling and tenderness of the cartilage connecting the ribs to the breastbone\n",
      "predicting 153 ...\n",
      "done 153.\n",
      "result differs on id=153, output=Cranial Nerve Palsy | Depends on the specific cranial nerve involved; symptoms, expected=Depends on the specific cranial nerve involved; symptoms can include vision changes, eye movement abnormalities, facial weakness or paralysis, difficulty swallowing or speaking, loss of sensation in the face or other areas\n",
      "predicting 154 ...\n"
     ]
    },
    {
     "name": "stderr",
     "output_type": "stream",
     "text": [
      "The attention mask and the pad token id were not set. As a consequence, you may observe unexpected behavior. Please pass your input's `attention_mask` to obtain reliable results.\n",
      "Setting `pad_token_id` to `eos_token_id`:50256 for open-end generation.\n"
     ]
    },
    {
     "name": "stdout",
     "output_type": "stream",
     "text": [
      "done 154.\n",
      "result differs on id=154, output=Conversion Disorder | Easy or excessive bruising, prolonged or heavy menstrual periods, pelvic pain or discomfort,, expected=Neurological symptoms that cannot be explained by a medical condition or injury, such as paralysis, blindness, seizures, or difficulty speaking\n",
      "predicting 155 ...\n"
     ]
    },
    {
     "name": "stderr",
     "output_type": "stream",
     "text": [
      "The attention mask and the pad token id were not set. As a consequence, you may observe unexpected behavior. Please pass your input's `attention_mask` to obtain reliable results.\n",
      "Setting `pad_token_id` to `eos_token_id`:50256 for open-end generation.\n"
     ]
    },
    {
     "name": "stdout",
     "output_type": "stream",
     "text": [
      "done 155.\n",
      "result differs on id=155, output=Complex Regional Pain Syndrome (CRPS) | Severe and persistent pain, changes in skin color, expected=Severe and chronic pain, often in the limbs, with associated swelling, changes in skin color or temperature, abnormal sweating, limited range of motion\n",
      "predicting 156 ...\n"
     ]
    },
    {
     "name": "stderr",
     "output_type": "stream",
     "text": [
      "The attention mask and the pad token id were not set. As a consequence, you may observe unexpected behavior. Please pass your input's `attention_mask` to obtain reliable results.\n",
      "Setting `pad_token_id` to `eos_token_id`:50256 for open-end generation.\n"
     ]
    },
    {
     "name": "stdout",
     "output_type": "stream",
     "text": [
      "done 156.\n",
      "result differs on id=156, output=Otosclerosis | Hearing loss (gradual and progressive), tinnitus (ringing in, expected=Hearing loss (gradual and progressive), tinnitus (ringing in the ears), dizziness or balance problems\n",
      "predicting 157 ...\n"
     ]
    },
    {
     "name": "stderr",
     "output_type": "stream",
     "text": [
      "The attention mask and the pad token id were not set. As a consequence, you may observe unexpected behavior. Please pass your input's `attention_mask` to obtain reliable results.\n",
      "Setting `pad_token_id` to `eos_token_id`:50256 for open-end generation.\n"
     ]
    },
    {
     "name": "stdout",
     "output_type": "stream",
     "text": [
      "done 157.\n",
      "result differs on id=157, output=Hypothyroidism | Fatigue, weight gain, sensitivity to cold, dry, dry skin,, expected=Fatigue, weight gain, sensitivity to cold, dry skin, constipation, depression, muscle weakness, elevated cholesterol levels\n",
      "predicting 158 ...\n"
     ]
    },
    {
     "name": "stderr",
     "output_type": "stream",
     "text": [
      "The attention mask and the pad token id were not set. As a consequence, you may observe unexpected behavior. Please pass your input's `attention_mask` to obtain reliable results.\n",
      "Setting `pad_token_id` to `eos_token_id`:50256 for open-end generation.\n"
     ]
    },
    {
     "name": "stdout",
     "output_type": "stream",
     "text": [
      "done 158.\n",
      "result differs on id=158, output=Primary Insomnia | Difficulty falling asleep or staying asleep, daytime sleepiness, irritability, difficulty concentrating, expected=Difficulty falling asleep or staying asleep, daytime sleepiness, irritability, difficulty concentrating\n",
      "predicting 159 ...\n"
     ]
    },
    {
     "name": "stderr",
     "output_type": "stream",
     "text": [
      "The attention mask and the pad token id were not set. As a consequence, you may observe unexpected behavior. Please pass your input's `attention_mask` to obtain reliable results.\n",
      "Setting `pad_token_id` to `eos_token_id`:50256 for open-end generation.\n"
     ]
    },
    {
     "name": "stdout",
     "output_type": "stream",
     "text": [
      "done 159.\n",
      "result differs on id=159, output=Lice | Itching and visible presence of lice or nits (eggs) in the, expected=Itching and visible presence of lice or nits (eggs) in the hair\n",
      "predicting 160 ...\n"
     ]
    },
    {
     "name": "stderr",
     "output_type": "stream",
     "text": [
      "The attention mask and the pad token id were not set. As a consequence, you may observe unexpected behavior. Please pass your input's `attention_mask` to obtain reliable results.\n",
      "Setting `pad_token_id` to `eos_token_id`:50256 for open-end generation.\n"
     ]
    },
    {
     "name": "stdout",
     "output_type": "stream",
     "text": [
      "done 160.\n",
      "result differs on id=160, output=Vitamin B12 Deficiency | Fatigue, weakness, pale skin, shortness of breath,, expected=Fatigue, weakness, pale skin, shortness of breath, tingling or numbness in the hands and feet, balance problems, sore tongue\n",
      "predicting 161 ...\n"
     ]
    },
    {
     "name": "stderr",
     "output_type": "stream",
     "text": [
      "The attention mask and the pad token id were not set. As a consequence, you may observe unexpected behavior. Please pass your input's `attention_mask` to obtain reliable results.\n",
      "Setting `pad_token_id` to `eos_token_id`:50256 for open-end generation.\n",
      "The attention mask and the pad token id were not set. As a consequence, you may observe unexpected behavior. Please pass your input's `attention_mask` to obtain reliable results.\n",
      "Setting `pad_token_id` to `eos_token_id`:50256 for open-end generation.\n"
     ]
    },
    {
     "name": "stdout",
     "output_type": "stream",
     "text": [
      "done 161.\n",
      "result differs on id=161, output=Vulvodynia | Persistent pain or discomfort in the vulva, burning, stinging, expected=Persistent pain or discomfort in the vulva, burning, stinging, rawness, itching\n",
      "predicting 162 ...\n",
      "done 162.\n",
      "result differs on id=162, output=Endometriosis | Pelvic pain, painful periods, infertility, expected=Pelvic pain (during menstruation, intercourse, or bowel movements), heavy menstrual bleeding, infertility\n",
      "predicting 163 ...\n"
     ]
    },
    {
     "name": "stderr",
     "output_type": "stream",
     "text": [
      "The attention mask and the pad token id were not set. As a consequence, you may observe unexpected behavior. Please pass your input's `attention_mask` to obtain reliable results.\n",
      "Setting `pad_token_id` to `eos_token_id`:50256 for open-end generation.\n"
     ]
    },
    {
     "name": "stdout",
     "output_type": "stream",
     "text": [
      "done 163.\n",
      "result differs on id=163, output=Vasculitis | Inflammation of blood vessels leading to various symptoms depending on the affected organs, expected=Inflammation of blood vessels leading to various symptoms depending on the affected organs, including rash, fever, fatigue, muscle and joint pain, shortness of breath, weight loss\n",
      "predicting 164 ...\n"
     ]
    },
    {
     "name": "stderr",
     "output_type": "stream",
     "text": [
      "The attention mask and the pad token id were not set. As a consequence, you may observe unexpected behavior. Please pass your input's `attention_mask` to obtain reliable results.\n",
      "Setting `pad_token_id` to `eos_token_id`:50256 for open-end generation.\n",
      "The attention mask and the pad token id were not set. As a consequence, you may observe unexpected behavior. Please pass your input's `attention_mask` to obtain reliable results.\n",
      "Setting `pad_token_id` to `eos_token_id`:50256 for open-end generation.\n"
     ]
    },
    {
     "name": "stdout",
     "output_type": "stream",
     "text": [
      "done 164.\n",
      "result differs on id=164, output=Concussion | Headache, dizziness, nausea or vomiting, confusion, memory problems, sensitivity to, expected=Headache, dizziness, nausea or vomiting, confusion, memory problems, sensitivity to light or noise, mood changes\n",
      "predicting 165 ...\n",
      "done 165.\n",
      "result differs on id=165, output=Oral Leukoplakia | Joint pain, swelling, difficulty breathing, expected=White patches or plaques in the mouth, often on the tongue or inside of the cheeks, that cannot be scraped off\n",
      "predicting 166 ...\n"
     ]
    },
    {
     "name": "stderr",
     "output_type": "stream",
     "text": [
      "The attention mask and the pad token id were not set. As a consequence, you may observe unexpected behavior. Please pass your input's `attention_mask` to obtain reliable results.\n",
      "Setting `pad_token_id` to `eos_token_id`:50256 for open-end generation.\n",
      "The attention mask and the pad token id were not set. As a consequence, you may observe unexpected behavior. Please pass your input's `attention_mask` to obtain reliable results.\n",
      "Setting `pad_token_id` to `eos_token_id`:50256 for open-end generation.\n"
     ]
    },
    {
     "name": "stdout",
     "output_type": "stream",
     "text": [
      "done 166.\n",
      "result differs on id=166, output=Chronic Kidney Disease | Fatigue, swelling of the legs or ankles, decreased appetite, difficulty, expected=Fatigue, swelling of the legs or ankles, decreased appetite, difficulty concentrating, increased urination or urine changes, blood in urine, high blood pressure\n",
      "predicting 167 ...\n",
      "done 167.\n",
      "result differs on id=167, output=Bladder Disorder | Frequent urination, urgency, pelvic pain, expected=Frequent urination, urgency, pelvic pain\n",
      "predicting 168 ...\n"
     ]
    },
    {
     "name": "stderr",
     "output_type": "stream",
     "text": [
      "The attention mask and the pad token id were not set. As a consequence, you may observe unexpected behavior. Please pass your input's `attention_mask` to obtain reliable results.\n",
      "Setting `pad_token_id` to `eos_token_id`:50256 for open-end generation.\n",
      "The attention mask and the pad token id were not set. As a consequence, you may observe unexpected behavior. Please pass your input's `attention_mask` to obtain reliable results.\n",
      "Setting `pad_token_id` to `eos_token_id`:50256 for open-end generation.\n"
     ]
    },
    {
     "name": "stdout",
     "output_type": "stream",
     "text": [
      "done 168.\n",
      "result differs on id=168, output=Chorioretinitis | Eye pain, blurred vision, sensitivity to light, expected=Eye pain, blurred vision, sensitivity to light\n",
      "predicting 169 ...\n",
      "done 169.\n",
      "result differs on id=169, output=Priapism | Persistent, painful erection, expected=Persistent, painful erection\n",
      "predicting 170 ...\n"
     ]
    },
    {
     "name": "stderr",
     "output_type": "stream",
     "text": [
      "The attention mask and the pad token id were not set. As a consequence, you may observe unexpected behavior. Please pass your input's `attention_mask` to obtain reliable results.\n",
      "Setting `pad_token_id` to `eos_token_id`:50256 for open-end generation.\n",
      "The attention mask and the pad token id were not set. As a consequence, you may observe unexpected behavior. Please pass your input's `attention_mask` to obtain reliable results.\n",
      "Setting `pad_token_id` to `eos_token_id`:50256 for open-end generation.\n"
     ]
    },
    {
     "name": "stdout",
     "output_type": "stream",
     "text": [
      "done 170.\n",
      "result differs on id=170, output=Myositis | Muscle weakness, pain, inflammation, expected=Muscle weakness, pain, inflammation\n",
      "predicting 171 ...\n",
      "done 171.\n",
      "result differs on id=171, output=Mononucleosis | Fatigue, sore throat, swollen lymph nodes, expected=Fatigue, sore throat, swollen lymph nodes\n",
      "predicting 172 ...\n"
     ]
    },
    {
     "name": "stderr",
     "output_type": "stream",
     "text": [
      "The attention mask and the pad token id were not set. As a consequence, you may observe unexpected behavior. Please pass your input's `attention_mask` to obtain reliable results.\n",
      "Setting `pad_token_id` to `eos_token_id`:50256 for open-end generation.\n"
     ]
    },
    {
     "name": "stdout",
     "output_type": "stream",
     "text": [
      "done 172.\n",
      "result differs on id=172, output=Neuralgia | Abdominal pain, high blood pressure, kidney stones, expected=Sharp, shooting pain along the affected nerve\n",
      "predicting 173 ...\n"
     ]
    },
    {
     "name": "stderr",
     "output_type": "stream",
     "text": [
      "The attention mask and the pad token id were not set. As a consequence, you may observe unexpected behavior. Please pass your input's `attention_mask` to obtain reliable results.\n",
      "Setting `pad_token_id` to `eos_token_id`:50256 for open-end generation.\n",
      "The attention mask and the pad token id were not set. As a consequence, you may observe unexpected behavior. Please pass your input's `attention_mask` to obtain reliable results.\n",
      "Setting `pad_token_id` to `eos_token_id`:50256 for open-end generation.\n"
     ]
    },
    {
     "name": "stdout",
     "output_type": "stream",
     "text": [
      "done 173.\n",
      "result differs on id=173, output=Polycystic Kidney Disease | Abdominal pain, high blood pressure, kidney cysts, expected=Abdominal pain, high blood pressure, kidney cysts\n",
      "predicting 174 ...\n",
      "done 174.\n",
      "result differs on id=174, output=Bipolar Disorder | Mood swings, manic episodes, depressive episodes, expected=Mood swings, manic episodes, depressive episodes\n",
      "predicting 175 ...\n"
     ]
    },
    {
     "name": "stderr",
     "output_type": "stream",
     "text": [
      "The attention mask and the pad token id were not set. As a consequence, you may observe unexpected behavior. Please pass your input's `attention_mask` to obtain reliable results.\n",
      "Setting `pad_token_id` to `eos_token_id`:50256 for open-end generation.\n"
     ]
    },
    {
     "name": "stdout",
     "output_type": "stream",
     "text": [
      "done 175.\n",
      "result differs on id=175, output=Amyloidosis | Fatigue, weight loss, organ dysfunction, expected=Fatigue, weight loss, organ dysfunction\n",
      "predicting 176 ...\n"
     ]
    },
    {
     "name": "stderr",
     "output_type": "stream",
     "text": [
      "The attention mask and the pad token id were not set. As a consequence, you may observe unexpected behavior. Please pass your input's `attention_mask` to obtain reliable results.\n",
      "Setting `pad_token_id` to `eos_token_id`:50256 for open-end generation.\n",
      "The attention mask and the pad token id were not set. As a consequence, you may observe unexpected behavior. Please pass your input's `attention_mask` to obtain reliable results.\n",
      "Setting `pad_token_id` to `eos_token_id`:50256 for open-end generation.\n"
     ]
    },
    {
     "name": "stdout",
     "output_type": "stream",
     "text": [
      "done 176.\n",
      "result differs on id=176, output=Chronic Inflammatory Demyelinating Polyneuropathy (CIDP) | Weak, expected=Weakness, numbness, tingling in limbs\n",
      "predicting 177 ...\n",
      "done 177.\n",
      "result differs on id=177, output=Gastroesophageal Reflux Disease (GERD) | Heartburn, acid ref, expected=Heartburn, acid reflux, chest pain\n",
      "predicting 178 ...\n"
     ]
    },
    {
     "name": "stderr",
     "output_type": "stream",
     "text": [
      "The attention mask and the pad token id were not set. As a consequence, you may observe unexpected behavior. Please pass your input's `attention_mask` to obtain reliable results.\n",
      "Setting `pad_token_id` to `eos_token_id`:50256 for open-end generation.\n",
      "The attention mask and the pad token id were not set. As a consequence, you may observe unexpected behavior. Please pass your input's `attention_mask` to obtain reliable results.\n",
      "Setting `pad_token_id` to `eos_token_id`:50256 for open-end generation.\n"
     ]
    },
    {
     "name": "stdout",
     "output_type": "stream",
     "text": [
      "done 178.\n",
      "result differs on id=178, output=Vitreous Hemorrhage | Floaters in vision, blurry vision (if the eye, expected=Floaters in vision, blurry vision, eye pain\n",
      "predicting 179 ...\n",
      "done 179.\n",
      "result differs on id=179, output=Antimicrobial Drugs Poisoning | Nausea, vomiting diarrhea, neurological symptoms, expected=Nausea, vomiting, diarrhea, neurological symptoms\n",
      "predicting 180 ...\n"
     ]
    },
    {
     "name": "stderr",
     "output_type": "stream",
     "text": [
      "The attention mask and the pad token id were not set. As a consequence, you may observe unexpected behavior. Please pass your input's `attention_mask` to obtain reliable results.\n",
      "Setting `pad_token_id` to `eos_token_id`:50256 for open-end generation.\n"
     ]
    },
    {
     "name": "stdout",
     "output_type": "stream",
     "text": [
      "done 180.\n",
      "result differs on id=180, output=Scleroderma | Eye redness, severe eye pain, blurred vision, expected=Thickening of the skin, Raynaud's phenomenon\n",
      "predicting 181 ...\n"
     ]
    },
    {
     "name": "stderr",
     "output_type": "stream",
     "text": [
      "The attention mask and the pad token id were not set. As a consequence, you may observe unexpected behavior. Please pass your input's `attention_mask` to obtain reliable results.\n",
      "Setting `pad_token_id` to `eos_token_id`:50256 for open-end generation.\n"
     ]
    },
    {
     "name": "stdout",
     "output_type": "stream",
     "text": [
      "done 181.\n",
      "result differs on id=181, output=Myasthenia Gravis | Ear pain, swelling and redness of the ear, difficulty hearing, expected=Muscle weakness, fatigue, difficulty speaking\n",
      "predicting 182 ...\n"
     ]
    },
    {
     "name": "stderr",
     "output_type": "stream",
     "text": [
      "The attention mask and the pad token id were not set. As a consequence, you may observe unexpected behavior. Please pass your input's `attention_mask` to obtain reliable results.\n",
      "Setting `pad_token_id` to `eos_token_id`:50256 for open-end generation.\n",
      "The attention mask and the pad token id were not set. As a consequence, you may observe unexpected behavior. Please pass your input's `attention_mask` to obtain reliable results.\n",
      "Setting `pad_token_id` to `eos_token_id`:50256 for open-end generation.\n"
     ]
    },
    {
     "name": "stdout",
     "output_type": "stream",
     "text": [
      "done 182.\n",
      "result differs on id=182, output=Hypoglycemia | Shaking, dizziness, confusion, sweating, nausea, vomiting, insomnia, expected=Shaking, dizziness, confusion, sweating\n",
      "predicting 183 ...\n",
      "done 183.\n",
      "result differs on id=183, output=Idiopathic Absence of Menstruation | Lack of menstrual periods, expected=Lack of menstrual periods\n",
      "predicting 184 ...\n"
     ]
    },
    {
     "name": "stderr",
     "output_type": "stream",
     "text": [
      "The attention mask and the pad token id were not set. As a consequence, you may observe unexpected behavior. Please pass your input's `attention_mask` to obtain reliable results.\n",
      "Setting `pad_token_id` to `eos_token_id`:50256 for open-end generation.\n"
     ]
    },
    {
     "name": "stdout",
     "output_type": "stream",
     "text": [
      "done 184.\n",
      "result differs on id=184, output=Dislocation of the Ankle | Swelling, severe pain, inability to bear weight, expected=Swelling, severe pain, inability to bear weight\n",
      "predicting 185 ...\n"
     ]
    },
    {
     "name": "stderr",
     "output_type": "stream",
     "text": [
      "The attention mask and the pad token id were not set. As a consequence, you may observe unexpected behavior. Please pass your input's `attention_mask` to obtain reliable results.\n",
      "Setting `pad_token_id` to `eos_token_id`:50256 for open-end generation.\n"
     ]
    },
    {
     "name": "stdout",
     "output_type": "stream",
     "text": [
      "done 185.\n",
      "result differs on id=185, output=Carbon Monoxide Poisoning | Nausea, vomiting gasps, abdominal pain or cramps, expected=Headache, dizziness, nausea, confusion\n",
      "predicting 186 ...\n"
     ]
    },
    {
     "name": "stderr",
     "output_type": "stream",
     "text": [
      "The attention mask and the pad token id were not set. As a consequence, you may observe unexpected behavior. Please pass your input's `attention_mask` to obtain reliable results.\n",
      "Setting `pad_token_id` to `eos_token_id`:50256 for open-end generation.\n"
     ]
    },
    {
     "name": "stdout",
     "output_type": "stream",
     "text": [
      "done 186.\n",
      "result differs on id=186, output=Panic Attack | Nausea, vomiting depression, insomnia, restlessness, expected=Chest pain, shortness of breath, palpitations\n",
      "predicting 187 ...\n"
     ]
    },
    {
     "name": "stderr",
     "output_type": "stream",
     "text": [
      "The attention mask and the pad token id were not set. As a consequence, you may observe unexpected behavior. Please pass your input's `attention_mask` to obtain reliable results.\n",
      "Setting `pad_token_id` to `eos_token_id`:50256 for open-end generation.\n"
     ]
    },
    {
     "name": "stdout",
     "output_type": "stream",
     "text": [
      "done 187.\n",
      "result differs on id=187, output=Plantar Fasciitis | Chest pain or discomfort (sharp and stabbing), worsens with deep, expected=Heel pain, tenderness, difficulty walking\n",
      "predicting 188 ...\n"
     ]
    },
    {
     "name": "stderr",
     "output_type": "stream",
     "text": [
      "The attention mask and the pad token id were not set. As a consequence, you may observe unexpected behavior. Please pass your input's `attention_mask` to obtain reliable results.\n",
      "Setting `pad_token_id` to `eos_token_id`:50256 for open-end generation.\n",
      "The attention mask and the pad token id were not set. As a consequence, you may observe unexpected behavior. Please pass your input's `attention_mask` to obtain reliable results.\n",
      "Setting `pad_token_id` to `eos_token_id`:50256 for open-end generation.\n"
     ]
    },
    {
     "name": "stdout",
     "output_type": "stream",
     "text": [
      "done 188.\n",
      "result differs on id=188, output=Hyperopia | Blurred distance vision, eyestrain, squinting, expected=Difficulty seeing objects up close, blurred vision when focusing on near objects\n",
      "predicting 189 ...\n",
      "done 189.\n",
      "result differs on id=189, output=Sedatives Poisoning | Drowsiness, confusion, slowed breathing, expected=Drowsiness, confusion, slowed breathing\n",
      "predicting 190 ...\n"
     ]
    },
    {
     "name": "stderr",
     "output_type": "stream",
     "text": [
      "The attention mask and the pad token id were not set. As a consequence, you may observe unexpected behavior. Please pass your input's `attention_mask` to obtain reliable results.\n",
      "Setting `pad_token_id` to `eos_token_id`:50256 for open-end generation.\n"
     ]
    },
    {
     "name": "stdout",
     "output_type": "stream",
     "text": [
      "done 190.\n",
      "result differs on id=190, output=Pemphigus | Floaters (spots or cobweb-like shapes in vision),, expected=Painful blisters on the skin and mucous membranes\n",
      "predicting 191 ...\n"
     ]
    },
    {
     "name": "stderr",
     "output_type": "stream",
     "text": [
      "The attention mask and the pad token id were not set. As a consequence, you may observe unexpected behavior. Please pass your input's `attention_mask` to obtain reliable results.\n",
      "Setting `pad_token_id` to `eos_token_id`:50256 for open-end generation.\n",
      "The attention mask and the pad token id were not set. As a consequence, you may observe unexpected behavior. Please pass your input's `attention_mask` to obtain reliable results.\n",
      "Setting `pad_token_id` to `eos_token_id`:50256 for open-end generation.\n"
     ]
    },
    {
     "name": "stdout",
     "output_type": "stream",
     "text": [
      "done 191.\n",
      "result differs on id=191, output=Peyronie Disease | Curvature of the penis, pain during erections, expected=Curvature of the penis, pain during erections\n",
      "predicting 192 ...\n",
      "done 192.\n",
      "result differs on id=192, output=Hiatal Hernia | Heartburn, chest pain, difficulty swallowing, expected=Heartburn, chest pain, difficulty swallowing\n",
      "predicting 193 ...\n"
     ]
    },
    {
     "name": "stderr",
     "output_type": "stream",
     "text": [
      "The attention mask and the pad token id were not set. As a consequence, you may observe unexpected behavior. Please pass your input's `attention_mask` to obtain reliable results.\n",
      "Setting `pad_token_id` to `eos_token_id`:50256 for open-end generation.\n"
     ]
    },
    {
     "name": "stdout",
     "output_type": "stream",
     "text": [
      "done 193.\n",
      "result differs on id=193, output=Extrapyramidal Effect of Drugs Poisoning | Muscle stiffness, tremors, involuntary movements, expected=Muscle stiffness, tremors, involuntary movements\n",
      "predicting 194 ...\n"
     ]
    },
    {
     "name": "stderr",
     "output_type": "stream",
     "text": [
      "The attention mask and the pad token id were not set. As a consequence, you may observe unexpected behavior. Please pass your input's `attention_mask` to obtain reliable results.\n",
      "Setting `pad_token_id` to `eos_token_id`:50256 for open-end generation.\n",
      "The attention mask and the pad token id were not set. As a consequence, you may observe unexpected behavior. Please pass your input's `attention_mask` to obtain reliable results.\n",
      "Setting `pad_token_id` to `eos_token_id`:50256 for open-end generation.\n"
     ]
    },
    {
     "name": "stdout",
     "output_type": "stream",
     "text": [
      "done 194.\n",
      "result differs on id=194, output=Meniere Disease | Vertigo, hearing loss, tinnitus, ear fullness, expected=Vertigo, hearing loss, tinnitus, ear fullness\n",
      "predicting 195 ...\n",
      "done 195.\n",
      "result differs on id=195, output=Anal Fissure | Pain during bowel movements, rectal bleeding, expected=Pain during bowel movements, rectal bleeding\n",
      "predicting 196 ...\n"
     ]
    },
    {
     "name": "stderr",
     "output_type": "stream",
     "text": [
      "The attention mask and the pad token id were not set. As a consequence, you may observe unexpected behavior. Please pass your input's `attention_mask` to obtain reliable results.\n",
      "Setting `pad_token_id` to `eos_token_id`:50256 for open-end generation.\n"
     ]
    },
    {
     "name": "stdout",
     "output_type": "stream",
     "text": [
      "done 196.\n",
      "result differs on id=196, output=Chronic Otitis Media | Ear pain, hearing loss, recurrent ear infections, expected=Ear pain, hearing loss, recurrent ear infections\n",
      "predicting 197 ...\n"
     ]
    },
    {
     "name": "stderr",
     "output_type": "stream",
     "text": [
      "The attention mask and the pad token id were not set. As a consequence, you may observe unexpected behavior. Please pass your input's `attention_mask` to obtain reliable results.\n",
      "Setting `pad_token_id` to `eos_token_id`:50256 for open-end generation.\n",
      "The attention mask and the pad token id were not set. As a consequence, you may observe unexpected behavior. Please pass your input's `attention_mask` to obtain reliable results.\n",
      "Setting `pad_token_id` to `eos_token_id`:50256 for open-end generation.\n"
     ]
    },
    {
     "name": "stdout",
     "output_type": "stream",
     "text": [
      "done 197.\n",
      "result differs on id=197, output=Hirschsprung Disease | Chronic constipation, abdominal distension, failure to pass meconium, expected=Chronic constipation, abdominal distension, failure to pass meconium (in newborns)\n",
      "predicting 198 ...\n",
      "done 198.\n",
      "result differs on id=198, output=Polymyalgia Rheumatica | Muscle pain and stiffness, joint pain, fatigue, expected=Muscle pain and stiffness, joint pain, fatigue\n",
      "predicting 199 ...\n"
     ]
    },
    {
     "name": "stderr",
     "output_type": "stream",
     "text": [
      "The attention mask and the pad token id were not set. As a consequence, you may observe unexpected behavior. Please pass your input's `attention_mask` to obtain reliable results.\n",
      "Setting `pad_token_id` to `eos_token_id`:50256 for open-end generation.\n",
      "The attention mask and the pad token id were not set. As a consequence, you may observe unexpected behavior. Please pass your input's `attention_mask` to obtain reliable results.\n",
      "Setting `pad_token_id` to `eos_token_id`:50256 for open-end generation.\n"
     ]
    },
    {
     "name": "stdout",
     "output_type": "stream",
     "text": [
      "done 199.\n",
      "result differs on id=199, output=Lymphedema | Swelling in arms or legs, feeling of heaviness or tightness, expected=Swelling in arms or legs, feeling of heaviness or tightness\n",
      "predicting 200 ...\n",
      "done 200.\n",
      "result differs on id=200, output=Bladder Cancer | Frequent urination, urgency, pelvic pain, expected=Blood in urine, frequent urination, pelvic pain\n",
      "predicting 201 ...\n"
     ]
    },
    {
     "name": "stderr",
     "output_type": "stream",
     "text": [
      "The attention mask and the pad token id were not set. As a consequence, you may observe unexpected behavior. Please pass your input's `attention_mask` to obtain reliable results.\n",
      "Setting `pad_token_id` to `eos_token_id`:50256 for open-end generation.\n"
     ]
    },
    {
     "name": "stdout",
     "output_type": "stream",
     "text": [
      "done 201.\n",
      "result differs on id=201, output=Acute Bronchospasm | Wheezing, shortness of breath, chest tightness, expected=Wheezing, shortness of breath, chest tightness\n",
      "predicting 202 ...\n"
     ]
    },
    {
     "name": "stderr",
     "output_type": "stream",
     "text": [
      "The attention mask and the pad token id were not set. As a consequence, you may observe unexpected behavior. Please pass your input's `attention_mask` to obtain reliable results.\n",
      "Setting `pad_token_id` to `eos_token_id`:50256 for open-end generation.\n",
      "The attention mask and the pad token id were not set. As a consequence, you may observe unexpected behavior. Please pass your input's `attention_mask` to obtain reliable results.\n",
      "Setting `pad_token_id` to `eos_token_id`:50256 for open-end generation.\n"
     ]
    },
    {
     "name": "stdout",
     "output_type": "stream",
     "text": [
      "done 202.\n",
      "result differs on id=202, output=Acute Glaucoma | Severe eye pain, blurred vision, halos around lights, expected=Severe eye pain, blurred vision, halos around lights\n",
      "predicting 203 ...\n",
      "done 203.\n",
      "result differs on id=203, output=Dislocation of the Patella | Knee pain, swelling, inability to straighten the, expected=Knee pain, swelling, inability to straighten the leg\n",
      "predicting 204 ...\n"
     ]
    },
    {
     "name": "stderr",
     "output_type": "stream",
     "text": [
      "The attention mask and the pad token id were not set. As a consequence, you may observe unexpected behavior. Please pass your input's `attention_mask` to obtain reliable results.\n",
      "Setting `pad_token_id` to `eos_token_id`:50256 for open-end generation.\n",
      "The attention mask and the pad token id were not set. As a consequence, you may observe unexpected behavior. Please pass your input's `attention_mask` to obtain reliable results.\n",
      "Setting `pad_token_id` to `eos_token_id`:50256 for open-end generation.\n"
     ]
    },
    {
     "name": "stdout",
     "output_type": "stream",
     "text": [
      "done 204.\n",
      "result differs on id=204, output=Sciatica | Lower back pain, leg pain, numbness or tingling, expected=Pain radiating from the lower back to the leg\n",
      "predicting 205 ...\n",
      "done 205.\n",
      "result differs on id=205, output=Hypercalcemia | Fatigue, nausea, excessive thirst, kidney stones, expected=Fatigue, nausea, excessive thirst, kidney stones\n",
      "predicting 206 ...\n"
     ]
    },
    {
     "name": "stderr",
     "output_type": "stream",
     "text": [
      "The attention mask and the pad token id were not set. As a consequence, you may observe unexpected behavior. Please pass your input's `attention_mask` to obtain reliable results.\n",
      "Setting `pad_token_id` to `eos_token_id`:50256 for open-end generation.\n"
     ]
    },
    {
     "name": "stdout",
     "output_type": "stream",
     "text": [
      "done 206.\n",
      "result differs on id=206, output=Stress Incontinence | Unintentional urine leakage during physical activity, expected=Unintentional urine leakage during physical activity\n",
      "predicting 207 ...\n"
     ]
    },
    {
     "name": "stderr",
     "output_type": "stream",
     "text": [
      "The attention mask and the pad token id were not set. As a consequence, you may observe unexpected behavior. Please pass your input's `attention_mask` to obtain reliable results.\n",
      "Setting `pad_token_id` to `eos_token_id`:50256 for open-end generation.\n",
      "The attention mask and the pad token id were not set. As a consequence, you may observe unexpected behavior. Please pass your input's `attention_mask` to obtain reliable results.\n",
      "Setting `pad_token_id` to `eos_token_id`:50256 for open-end generation.\n"
     ]
    },
    {
     "name": "stdout",
     "output_type": "stream",
     "text": [
      "done 207.\n",
      "result differs on id=207, output=Benign Kidney Cyst | Abdominal or flank pain, blood in urine, frequent ur, expected=Abdominal or flank pain, blood in urine, frequent urination\n",
      "predicting 208 ...\n",
      "done 208.\n",
      "result differs on id=208, output=Hydrocele of the Testicle | Swelling of the scrotum, expected=Swelling of the scrotum\n",
      "predicting 209 ...\n"
     ]
    },
    {
     "name": "stderr",
     "output_type": "stream",
     "text": [
      "The attention mask and the pad token id were not set. As a consequence, you may observe unexpected behavior. Please pass your input's `attention_mask` to obtain reliable results.\n",
      "Setting `pad_token_id` to `eos_token_id`:50256 for open-end generation.\n"
     ]
    },
    {
     "name": "stdout",
     "output_type": "stream",
     "text": [
      "done 209.\n",
      "result differs on id=209, output=Hirsutism | Excessive hair growth in women, expected=Excessive hair growth in women\n",
      "predicting 210 ...\n"
     ]
    },
    {
     "name": "stderr",
     "output_type": "stream",
     "text": [
      "The attention mask and the pad token id were not set. As a consequence, you may observe unexpected behavior. Please pass your input's `attention_mask` to obtain reliable results.\n",
      "Setting `pad_token_id` to `eos_token_id`:50256 for open-end generation.\n"
     ]
    },
    {
     "name": "stdout",
     "output_type": "stream",
     "text": [
      "done 210.\n",
      "result differs on id=210, output=Hydronephrosis | Flank pain, urinary frequency, swelling in the abdomen, expected=Flank pain, urinary frequency, swelling in the abdomen\n",
      "predicting 211 ...\n"
     ]
    },
    {
     "name": "stderr",
     "output_type": "stream",
     "text": [
      "The attention mask and the pad token id were not set. As a consequence, you may observe unexpected behavior. Please pass your input's `attention_mask` to obtain reliable results.\n",
      "Setting `pad_token_id` to `eos_token_id`:50256 for open-end generation.\n",
      "The attention mask and the pad token id were not set. As a consequence, you may observe unexpected behavior. Please pass your input's `attention_mask` to obtain reliable results.\n",
      "Setting `pad_token_id` to `eos_token_id`:50256 for open-end generation.\n"
     ]
    },
    {
     "name": "stdout",
     "output_type": "stream",
     "text": [
      "done 211.\n",
      "result differs on id=211, output=Diverticulosis | Abdominal pain, jaundice (yellowing of the skin, expected=Abdominal pain, bloating, changes in bowel movements\n",
      "predicting 212 ...\n",
      "done 212.\n",
      "result differs on id=212, output=Pain after an Operation | Surgical site pain, discomfort, swelling, expected=Surgical site pain, discomfort, swelling\n",
      "predicting 213 ...\n"
     ]
    },
    {
     "name": "stderr",
     "output_type": "stream",
     "text": [
      "The attention mask and the pad token id were not set. As a consequence, you may observe unexpected behavior. Please pass your input's `attention_mask` to obtain reliable results.\n",
      "Setting `pad_token_id` to `eos_token_id`:50256 for open-end generation.\n",
      "The attention mask and the pad token id were not set. As a consequence, you may observe unexpected behavior. Please pass your input's `attention_mask` to obtain reliable results.\n",
      "Setting `pad_token_id` to `eos_token_id`:50256 for open-end generation.\n"
     ]
    },
    {
     "name": "stdout",
     "output_type": "stream",
     "text": [
      "done 213.\n",
      "result differs on id=213, output=Huntington Disease | Motor, cognitive difficulties, heart defects, expected=Motor, cognitive, and psychiatric symptoms\n",
      "predicting 214 ...\n",
      "done 214.\n",
      "result differs on id=214, output=West Nile Virus | Fever, headache, body aches, rash, expected=Fever, headache, body aches, rash\n",
      "predicting 215 ...\n"
     ]
    },
    {
     "name": "stderr",
     "output_type": "stream",
     "text": [
      "The attention mask and the pad token id were not set. As a consequence, you may observe unexpected behavior. Please pass your input's `attention_mask` to obtain reliable results.\n",
      "Setting `pad_token_id` to `eos_token_id`:50256 for open-end generation.\n",
      "The attention mask and the pad token id were not set. As a consequence, you may observe unexpected behavior. Please pass your input's `attention_mask` to obtain reliable results.\n",
      "Setting `pad_token_id` to `eos_token_id`:50256 for open-end generation.\n"
     ]
    },
    {
     "name": "stdout",
     "output_type": "stream",
     "text": [
      "done 215.\n",
      "result differs on id=215, output=Lymphoma | Swollen lymph nodes, unexplained weight loss, fatigue, expected=Swollen lymph nodes, unexplained weight loss, fatigue\n",
      "predicting 216 ...\n",
      "done 216.\n",
      "result differs on id=216, output=Dermatitis due to Sun Exposure | Redness, itching, rash, blistering, expected=Redness, itching, rash, blistering\n",
      "predicting 217 ...\n"
     ]
    },
    {
     "name": "stderr",
     "output_type": "stream",
     "text": [
      "The attention mask and the pad token id were not set. As a consequence, you may observe unexpected behavior. Please pass your input's `attention_mask` to obtain reliable results.\n",
      "Setting `pad_token_id` to `eos_token_id`:50256 for open-end generation.\n"
     ]
    },
    {
     "name": "stdout",
     "output_type": "stream",
     "text": [
      "done 217.\n",
      "result differs on id=217, output=Anemia due to Chronic Kidney Disease | Fatigue, weakness, pale skin, expected=Fatigue, weakness, pale skin\n",
      "predicting 218 ...\n"
     ]
    },
    {
     "name": "stderr",
     "output_type": "stream",
     "text": [
      "The attention mask and the pad token id were not set. As a consequence, you may observe unexpected behavior. Please pass your input's `attention_mask` to obtain reliable results.\n",
      "Setting `pad_token_id` to `eos_token_id`:50256 for open-end generation.\n",
      "The attention mask and the pad token id were not set. As a consequence, you may observe unexpected behavior. Please pass your input's `attention_mask` to obtain reliable results.\n",
      "Setting `pad_token_id` to `eos_token_id`:50256 for open-end generation.\n"
     ]
    },
    {
     "name": "stdout",
     "output_type": "stream",
     "text": [
      "done 218.\n",
      "result differs on id=218, output=Injury to Internal Organ Prolapse | Floaters (spots or cobweb-like shapes in, expected=Abdominal pain, bleeding, organ dysfunction\n",
      "predicting 219 ...\n",
      "done 219.\n",
      "result differs on id=219, output=Scleritis | Eye redness, severe eye pain, blurred vision, expected=Eye redness, severe eye pain, blurred vision\n",
      "predicting 220 ...\n"
     ]
    },
    {
     "name": "stderr",
     "output_type": "stream",
     "text": [
      "The attention mask and the pad token id were not set. As a consequence, you may observe unexpected behavior. Please pass your input's `attention_mask` to obtain reliable results.\n",
      "Setting `pad_token_id` to `eos_token_id`:50256 for open-end generation.\n",
      "The attention mask and the pad token id were not set. As a consequence, you may observe unexpected behavior. Please pass your input's `attention_mask` to obtain reliable results.\n",
      "Setting `pad_token_id` to `eos_token_id`:50256 for open-end generation.\n"
     ]
    },
    {
     "name": "stdout",
     "output_type": "stream",
     "text": [
      "done 220.\n",
      "result differs on id=220, output=Pterygium | Growth on the conjunctiva (white part of the eye), expected=Growth on the conjunctiva (white part of the eye)\n",
      "predicting 221 ...\n",
      "done 221.\n",
      "result differs on id=221, output=Fungal Infection of the Skin | Rash, itching, redness, peeling skin, expected=Rash, itching, redness, peeling skin\n",
      "predicting 222 ...\n"
     ]
    },
    {
     "name": "stderr",
     "output_type": "stream",
     "text": [
      "The attention mask and the pad token id were not set. As a consequence, you may observe unexpected behavior. Please pass your input's `attention_mask` to obtain reliable results.\n",
      "Setting `pad_token_id` to `eos_token_id`:50256 for open-end generation.\n",
      "The attention mask and the pad token id were not set. As a consequence, you may observe unexpected behavior. Please pass your input's `attention_mask` to obtain reliable results.\n",
      "Setting `pad_token_id` to `eos_token_id`:50256 for open-end generation.\n"
     ]
    },
    {
     "name": "stdout",
     "output_type": "stream",
     "text": [
      "done 222.\n",
      "result differs on id=222, output=Insulin Overdose | Low blood sugar (hypoglycemia) symptoms (e.g.,, expected=Low blood sugar (hypoglycemia) symptoms (e.g., confusion, sweating)\n",
      "predicting 223 ...\n",
      "done 223.\n",
      "result differs on id=223, output=Syndrome of Inappropriate Secretion of ADH (SIADH) | Excessively, expected=Excessively concentrated urine, low blood sodium levels\n",
      "predicting 224 ...\n"
     ]
    },
    {
     "name": "stderr",
     "output_type": "stream",
     "text": [
      "The attention mask and the pad token id were not set. As a consequence, you may observe unexpected behavior. Please pass your input's `attention_mask` to obtain reliable results.\n",
      "Setting `pad_token_id` to `eos_token_id`:50256 for open-end generation.\n"
     ]
    },
    {
     "name": "stdout",
     "output_type": "stream",
     "text": [
      "done 224.\n",
      "result differs on id=224, output=Premenstrual Tension Syndrome | Mood swings, bloating, breast tenderness, irritability, expected=Mood swings, bloating, breast tenderness, irritability\n",
      "predicting 225 ...\n"
     ]
    },
    {
     "name": "stderr",
     "output_type": "stream",
     "text": [
      "The attention mask and the pad token id were not set. As a consequence, you may observe unexpected behavior. Please pass your input's `attention_mask` to obtain reliable results.\n",
      "Setting `pad_token_id` to `eos_token_id`:50256 for open-end generation.\n",
      "The attention mask and the pad token id were not set. As a consequence, you may observe unexpected behavior. Please pass your input's `attention_mask` to obtain reliable results.\n",
      "Setting `pad_token_id` to `eos_token_id`:50256 for open-end generation.\n"
     ]
    },
    {
     "name": "stdout",
     "output_type": "stream",
     "text": [
      "done 225.\n",
      "result differs on id=225, output=Orbital Cellulitis | Eye pain, swelling, redness, drainage of pus or blood, expected=Eye pain, swelling, redness, vision changes\n",
      "predicting 226 ...\n",
      "done 226.\n",
      "result differs on id=226, output=Injury to the Leg | Pain, swelling, bruising, difficulty walking, expected=Pain, swelling, bruising, difficulty walking\n",
      "predicting 227 ...\n"
     ]
    },
    {
     "name": "stderr",
     "output_type": "stream",
     "text": [
      "The attention mask and the pad token id were not set. As a consequence, you may observe unexpected behavior. Please pass your input's `attention_mask` to obtain reliable results.\n",
      "Setting `pad_token_id` to `eos_token_id`:50256 for open-end generation.\n",
      "The attention mask and the pad token id were not set. As a consequence, you may observe unexpected behavior. Please pass your input's `attention_mask` to obtain reliable results.\n",
      "Setting `pad_token_id` to `eos_token_id`:50256 for open-end generation.\n"
     ]
    },
    {
     "name": "stdout",
     "output_type": "stream",
     "text": [
      "done 227.\n",
      "result differs on id=227, output=Hepatic Encephalopathy (low calcium levels), lasting for at least two years, expected=Confusion, forgetfulness, personality changes, tremors\n",
      "predicting 228 ...\n",
      "done 228.\n",
      "result differs on id=228, output=Bone Cancer | Bone pain, fractures, fatigue, unexplained weight loss, expected=Bone pain, fractures, fatigue, unexplained weight loss\n",
      "predicting 229 ...\n"
     ]
    },
    {
     "name": "stderr",
     "output_type": "stream",
     "text": [
      "The attention mask and the pad token id were not set. As a consequence, you may observe unexpected behavior. Please pass your input's `attention_mask` to obtain reliable results.\n",
      "Setting `pad_token_id` to `eos_token_id`:50256 for open-end generation.\n"
     ]
    },
    {
     "name": "stdout",
     "output_type": "stream",
     "text": [
      "done 229.\n",
      "result differs on id=229, output=Leishmaniasis | Skin sores, fever, weight loss, enlarged spleen or liver, expected=Skin sores, fever, weight loss, enlarged spleen or liver\n",
      "predicting 230 ...\n"
     ]
    },
    {
     "name": "stderr",
     "output_type": "stream",
     "text": [
      "The attention mask and the pad token id were not set. As a consequence, you may observe unexpected behavior. Please pass your input's `attention_mask` to obtain reliable results.\n",
      "Setting `pad_token_id` to `eos_token_id`:50256 for open-end generation.\n",
      "The attention mask and the pad token id were not set. As a consequence, you may observe unexpected behavior. Please pass your input's `attention_mask` to obtain reliable results.\n",
      "Setting `pad_token_id` to `eos_token_id`:50256 for open-end generation.\n"
     ]
    },
    {
     "name": "stdout",
     "output_type": "stream",
     "text": [
      "done 230.\n",
      "result differs on id=230, output=Chagas Disease | Fever, fatigue, body aches, heart and digestive problems, expected=Fever, fatigue, body aches, heart and digestive problems\n",
      "predicting 231 ...\n",
      "done 231.\n",
      "result differs on id=231, output=Syringomyelia | Muscle weakness, loss of sensation, chronic pain, expected=Muscle weakness, loss of sensation, chronic pain\n",
      "predicting 232 ...\n"
     ]
    },
    {
     "name": "stderr",
     "output_type": "stream",
     "text": [
      "The attention mask and the pad token id were not set. As a consequence, you may observe unexpected behavior. Please pass your input's `attention_mask` to obtain reliable results.\n",
      "Setting `pad_token_id` to `eos_token_id`:50256 for open-end generation.\n"
     ]
    },
    {
     "name": "stdout",
     "output_type": "stream",
     "text": [
      "done 232.\n",
      "result differs on id=232, output=Pulmonary Fibrosis | Shortness of breath, dry cough, fatigue, expected=Shortness of breath, dry cough, fatigue\n",
      "predicting 233 ...\n"
     ]
    },
    {
     "name": "stderr",
     "output_type": "stream",
     "text": [
      "The attention mask and the pad token id were not set. As a consequence, you may observe unexpected behavior. Please pass your input's `attention_mask` to obtain reliable results.\n",
      "Setting `pad_token_id` to `eos_token_id`:50256 for open-end generation.\n",
      "The attention mask and the pad token id were not set. As a consequence, you may observe unexpected behavior. Please pass your input's `attention_mask` to obtain reliable results.\n",
      "Setting `pad_token_id` to `eos_token_id`:50256 for open-end generation.\n"
     ]
    },
    {
     "name": "stdout",
     "output_type": "stream",
     "text": [
      "done 233.\n",
      "result differs on id=233, output=Mitral Valve Disease | Abdominal pain, tenderness, swelling, limited range of motion,, expected=Fatigue, shortness of breath, heart palpitations\n",
      "predicting 234 ...\n",
      "done 234.\n",
      "result differs on id=234, output=Parkinson Disease | Tremors, stiffness, slowness of movement, expected=Tremors, stiffness, slowness of movement\n",
      "predicting 235 ...\n"
     ]
    },
    {
     "name": "stderr",
     "output_type": "stream",
     "text": [
      "The attention mask and the pad token id were not set. As a consequence, you may observe unexpected behavior. Please pass your input's `attention_mask` to obtain reliable results.\n",
      "Setting `pad_token_id` to `eos_token_id`:50256 for open-end generation.\n",
      "The attention mask and the pad token id were not set. As a consequence, you may observe unexpected behavior. Please pass your input's `attention_mask` to obtain reliable results.\n",
      "Setting `pad_token_id` to `eos_token_id`:50256 for open-end generation.\n"
     ]
    },
    {
     "name": "stdout",
     "output_type": "stream",
     "text": [
      "done 235.\n",
      "result differs on id=235, output=Gout | Intense joint pain, swelling, redness, expected=Intense joint pain, swelling, redness\n",
      "predicting 236 ...\n",
      "done 236.\n",
      "result differs on id=236, output=Otitis Media | Ear pain, fever, fluid drainage from the ear, expected=Ear pain, fever, fluid drainage from the ear\n",
      "predicting 237 ...\n"
     ]
    },
    {
     "name": "stderr",
     "output_type": "stream",
     "text": [
      "The attention mask and the pad token id were not set. As a consequence, you may observe unexpected behavior. Please pass your input's `attention_mask` to obtain reliable results.\n",
      "Setting `pad_token_id` to `eos_token_id`:50256 for open-end generation.\n",
      "The attention mask and the pad token id were not set. As a consequence, you may observe unexpected behavior. Please pass your input's `attention_mask` to obtain reliable results.\n",
      "Setting `pad_token_id` to `eos_token_id`:50256 for open-end generation.\n"
     ]
    },
    {
     "name": "stdout",
     "output_type": "stream",
     "text": [
      "done 237.\n",
      "result differs on id=237, output=Myelodysplastic Syndrome | Fatigue, frequent infections, easy bruising or bleeding, expected=Fatigue, frequent infections, easy bruising or bleeding\n",
      "predicting 238 ...\n",
      "done 238.\n",
      "result differs on id=238, output=Fracture of the Shoulder | Shoulder pain, swelling, limited range of motion, expected=Shoulder pain, swelling, limited range of motion\n",
      "predicting 239 ...\n"
     ]
    },
    {
     "name": "stderr",
     "output_type": "stream",
     "text": [
      "The attention mask and the pad token id were not set. As a consequence, you may observe unexpected behavior. Please pass your input's `attention_mask` to obtain reliable results.\n",
      "Setting `pad_token_id` to `eos_token_id`:50256 for open-end generation.\n",
      "The attention mask and the pad token id were not set. As a consequence, you may observe unexpected behavior. Please pass your input's `attention_mask` to obtain reliable results.\n",
      "Setting `pad_token_id` to `eos_token_id`:50256 for open-end generation.\n"
     ]
    },
    {
     "name": "stdout",
     "output_type": "stream",
     "text": [
      "done 239.\n",
      "result differs on id=239, output=Acute Kidney Injury | Decreased urine output, fluid retention, fatigue, shortness of breath, expected=Decreased urine output, fluid retention, fatigue\n",
      "predicting 240 ...\n",
      "done 240.\n",
      "result differs on id=240, output=Threatened Pregnancy | Vaginal bleeding, abdominal cramps, pelvic pain, expected=Vaginal bleeding, abdominal cramps, pelvic pain\n",
      "predicting 241 ...\n"
     ]
    },
    {
     "name": "stderr",
     "output_type": "stream",
     "text": [
      "The attention mask and the pad token id were not set. As a consequence, you may observe unexpected behavior. Please pass your input's `attention_mask` to obtain reliable results.\n",
      "Setting `pad_token_id` to `eos_token_id`:50256 for open-end generation.\n",
      "The attention mask and the pad token id were not set. As a consequence, you may observe unexpected behavior. Please pass your input's `attention_mask` to obtain reliable results.\n",
      "Setting `pad_token_id` to `eos_token_id`:50256 for open-end generation.\n"
     ]
    },
    {
     "name": "stdout",
     "output_type": "stream",
     "text": [
      "done 241.\n",
      "result differs on id=241, output=Intracranial Abscess | Headache, fever, neurological deficits, expected=Headache, fever, neurological deficits\n",
      "predicting 242 ...\n",
      "done 242.\n",
      "result differs on id=242, output=Gum Disease | Swollen, red, tender gums, expected=Swollen, red, tender gums, bleeding gums\n",
      "predicting 243 ...\n"
     ]
    },
    {
     "name": "stderr",
     "output_type": "stream",
     "text": [
      "The attention mask and the pad token id were not set. As a consequence, you may observe unexpected behavior. Please pass your input's `attention_mask` to obtain reliable results.\n",
      "Setting `pad_token_id` to `eos_token_id`:50256 for open-end generation.\n",
      "The attention mask and the pad token id were not set. As a consequence, you may observe unexpected behavior. Please pass your input's `attention_mask` to obtain reliable results.\n",
      "Setting `pad_token_id` to `eos_token_id`:50256 for open-end generation.\n"
     ]
    },
    {
     "name": "stdout",
     "output_type": "stream",
     "text": [
      "done 243.\n",
      "result differs on id=243, output=Open Wound from Surgical Incision | Abdominal pain, discomfort, swelling, difficulty breathing, expected=Redness, swelling, discharge from the wound\n",
      "predicting 244 ...\n",
      "done 244.\n",
      "result differs on id=244, output=Gastrointestinal Hemorrhage | Abdominal pain, vomiting blood, bloody or black, expected=Abdominal pain, vomiting blood, bloody or black stools\n",
      "predicting 245 ...\n"
     ]
    },
    {
     "name": "stderr",
     "output_type": "stream",
     "text": [
      "The attention mask and the pad token id were not set. As a consequence, you may observe unexpected behavior. Please pass your input's `attention_mask` to obtain reliable results.\n",
      "Setting `pad_token_id` to `eos_token_id`:50256 for open-end generation.\n"
     ]
    },
    {
     "name": "stdout",
     "output_type": "stream",
     "text": [
      "done 245.\n",
      "result differs on id=245, output=Seborrheic Dermatitis | Red, itchy, and oily patches of skin,, expected=Red, itchy, and oily patches of skin, dandruff, flaky scalp\n",
      "predicting 246 ...\n"
     ]
    },
    {
     "name": "stderr",
     "output_type": "stream",
     "text": [
      "The attention mask and the pad token id were not set. As a consequence, you may observe unexpected behavior. Please pass your input's `attention_mask` to obtain reliable results.\n",
      "Setting `pad_token_id` to `eos_token_id`:50256 for open-end generation.\n",
      "The attention mask and the pad token id were not set. As a consequence, you may observe unexpected behavior. Please pass your input's `attention_mask` to obtain reliable results.\n",
      "Setting `pad_token_id` to `eos_token_id`:50256 for open-end generation.\n"
     ]
    },
    {
     "name": "stdout",
     "output_type": "stream",
     "text": [
      "done 246.\n",
      "result differs on id=246, output=Drug Abuse (Methamphetamine) | Increased energy and alertness, decreased appetite, rapid heartbeat, expected=Increased energy and alertness, decreased appetite, rapid heartbeat\n",
      "predicting 247 ...\n",
      "done 247.\n",
      "result differs on id=247, output=Torticollis | Neck pain, stiffness, and abnormal head positioning, expected=Neck pain, stiffness, and abnormal head positioning\n",
      "predicting 248 ...\n"
     ]
    },
    {
     "name": "stderr",
     "output_type": "stream",
     "text": [
      "The attention mask and the pad token id were not set. As a consequence, you may observe unexpected behavior. Please pass your input's `attention_mask` to obtain reliable results.\n",
      "Setting `pad_token_id` to `eos_token_id`:50256 for open-end generation.\n"
     ]
    },
    {
     "name": "stdout",
     "output_type": "stream",
     "text": [
      "done 248.\n",
      "result differs on id=248, output=Antihypertensives Poisoning | Nausea, vomiting, abdominal pain or cramps, expected=Dizziness, low blood pressure, slow heart rate, nausea, vomiting\n",
      "predicting 249 ...\n"
     ]
    },
    {
     "name": "stderr",
     "output_type": "stream",
     "text": [
      "The attention mask and the pad token id were not set. As a consequence, you may observe unexpected behavior. Please pass your input's `attention_mask` to obtain reliable results.\n",
      "Setting `pad_token_id` to `eos_token_id`:50256 for open-end generation.\n",
      "The attention mask and the pad token id were not set. As a consequence, you may observe unexpected behavior. Please pass your input's `attention_mask` to obtain reliable results.\n",
      "Setting `pad_token_id` to `eos_token_id`:50256 for open-end generation.\n"
     ]
    },
    {
     "name": "stdout",
     "output_type": "stream",
     "text": [
      "done 249.\n",
      "result differs on id=249, output=Tension Headache | Mild to moderate head pain, tightness or pressure sensation on both sides of, expected=Mild to moderate head pain, tightness or pressure sensation on both sides of head\n",
      "predicting 250 ...\n",
      "done 250.\n",
      "result differs on id=250, output=Alcohol Intoxication | Slurred speech, impaired coordination, confusion, expected=Slurred speech, impaired coordination, confusion\n",
      "predicting 251 ...\n"
     ]
    },
    {
     "name": "stderr",
     "output_type": "stream",
     "text": [
      "The attention mask and the pad token id were not set. As a consequence, you may observe unexpected behavior. Please pass your input's `attention_mask` to obtain reliable results.\n",
      "Setting `pad_token_id` to `eos_token_id`:50256 for open-end generation.\n"
     ]
    },
    {
     "name": "stdout",
     "output_type": "stream",
     "text": [
      "done 251.\n",
      "result differs on id=251, output=Scurvy | Fatigue, swollen and bleeding gums, joint pain, expected=Fatigue, swollen and bleeding gums, joint pain\n",
      "predicting 252 ...\n"
     ]
    },
    {
     "name": "stderr",
     "output_type": "stream",
     "text": [
      "The attention mask and the pad token id were not set. As a consequence, you may observe unexpected behavior. Please pass your input's `attention_mask` to obtain reliable results.\n",
      "Setting `pad_token_id` to `eos_token_id`:50256 for open-end generation.\n"
     ]
    },
    {
     "name": "stdout",
     "output_type": "stream",
     "text": [
      "done 252.\n",
      "result differs on id=252, output=Narcolepsy | Excessive daytime sleepiness, sudden loss of muscle tone (cataplex, expected=Excessive daytime sleepiness, sudden loss of muscle tone (cataplexy)\n",
      "predicting 253 ...\n"
     ]
    },
    {
     "name": "stderr",
     "output_type": "stream",
     "text": [
      "The attention mask and the pad token id were not set. As a consequence, you may observe unexpected behavior. Please pass your input's `attention_mask` to obtain reliable results.\n",
      "Setting `pad_token_id` to `eos_token_id`:50256 for open-end generation.\n"
     ]
    },
    {
     "name": "stdout",
     "output_type": "stream",
     "text": [
      "done 253.\n",
      "result differs on id=253, output=Food Allergy | Rash, itching, swelling, difficulty breathing, gastrointestinal symptoms, expected=Rash, itching, swelling, difficulty breathing, gastrointestinal symptoms\n",
      "predicting 254 ...\n"
     ]
    },
    {
     "name": "stderr",
     "output_type": "stream",
     "text": [
      "The attention mask and the pad token id were not set. As a consequence, you may observe unexpected behavior. Please pass your input's `attention_mask` to obtain reliable results.\n",
      "Setting `pad_token_id` to `eos_token_id`:50256 for open-end generation.\n"
     ]
    },
    {
     "name": "stdout",
     "output_type": "stream",
     "text": [
      "done 254.\n",
      "result differs on id=254, output=Labyrinthitis | Intense itching, visible lice or nits in the affected area, expected=Vertigo, dizziness, nausea, hearing loss, ear pain\n",
      "predicting 255 ...\n"
     ]
    },
    {
     "name": "stderr",
     "output_type": "stream",
     "text": [
      "The attention mask and the pad token id were not set. As a consequence, you may observe unexpected behavior. Please pass your input's `attention_mask` to obtain reliable results.\n",
      "Setting `pad_token_id` to `eos_token_id`:50256 for open-end generation.\n"
     ]
    },
    {
     "name": "stdout",
     "output_type": "stream",
     "text": [
      "done 255.\n",
      "result differs on id=255, output=Anxiety | Excessive worrying, restlessness, increased heartbeats, panic attacks, expected=Excessive worrying, restlessness, increased heart rate, panic attacks\n",
      "predicting 256 ...\n"
     ]
    },
    {
     "name": "stderr",
     "output_type": "stream",
     "text": [
      "The attention mask and the pad token id were not set. As a consequence, you may observe unexpected behavior. Please pass your input's `attention_mask` to obtain reliable results.\n",
      "Setting `pad_token_id` to `eos_token_id`:50256 for open-end generation.\n",
      "The attention mask and the pad token id were not set. As a consequence, you may observe unexpected behavior. Please pass your input's `attention_mask` to obtain reliable results.\n",
      "Setting `pad_token_id` to `eos_token_id`:50256 for open-end generation.\n"
     ]
    },
    {
     "name": "stdout",
     "output_type": "stream",
     "text": [
      "done 256.\n",
      "result differs on id=256, output=Impulse Control Disorder | Impulsive behaviors (e.g., gambling, stealing), difficulty resisting urges, expected=Impulsive behaviors (e.g., gambling, stealing), difficulty resisting urges\n",
      "predicting 257 ...\n",
      "done 257.\n",
      "result differs on id=257, output=Stenosis of the Tear Duct | Excessive tearing, eye discharge, recurrent eye infections, expected=Excessive tearing, eye discharge, recurrent eye infections\n",
      "predicting 258 ...\n"
     ]
    },
    {
     "name": "stderr",
     "output_type": "stream",
     "text": [
      "The attention mask and the pad token id were not set. As a consequence, you may observe unexpected behavior. Please pass your input's `attention_mask` to obtain reliable results.\n",
      "Setting `pad_token_id` to `eos_token_id`:50256 for open-end generation.\n"
     ]
    },
    {
     "name": "stdout",
     "output_type": "stream",
     "text": [
      "done 258.\n",
      "result differs on id=258, output=Abscess of Nose | Swelling, pain, redness, fever, pus formation, expected=Pain, swelling, redness, discharge from the nose\n",
      "predicting 259 ...\n"
     ]
    },
    {
     "name": "stderr",
     "output_type": "stream",
     "text": [
      "The attention mask and the pad token id were not set. As a consequence, you may observe unexpected behavior. Please pass your input's `attention_mask` to obtain reliable results.\n",
      "Setting `pad_token_id` to `eos_token_id`:50256 for open-end generation.\n"
     ]
    },
    {
     "name": "stdout",
     "output_type": "stream",
     "text": [
      "done 259.\n",
      "result differs on id=259, output=Omphalitis | Redness, swelling, discharge, foul odor around the umbilical area, expected=Redness, swelling, discharge, foul odor around the umbilical area\n",
      "predicting 260 ...\n"
     ]
    },
    {
     "name": "stderr",
     "output_type": "stream",
     "text": [
      "The attention mask and the pad token id were not set. As a consequence, you may observe unexpected behavior. Please pass your input's `attention_mask` to obtain reliable results.\n",
      "Setting `pad_token_id` to `eos_token_id`:50256 for open-end generation.\n"
     ]
    },
    {
     "name": "stdout",
     "output_type": "stream",
     "text": [
      "done 260.\n",
      "result differs on id=260, output=Leukemia | Fatigue, pale skin, frequent infections, easy bleeding or bruising, expected=Fatigue, pale skin, frequent infections, easy bleeding or bruising\n",
      "predicting 261 ...\n"
     ]
    },
    {
     "name": "stderr",
     "output_type": "stream",
     "text": [
      "The attention mask and the pad token id were not set. As a consequence, you may observe unexpected behavior. Please pass your input's `attention_mask` to obtain reliable results.\n",
      "Setting `pad_token_id` to `eos_token_id`:50256 for open-end generation.\n",
      "The attention mask and the pad token id were not set. As a consequence, you may observe unexpected behavior. Please pass your input's `attention_mask` to obtain reliable results.\n",
      "Setting `pad_token_id` to `eos_token_id`:50256 for open-end generation.\n"
     ]
    },
    {
     "name": "stdout",
     "output_type": "stream",
     "text": [
      "done 261.\n",
      "result differs on id=261, output=Bell Palsy | Facial weakness or paralysis, drooping of the mouth or eyelid, expected=Facial weakness or paralysis, drooping of the mouth or eyelid\n",
      "predicting 262 ...\n",
      "done 262.\n",
      "result differs on id=262, output=Conjunctivitis due to Allergy | Redness, itching, watery discharge, swollen, expected=Redness, itching, watery discharge, swollen eyelids\n",
      "predicting 263 ...\n"
     ]
    },
    {
     "name": "stderr",
     "output_type": "stream",
     "text": [
      "The attention mask and the pad token id were not set. As a consequence, you may observe unexpected behavior. Please pass your input's `attention_mask` to obtain reliable results.\n",
      "Setting `pad_token_id` to `eos_token_id`:50256 for open-end generation.\n"
     ]
    },
    {
     "name": "stdout",
     "output_type": "stream",
     "text": [
      "done 263.\n",
      "result differs on id=263, output=Drug Reaction to Drugs Poisoning | Nausea, vomiting, abdominal pain, respiratory distress, expected=Rash, itching, swelling, fever, respiratory symptoms\n",
      "predicting 264 ...\n"
     ]
    },
    {
     "name": "stderr",
     "output_type": "stream",
     "text": [
      "The attention mask and the pad token id were not set. As a consequence, you may observe unexpected behavior. Please pass your input's `attention_mask` to obtain reliable results.\n",
      "Setting `pad_token_id` to `eos_token_id`:50256 for open-end generation.\n"
     ]
    },
    {
     "name": "stdout",
     "output_type": "stream",
     "text": [
      "done 264.\n",
      "result differs on id=264, output=Adrenal Cancer | Abdominal or back pain, unexplained weight loss, hormonal imbalances, expected=Abdominal or back pain, unexplained weight loss, hormonal imbalances\n",
      "predicting 265 ...\n"
     ]
    },
    {
     "name": "stderr",
     "output_type": "stream",
     "text": [
      "The attention mask and the pad token id were not set. As a consequence, you may observe unexpected behavior. Please pass your input's `attention_mask` to obtain reliable results.\n",
      "Setting `pad_token_id` to `eos_token_id`:50256 for open-end generation.\n",
      "The attention mask and the pad token id were not set. As a consequence, you may observe unexpected behavior. Please pass your input's `attention_mask` to obtain reliable results.\n",
      "Setting `pad_token_id` to `eos_token_id`:50256 for open-end generation.\n"
     ]
    },
    {
     "name": "stdout",
     "output_type": "stream",
     "text": [
      "done 265.\n",
      "result differs on id=265, output=Myopia | Blurred distance vision, eyestrain, squinting, expected=Blurred distance vision, eyestrain, squinting\n",
      "predicting 266 ...\n",
      "done 266.\n",
      "result differs on id=266, output=Osteoarthritis | Joint pain, stiffness, swelling, expected=Joint pain, stiffness, swelling\n",
      "predicting 267 ...\n"
     ]
    },
    {
     "name": "stderr",
     "output_type": "stream",
     "text": [
      "The attention mask and the pad token id were not set. As a consequence, you may observe unexpected behavior. Please pass your input's `attention_mask` to obtain reliable results.\n",
      "Setting `pad_token_id` to `eos_token_id`:50256 for open-end generation.\n",
      "The attention mask and the pad token id were not set. As a consequence, you may observe unexpected behavior. Please pass your input's `attention_mask` to obtain reliable results.\n",
      "Setting `pad_token_id` to `eos_token_id`:50256 for open-end generation.\n"
     ]
    },
    {
     "name": "stdout",
     "output_type": "stream",
     "text": [
      "done 267.\n",
      "result differs on id=267, output=Thyroid Disease | Fatigue, weight changes, mood swings, dry skin, expected=Fatigue, weight changes, mood swings, dry skin\n",
      "predicting 268 ...\n",
      "done 268.\n",
      "result differs on id=268, output=Pharyngitis | Sore throat, difficulty swallowing, swollen lymph nodes, expected=Sore throat, difficulty swallowing, swollen lymph nodes\n",
      "predicting 269 ...\n"
     ]
    },
    {
     "name": "stderr",
     "output_type": "stream",
     "text": [
      "The attention mask and the pad token id were not set. As a consequence, you may observe unexpected behavior. Please pass your input's `attention_mask` to obtain reliable results.\n",
      "Setting `pad_token_id` to `eos_token_id`:50256 for open-end generation.\n"
     ]
    },
    {
     "name": "stdout",
     "output_type": "stream",
     "text": [
      "done 269.\n",
      "result differs on id=269, output=Chronic Rheumatic Fever | Fatigue, nausea and swelling of the limbs, joint pain,, expected=Joint pain, fever, rash, heart inflammation\n",
      "predicting 270 ...\n"
     ]
    },
    {
     "name": "stderr",
     "output_type": "stream",
     "text": [
      "The attention mask and the pad token id were not set. As a consequence, you may observe unexpected behavior. Please pass your input's `attention_mask` to obtain reliable results.\n",
      "Setting `pad_token_id` to `eos_token_id`:50256 for open-end generation.\n",
      "The attention mask and the pad token id were not set. As a consequence, you may observe unexpected behavior. Please pass your input's `attention_mask` to obtain reliable results.\n",
      "Setting `pad_token_id` to `eos_token_id`:50256 for open-end generation.\n"
     ]
    },
    {
     "name": "stdout",
     "output_type": "stream",
     "text": [
      "done 270.\n",
      "result differs on id=270, output=Hypocalcemia (low calcium levels), typically in specific areas (such as palms, soles, expected=Numbness or tingling in fingers or around the mouth, muscle cramps\n",
      "predicting 271 ...\n",
      "done 271.\n",
      "result differs on id=271, output=Macular Degeneration | Blurred or distorted central vision, blind spots, expected=Blurred or distorted central vision, blind spots\n",
      "predicting 272 ...\n"
     ]
    },
    {
     "name": "stderr",
     "output_type": "stream",
     "text": [
      "The attention mask and the pad token id were not set. As a consequence, you may observe unexpected behavior. Please pass your input's `attention_mask` to obtain reliable results.\n",
      "Setting `pad_token_id` to `eos_token_id`:50256 for open-end generation.\n",
      "The attention mask and the pad token id were not set. As a consequence, you may observe unexpected behavior. Please pass your input's `attention_mask` to obtain reliable results.\n",
      "Setting `pad_token_id` to `eos_token_id`:50256 for open-end generation.\n"
     ]
    },
    {
     "name": "stdout",
     "output_type": "stream",
     "text": [
      "done 272.\n",
      "result differs on id=272, output=Pneumonia | Cough, fever, chest pain, difficulty breathing, expected=Cough, fever, chest pain, difficulty breathing\n",
      "predicting 273 ...\n",
      "done 273.\n",
      "result differs on id=273, output=Cold Sore throat, fever, difficulty swallowing, expected=Small, painful blisters on the lips or around the mouth\n",
      "predicting 274 ...\n"
     ]
    },
    {
     "name": "stderr",
     "output_type": "stream",
     "text": [
      "The attention mask and the pad token id were not set. As a consequence, you may observe unexpected behavior. Please pass your input's `attention_mask` to obtain reliable results.\n",
      "Setting `pad_token_id` to `eos_token_id`:50256 for open-end generation.\n"
     ]
    },
    {
     "name": "stdout",
     "output_type": "stream",
     "text": [
      "done 274.\n",
      "result differs on id=274, output=Premature Ventricular Contractions (PVCs) | Skipped or extra heartbeats,, expected=Skipped or extra heartbeats, palpitations, lightheadedness\n",
      "predicting 275 ...\n"
     ]
    },
    {
     "name": "stderr",
     "output_type": "stream",
     "text": [
      "The attention mask and the pad token id were not set. As a consequence, you may observe unexpected behavior. Please pass your input's `attention_mask` to obtain reliable results.\n",
      "Setting `pad_token_id` to `eos_token_id`:50256 for open-end generation.\n"
     ]
    },
    {
     "name": "stdout",
     "output_type": "stream",
     "text": [
      "done 275.\n",
      "result differs on id=275, output=Chancroid | Painful ulcers or sores on the genital area, swollen lymph nodes in, expected=Painful ulcers or sores on the genital area, swollen lymph nodes in the groin\n",
      "predicting 276 ...\n"
     ]
    },
    {
     "name": "stderr",
     "output_type": "stream",
     "text": [
      "The attention mask and the pad token id were not set. As a consequence, you may observe unexpected behavior. Please pass your input's `attention_mask` to obtain reliable results.\n",
      "Setting `pad_token_id` to `eos_token_id`:50256 for open-end generation.\n",
      "The attention mask and the pad token id were not set. As a consequence, you may observe unexpected behavior. Please pass your input's `attention_mask` to obtain reliable results.\n",
      "Setting `pad_token_id` to `eos_token_id`:50256 for open-end generation.\n"
     ]
    },
    {
     "name": "stdout",
     "output_type": "stream",
     "text": [
      "done 276.\n",
      "result differs on id=276, output=Testicular Cancer | Lump or swelling in the testicles, pain or discomfort, changes in test, expected=Lump or swelling in the testicles, pain or discomfort, changes in testicular size or shape\n",
      "predicting 277 ...\n",
      "done 277.\n",
      "result differs on id=277, output=Hydrocephalus | Tremors, stiffness, limited range of motion, expected=Headache, nausea, vomiting, cognitive or developmental problems, enlarged head in infants\n",
      "predicting 278 ...\n"
     ]
    },
    {
     "name": "stderr",
     "output_type": "stream",
     "text": [
      "The attention mask and the pad token id were not set. As a consequence, you may observe unexpected behavior. Please pass your input's `attention_mask` to obtain reliable results.\n",
      "Setting `pad_token_id` to `eos_token_id`:50256 for open-end generation.\n"
     ]
    },
    {
     "name": "stdout",
     "output_type": "stream",
     "text": [
      "done 278.\n",
      "result differs on id=278, output=Breast Cancer | Breast lump, changes in breast size or shape, nipple changes, breast pain, expected=Breast lump, changes in breast size or shape, nipple changes, breast pain\n",
      "predicting 279 ...\n"
     ]
    },
    {
     "name": "stderr",
     "output_type": "stream",
     "text": [
      "The attention mask and the pad token id were not set. As a consequence, you may observe unexpected behavior. Please pass your input's `attention_mask` to obtain reliable results.\n",
      "Setting `pad_token_id` to `eos_token_id`:50256 for open-end generation.\n"
     ]
    },
    {
     "name": "stdout",
     "output_type": "stream",
     "text": [
      "done 279.\n",
      "result differs on id=279, output=Anemia due to Malignancy | Fatigue, weakness, shortness of breath, pale skin, expected=Fatigue, weakness, shortness of breath, pale skin\n",
      "predicting 280 ...\n"
     ]
    },
    {
     "name": "stderr",
     "output_type": "stream",
     "text": [
      "The attention mask and the pad token id were not set. As a consequence, you may observe unexpected behavior. Please pass your input's `attention_mask` to obtain reliable results.\n",
      "Setting `pad_token_id` to `eos_token_id`:50256 for open-end generation.\n"
     ]
    },
    {
     "name": "stdout",
     "output_type": "stream",
     "text": [
      "done 280.\n",
      "result differs on id=280, output=Esophageal Varices | Swollen blood vessels in the esophagus, vomiting blood,, expected=Swollen blood vessels in the esophagus, vomiting blood, black, tarry stools\n",
      "predicting 281 ...\n"
     ]
    },
    {
     "name": "stderr",
     "output_type": "stream",
     "text": [
      "The attention mask and the pad token id were not set. As a consequence, you may observe unexpected behavior. Please pass your input's `attention_mask` to obtain reliable results.\n",
      "Setting `pad_token_id` to `eos_token_id`:50256 for open-end generation.\n"
     ]
    },
    {
     "name": "stdout",
     "output_type": "stream",
     "text": [
      "done 281.\n",
      "result differs on id=281, output=Endometrial Cancer | Abnormal vaginal bleeding, pelvic pain or discomfort, changes in bowel or bladder, expected=Abnormal vaginal bleeding, pelvic pain or discomfort, changes in bowel or bladder habits\n",
      "predicting 282 ...\n"
     ]
    },
    {
     "name": "stderr",
     "output_type": "stream",
     "text": [
      "The attention mask and the pad token id were not set. As a consequence, you may observe unexpected behavior. Please pass your input's `attention_mask` to obtain reliable results.\n",
      "Setting `pad_token_id` to `eos_token_id`:50256 for open-end generation.\n"
     ]
    },
    {
     "name": "stdout",
     "output_type": "stream",
     "text": [
      "done 282.\n",
      "result differs on id=282, output=Cystic Fibrosis | Persistent cough with thick mucus, recurrent lung infections, poor growth or, expected=Persistent cough with thick mucus, recurrent lung infections, poor growth or weight gain, salty-tasting skin\n",
      "predicting 283 ...\n"
     ]
    },
    {
     "name": "stderr",
     "output_type": "stream",
     "text": [
      "The attention mask and the pad token id were not set. As a consequence, you may observe unexpected behavior. Please pass your input's `attention_mask` to obtain reliable results.\n",
      "Setting `pad_token_id` to `eos_token_id`:50256 for open-end generation.\n"
     ]
    },
    {
     "name": "stdout",
     "output_type": "stream",
     "text": [
      "done 283.\n",
      "result differs on id=283, output=Intertrigo | Red, raw, or inflamed skin in skin folds (such as armp, expected=Red, raw, or inflamed skin in skin folds (such as armpits or groin), itching or burning sensation\n",
      "predicting 284 ...\n"
     ]
    },
    {
     "name": "stderr",
     "output_type": "stream",
     "text": [
      "The attention mask and the pad token id were not set. As a consequence, you may observe unexpected behavior. Please pass your input's `attention_mask` to obtain reliable results.\n",
      "Setting `pad_token_id` to `eos_token_id`:50256 for open-end generation.\n",
      "The attention mask and the pad token id were not set. As a consequence, you may observe unexpected behavior. Please pass your input's `attention_mask` to obtain reliable results.\n",
      "Setting `pad_token_id` to `eos_token_id`:50256 for open-end generation.\n"
     ]
    },
    {
     "name": "stdout",
     "output_type": "stream",
     "text": [
      "done 284.\n",
      "result differs on id=284, output=Parathyroid Adenoma | Fatigue, weakness, bone pain, frequent urination, kidney stones, expected=Fatigue, weakness, bone pain, frequent urination, kidney stones\n",
      "predicting 285 ...\n",
      "done 285.\n",
      "result differs on id=285, output=Glucocorticoid Deficiency | Fatigue, weakness, weight loss, low blood pressure, expected=Fatigue, weakness, weight loss, low blood pressure, abdominal pain\n",
      "predicting 286 ...\n"
     ]
    },
    {
     "name": "stderr",
     "output_type": "stream",
     "text": [
      "The attention mask and the pad token id were not set. As a consequence, you may observe unexpected behavior. Please pass your input's `attention_mask` to obtain reliable results.\n",
      "Setting `pad_token_id` to `eos_token_id`:50256 for open-end generation.\n"
     ]
    },
    {
     "name": "stdout",
     "output_type": "stream",
     "text": [
      "done 286.\n",
      "result differs on id=286, output=Temporomandibular Joint Disorder | Jaw pain or tenderness, clicking or popping sounds in, expected=Jaw pain or tenderness, clicking or popping sounds in the jaw joint, difficulty chewing or opening the mouth\n",
      "predicting 287 ...\n"
     ]
    },
    {
     "name": "stderr",
     "output_type": "stream",
     "text": [
      "The attention mask and the pad token id were not set. As a consequence, you may observe unexpected behavior. Please pass your input's `attention_mask` to obtain reliable results.\n",
      "Setting `pad_token_id` to `eos_token_id`:50256 for open-end generation.\n",
      "The attention mask and the pad token id were not set. As a consequence, you may observe unexpected behavior. Please pass your input's `attention_mask` to obtain reliable results.\n",
      "Setting `pad_token_id` to `eos_token_id`:50256 for open-end generation.\n"
     ]
    },
    {
     "name": "stdout",
     "output_type": "stream",
     "text": [
      "done 287.\n",
      "result differs on id=287, output=Wilson Disease | Fatigue, abdominal pain or swelling, jaundice, neurological symptoms (trem, expected=Fatigue, abdominal pain or swelling, jaundice, neurological symptoms (tremors, difficulty speaking or walking)\n",
      "predicting 288 ...\n",
      "done 288.\n",
      "result differs on id=288, output=Vesicoureteral Reflux Disease (GERD) | Heartburn, acid ref, expected=Frequent urinary tract infections, urinary urgency or frequency, bedwetting (in children), high blood pressure (in severe cases)\n",
      "predicting 289 ...\n"
     ]
    },
    {
     "name": "stderr",
     "output_type": "stream",
     "text": [
      "The attention mask and the pad token id were not set. As a consequence, you may observe unexpected behavior. Please pass your input's `attention_mask` to obtain reliable results.\n",
      "Setting `pad_token_id` to `eos_token_id`:50256 for open-end generation.\n"
     ]
    },
    {
     "name": "stdout",
     "output_type": "stream",
     "text": [
      "done 289.\n",
      "result differs on id=289, output=Vitamin A Deficiency | Night blindness, dry eyes, dry or rough skin on the hands and, expected=Night blindness, dry eyes, dry or rough skin, poor wound healing, weakened immune system\n",
      "predicting 290 ...\n"
     ]
    },
    {
     "name": "stderr",
     "output_type": "stream",
     "text": [
      "The attention mask and the pad token id were not set. As a consequence, you may observe unexpected behavior. Please pass your input's `attention_mask` to obtain reliable results.\n",
      "Setting `pad_token_id` to `eos_token_id`:50256 for open-end generation.\n"
     ]
    },
    {
     "name": "stdout",
     "output_type": "stream",
     "text": [
      "done 290.\n",
      "result differs on id=290, output=Gonorrhea | Red, itchy, and oily patches of skin, dandruff,, expected=Painful urination, abnormal discharge from the genitals, pelvic pain\n",
      "predicting 291 ...\n"
     ]
    },
    {
     "name": "stderr",
     "output_type": "stream",
     "text": [
      "The attention mask and the pad token id were not set. As a consequence, you may observe unexpected behavior. Please pass your input's `attention_mask` to obtain reliable results.\n",
      "Setting `pad_token_id` to `eos_token_id`:50256 for open-end generation.\n"
     ]
    },
    {
     "name": "stdout",
     "output_type": "stream",
     "text": [
      "done 291.\n",
      "result differs on id=291, output=Fracture of the Rib | Chest pain, difficulty breathing, tenderness or swelling over the rib, expected=Chest pain, difficulty breathing, tenderness or swelling over the ribcage\n",
      "predicting 292 ...\n"
     ]
    },
    {
     "name": "stderr",
     "output_type": "stream",
     "text": [
      "The attention mask and the pad token id were not set. As a consequence, you may observe unexpected behavior. Please pass your input's `attention_mask` to obtain reliable results.\n",
      "Setting `pad_token_id` to `eos_token_id`:50256 for open-end generation.\n",
      "The attention mask and the pad token id were not set. As a consequence, you may observe unexpected behavior. Please pass your input's `attention_mask` to obtain reliable results.\n",
      "Setting `pad_token_id` to `eos_token_id`:50256 for open-end generation.\n"
     ]
    },
    {
     "name": "stdout",
     "output_type": "stream",
     "text": [
      "done 292.\n",
      "result differs on id=292, output=Ependymoma | Headaches, nausea, seizures, changes in coordination or balance, expected=Headaches, nausea, seizures, changes in coordination or balance\n",
      "predicting 293 ...\n",
      "done 293.\n",
      "result differs on id=293, output=Hepatitis due to a Toxin | Fatigue, jaundice, abdominal pain,, expected=Fatigue, jaundice, abdominal pain, nausea, vomiting\n",
      "predicting 294 ...\n"
     ]
    },
    {
     "name": "stderr",
     "output_type": "stream",
     "text": [
      "The attention mask and the pad token id were not set. As a consequence, you may observe unexpected behavior. Please pass your input's `attention_mask` to obtain reliable results.\n",
      "Setting `pad_token_id` to `eos_token_id`:50256 for open-end generation.\n"
     ]
    },
    {
     "name": "stdout",
     "output_type": "stream",
     "text": [
      "done 294.\n",
      "result differs on id=294, output=Vaginal Cyst | Small lump or swelling in the vaginal wall, discomfort or pain during intercourse, expected=Small lump or swelling in the vaginal wall, discomfort or pain during intercourse\n",
      "predicting 295 ...\n"
     ]
    },
    {
     "name": "stderr",
     "output_type": "stream",
     "text": [
      "The attention mask and the pad token id were not set. As a consequence, you may observe unexpected behavior. Please pass your input's `attention_mask` to obtain reliable results.\n",
      "Setting `pad_token_id` to `eos_token_id`:50256 for open-end generation.\n"
     ]
    },
    {
     "name": "stdout",
     "output_type": "stream",
     "text": [
      "done 295.\n",
      "result differs on id=295, output=Chronic Knee Pain | Persistent knee pain, stiffness, swelling, limited range of motion, expected=Persistent knee pain, stiffness, swelling, limited range of motion\n",
      "predicting 296 ...\n"
     ]
    },
    {
     "name": "stderr",
     "output_type": "stream",
     "text": [
      "The attention mask and the pad token id were not set. As a consequence, you may observe unexpected behavior. Please pass your input's `attention_mask` to obtain reliable results.\n",
      "Setting `pad_token_id` to `eos_token_id`:50256 for open-end generation.\n",
      "The attention mask and the pad token id were not set. As a consequence, you may observe unexpected behavior. Please pass your input's `attention_mask` to obtain reliable results.\n",
      "Setting `pad_token_id` to `eos_token_id`:50256 for open-end generation.\n"
     ]
    },
    {
     "name": "stdout",
     "output_type": "stream",
     "text": [
      "done 296.\n",
      "result differs on id=296, output=Pinguecula | Yellowish or white growth on the conjunctiva (eye's surface),, expected=Yellowish or white growth on the conjunctiva (eye's surface), usually near the cornea\n",
      "predicting 297 ...\n",
      "done 297.\n",
      "result differs on id=297, output=Hypergammaglobulinemia | Elevated levels of gamma globulins in the, expected=Elevated levels of gamma globulins in the blood, may be asymptomatic or associated with other underlying conditions\n",
      "predicting 298 ...\n"
     ]
    },
    {
     "name": "stderr",
     "output_type": "stream",
     "text": [
      "The attention mask and the pad token id were not set. As a consequence, you may observe unexpected behavior. Please pass your input's `attention_mask` to obtain reliable results.\n",
      "Setting `pad_token_id` to `eos_token_id`:50256 for open-end generation.\n"
     ]
    },
    {
     "name": "stdout",
     "output_type": "stream",
     "text": [
      "done 298.\n",
      "result differs on id=298, output=Pituitary Disorder | Various symptoms depending on the specific disorder, including hormonal imbalances, expected=Various symptoms depending on the specific disorder, including hormonal imbalances\n",
      "predicting 299 ...\n"
     ]
    },
    {
     "name": "stderr",
     "output_type": "stream",
     "text": [
      "The attention mask and the pad token id were not set. As a consequence, you may observe unexpected behavior. Please pass your input's `attention_mask` to obtain reliable results.\n",
      "Setting `pad_token_id` to `eos_token_id`:50256 for open-end generation.\n"
     ]
    },
    {
     "name": "stdout",
     "output_type": "stream",
     "text": [
      "done 299.\n",
      "result differs on id=299, output=Kidney Stone | Severe pain in the side or back, blood in the urine, frequent ur, expected=Severe pain in the side or back, blood in the urine, frequent urination\n",
      "predicting 300 ...\n"
     ]
    },
    {
     "name": "stderr",
     "output_type": "stream",
     "text": [
      "The attention mask and the pad token id were not set. As a consequence, you may observe unexpected behavior. Please pass your input's `attention_mask` to obtain reliable results.\n",
      "Setting `pad_token_id` to `eos_token_id`:50256 for open-end generation.\n"
     ]
    },
    {
     "name": "stdout",
     "output_type": "stream",
     "text": [
      "done 300.\n",
      "result differs on id=300, output=Autism | Challenges with social interaction, communication difficulties, restricted interests or repetitive behaviors, expected=Challenges with social interaction, communication difficulties, restricted interests or repetitive behaviors\n",
      "predicting 301 ...\n"
     ]
    },
    {
     "name": "stderr",
     "output_type": "stream",
     "text": [
      "The attention mask and the pad token id were not set. As a consequence, you may observe unexpected behavior. Please pass your input's `attention_mask` to obtain reliable results.\n",
      "Setting `pad_token_id` to `eos_token_id`:50256 for open-end generation.\n"
     ]
    },
    {
     "name": "stdout",
     "output_type": "stream",
     "text": [
      "done 301.\n",
      "result differs on id=301, output=Cat Scratch Disease | Swollen lymph nodes, fever, fatigue, headache, rash, expected=Swollen lymph nodes, fever, fatigue, headache, rash\n",
      "predicting 302 ...\n"
     ]
    },
    {
     "name": "stderr",
     "output_type": "stream",
     "text": [
      "The attention mask and the pad token id were not set. As a consequence, you may observe unexpected behavior. Please pass your input's `attention_mask` to obtain reliable results.\n",
      "Setting `pad_token_id` to `eos_token_id`:50256 for open-end generation.\n"
     ]
    },
    {
     "name": "stdout",
     "output_type": "stream",
     "text": [
      "done 302.\n",
      "result differs on id=302, output=Chronic Glaucoma | Gradual vision loss, peripheral vision impairment, eye pain or discomfort, expected=Gradual vision loss, peripheral vision impairment, eye pain or discomfort, halos around lights\n",
      "predicting 303 ...\n"
     ]
    },
    {
     "name": "stderr",
     "output_type": "stream",
     "text": [
      "The attention mask and the pad token id were not set. As a consequence, you may observe unexpected behavior. Please pass your input's `attention_mask` to obtain reliable results.\n",
      "Setting `pad_token_id` to `eos_token_id`:50256 for open-end generation.\n"
     ]
    },
    {
     "name": "stdout",
     "output_type": "stream",
     "text": [
      "done 303.\n",
      "result differs on id=303, output=Retinal Detachment | Floaters (spots or cobweb-like shapes in vision), flashes, expected=Floaters (spots or cobweb-like shapes in vision), flashes of light, curtain-like shadow over vision, sudden vision loss\n",
      "predicting 304 ...\n"
     ]
    },
    {
     "name": "stderr",
     "output_type": "stream",
     "text": [
      "The attention mask and the pad token id were not set. As a consequence, you may observe unexpected behavior. Please pass your input's `attention_mask` to obtain reliable results.\n",
      "Setting `pad_token_id` to `eos_token_id`:50256 for open-end generation.\n"
     ]
    },
    {
     "name": "stdout",
     "output_type": "stream",
     "text": [
      "done 304.\n",
      "result differs on id=304, output=Aplastic Anemia | Fatigue, pale skin, frequent infections, shortness of breath,, expected=Fatigue, pale skin, frequent infections, shortness of breath, rapid or irregular heartbeats, prolonged bleeding or bruising\n",
      "predicting 305 ...\n"
     ]
    },
    {
     "name": "stderr",
     "output_type": "stream",
     "text": [
      "The attention mask and the pad token id were not set. As a consequence, you may observe unexpected behavior. Please pass your input's `attention_mask` to obtain reliable results.\n",
      "Setting `pad_token_id` to `eos_token_id`:50256 for open-end generation.\n"
     ]
    },
    {
     "name": "stdout",
     "output_type": "stream",
     "text": [
      "done 305.\n",
      "result differs on id=305, output=Overflow Incontinence | Frequent or constant dribbling of urine, inability to completely empty the, expected=Frequent or constant dribbling of urine, inability to completely empty the bladder, weak urine stream\n",
      "predicting 306 ...\n"
     ]
    },
    {
     "name": "stderr",
     "output_type": "stream",
     "text": [
      "The attention mask and the pad token id were not set. As a consequence, you may observe unexpected behavior. Please pass your input's `attention_mask` to obtain reliable results.\n",
      "Setting `pad_token_id` to `eos_token_id`:50256 for open-end generation.\n"
     ]
    },
    {
     "name": "stdout",
     "output_type": "stream",
     "text": [
      "done 306.\n",
      "result differs on id=306, output=Rabies | Intense itching, especially at night, small blisters or bumps, expected=Flu-like symptoms (fever, headache, fatigue), anxiety, confusion, hallucinations, difficulty swallowing\n",
      "predicting 307 ...\n"
     ]
    },
    {
     "name": "stderr",
     "output_type": "stream",
     "text": [
      "The attention mask and the pad token id were not set. As a consequence, you may observe unexpected behavior. Please pass your input's `attention_mask` to obtain reliable results.\n",
      "Setting `pad_token_id` to `eos_token_id`:50256 for open-end generation.\n"
     ]
    },
    {
     "name": "stdout",
     "output_type": "stream",
     "text": [
      "done 307.\n",
      "result differs on id=307, output=Hemolytic Anemia | Excessive bleeding and bruising, prolonged or excessive bleeding from wounds or, expected=Fatigue, weakness, pale skin, shortness of breath, jaundice\n",
      "predicting 308 ...\n"
     ]
    },
    {
     "name": "stderr",
     "output_type": "stream",
     "text": [
      "The attention mask and the pad token id were not set. As a consequence, you may observe unexpected behavior. Please pass your input's `attention_mask` to obtain reliable results.\n",
      "Setting `pad_token_id` to `eos_token_id`:50256 for open-end generation.\n"
     ]
    },
    {
     "name": "stdout",
     "output_type": "stream",
     "text": [
      "done 308.\n",
      "result differs on id=308, output=Lateral Epicondylitis (Tennis Elbow) | Pain or tenderness on the outer, expected=Pain or tenderness on the outer side of the elbow, weak grip strength, difficulty with forearm movements\n",
      "predicting 309 ...\n"
     ]
    },
    {
     "name": "stderr",
     "output_type": "stream",
     "text": [
      "The attention mask and the pad token id were not set. As a consequence, you may observe unexpected behavior. Please pass your input's `attention_mask` to obtain reliable results.\n",
      "Setting `pad_token_id` to `eos_token_id`:50256 for open-end generation.\n"
     ]
    },
    {
     "name": "stdout",
     "output_type": "stream",
     "text": [
      "done 309.\n",
      "result differs on id=309, output=Syphilis | Primary stage: painless sores (chancre) at the site of infection, expected=Primary stage: painless sores (chancre) at the site of infection, secondary stage: skin rash, fever, swollen lymph nodes, sore throat, latent stage: no symptoms, tertiary stage: severe complications affecting the heart, brain, and other organs\n",
      "predicting 310 ...\n"
     ]
    },
    {
     "name": "stderr",
     "output_type": "stream",
     "text": [
      "The attention mask and the pad token id were not set. As a consequence, you may observe unexpected behavior. Please pass your input's `attention_mask` to obtain reliable results.\n",
      "Setting `pad_token_id` to `eos_token_id`:50256 for open-end generation.\n"
     ]
    },
    {
     "name": "stdout",
     "output_type": "stream",
     "text": [
      "done 310.\n",
      "result differs on id=310, output=Diabetic Kidney Disease | High blood pressure, increased need to urinate, swelling in the legs, expected=High blood pressure, increased need to urinate, swelling in the legs and ankles, fatigue, nausea, loss of appetite\n",
      "predicting 311 ...\n"
     ]
    },
    {
     "name": "stderr",
     "output_type": "stream",
     "text": [
      "The attention mask and the pad token id were not set. As a consequence, you may observe unexpected behavior. Please pass your input's `attention_mask` to obtain reliable results.\n",
      "Setting `pad_token_id` to `eos_token_id`:50256 for open-end generation.\n"
     ]
    },
    {
     "name": "stdout",
     "output_type": "stream",
     "text": [
      "done 311.\n",
      "result differs on id=311, output=Nose Disorder | Nasal congestion, runny nose, sneezing, facial pain or pressure, expected=Nasal congestion, runny nose, sneezing, facial pain or pressure, loss of smell\n",
      "predicting 312 ...\n"
     ]
    },
    {
     "name": "stderr",
     "output_type": "stream",
     "text": [
      "The attention mask and the pad token id were not set. As a consequence, you may observe unexpected behavior. Please pass your input's `attention_mask` to obtain reliable results.\n",
      "Setting `pad_token_id` to `eos_token_id`:50256 for open-end generation.\n"
     ]
    },
    {
     "name": "stdout",
     "output_type": "stream",
     "text": [
      "done 312.\n",
      "result differs on id=312, output=Drug Withdrawal | Anxiety, restlessness, irritability, tremors, sweating, nausea,, expected=Anxiety, restlessness, irritability, tremors, sweating, nausea, vomiting, insomnia, drug cravings\n",
      "predicting 313 ...\n"
     ]
    },
    {
     "name": "stderr",
     "output_type": "stream",
     "text": [
      "The attention mask and the pad token id were not set. As a consequence, you may observe unexpected behavior. Please pass your input's `attention_mask` to obtain reliable results.\n",
      "Setting `pad_token_id` to `eos_token_id`:50256 for open-end generation.\n"
     ]
    },
    {
     "name": "stdout",
     "output_type": "stream",
     "text": [
      "done 313.\n",
      "result differs on id=313, output=Dental Caries | Toothache, tooth sensitivity, visible pits or holes in the teeth, dark, expected=Toothache, tooth sensitivity, visible pits or holes in the teeth, dark spots on the teeth, bad breath\n",
      "predicting 314 ...\n"
     ]
    },
    {
     "name": "stderr",
     "output_type": "stream",
     "text": [
      "The attention mask and the pad token id were not set. As a consequence, you may observe unexpected behavior. Please pass your input's `attention_mask` to obtain reliable results.\n",
      "Setting `pad_token_id` to `eos_token_id`:50256 for open-end generation.\n",
      "The attention mask and the pad token id were not set. As a consequence, you may observe unexpected behavior. Please pass your input's `attention_mask` to obtain reliable results.\n",
      "Setting `pad_token_id` to `eos_token_id`:50256 for open-end generation.\n"
     ]
    },
    {
     "name": "stdout",
     "output_type": "stream",
     "text": [
      "done 314.\n",
      "result differs on id=314, output=Hypercholesterolemia | Cravings for healthy food choices, easy bruising or swelling of the legs, expected=High levels of cholesterol in the blood, fatty deposits (xanthomas) on the skin or tendons, chest pain or angina, heart attacks, strokes\n",
      "predicting 315 ...\n",
      "done 315.\n",
      "result differs on id=315, output=Fracture of the Patella | Knee pain, swelling, inability to straighten the, expected=Severe pain, swelling, bruising, difficulty straightening or bending the knee, deformity\n",
      "predicting 316 ...\n"
     ]
    },
    {
     "name": "stderr",
     "output_type": "stream",
     "text": [
      "The attention mask and the pad token id were not set. As a consequence, you may observe unexpected behavior. Please pass your input's `attention_mask` to obtain reliable results.\n",
      "Setting `pad_token_id` to `eos_token_id`:50256 for open-end generation.\n"
     ]
    },
    {
     "name": "stdout",
     "output_type": "stream",
     "text": [
      "done 316.\n",
      "result differs on id=316, output=Kidney Failure | Decreased urine output, fluid retention, fatigue, shortness of breath, nausea, expected=Decreased urine output, fluid retention, fatigue, shortness of breath, nausea, confusion, chest pain, seizures\n",
      "predicting 317 ...\n"
     ]
    },
    {
     "name": "stderr",
     "output_type": "stream",
     "text": [
      "The attention mask and the pad token id were not set. As a consequence, you may observe unexpected behavior. Please pass your input's `attention_mask` to obtain reliable results.\n",
      "Setting `pad_token_id` to `eos_token_id`:50256 for open-end generation.\n"
     ]
    },
    {
     "name": "stdout",
     "output_type": "stream",
     "text": [
      "done 317.\n",
      "result differs on id=317, output=Fracture of the Neck | Severe neck pain, swelling, tenderness, difficulty moving or, expected=Severe neck pain, swelling, tenderness, difficulty moving or turning the head, numbness or weakness in the arms or legs\n",
      "predicting 318 ...\n"
     ]
    },
    {
     "name": "stderr",
     "output_type": "stream",
     "text": [
      "The attention mask and the pad token id were not set. As a consequence, you may observe unexpected behavior. Please pass your input's `attention_mask` to obtain reliable results.\n",
      "Setting `pad_token_id` to `eos_token_id`:50256 for open-end generation.\n"
     ]
    },
    {
     "name": "stdout",
     "output_type": "stream",
     "text": [
      "done 318.\n",
      "result differs on id=318, output=Muscle Spasm | Sudden, involuntary muscle contractions, muscle pain, stiffness, limited range, expected=Sudden, involuntary muscle contractions, muscle pain, stiffness, limited range of motion\n",
      "predicting 319 ...\n"
     ]
    },
    {
     "name": "stderr",
     "output_type": "stream",
     "text": [
      "The attention mask and the pad token id were not set. As a consequence, you may observe unexpected behavior. Please pass your input's `attention_mask` to obtain reliable results.\n",
      "Setting `pad_token_id` to `eos_token_id`:50256 for open-end generation.\n",
      "The attention mask and the pad token id were not set. As a consequence, you may observe unexpected behavior. Please pass your input's `attention_mask` to obtain reliable results.\n",
      "Setting `pad_token_id` to `eos_token_id`:50256 for open-end generation.\n"
     ]
    },
    {
     "name": "stdout",
     "output_type": "stream",
     "text": [
      "done 319.\n",
      "result differs on id=319, output=Hemophilia | Excessive bleeding and bruising, prolonged bleeding or bruising, spontaneous bleeding in joints, expected=Excessive bleeding and bruising, prolonged bleeding from wounds or after dental work or surgery, spontaneous bleeding in joints or muscles\n",
      "predicting 320 ...\n",
      "done 320.\n",
      "result differs on id=320, output=Hyperosmotic Hyperketotic State | Increased blood sugar levels, increased ketone production, excessive, expected=Increased blood sugar levels, increased ketone production, excessive thirst, frequent urination, fatigue, confusion, fruity breath odor\n",
      "predicting 321 ...\n"
     ]
    },
    {
     "name": "stderr",
     "output_type": "stream",
     "text": [
      "The attention mask and the pad token id were not set. As a consequence, you may observe unexpected behavior. Please pass your input's `attention_mask` to obtain reliable results.\n",
      "Setting `pad_token_id` to `eos_token_id`:50256 for open-end generation.\n"
     ]
    },
    {
     "name": "stdout",
     "output_type": "stream",
     "text": [
      "done 321.\n",
      "result differs on id=321, output=Peritonsillar Abscess | Severe sore throat, difficulty swallowing, fever, swollen tons, expected=Severe sore throat, difficulty swallowing, fever, swollen tonsils, voice changes, neck pain or stiffness\n",
      "predicting 322 ...\n"
     ]
    },
    {
     "name": "stderr",
     "output_type": "stream",
     "text": [
      "The attention mask and the pad token id were not set. As a consequence, you may observe unexpected behavior. Please pass your input's `attention_mask` to obtain reliable results.\n",
      "Setting `pad_token_id` to `eos_token_id`:50256 for open-end generation.\n"
     ]
    },
    {
     "name": "stdout",
     "output_type": "stream",
     "text": [
      "done 322.\n",
      "result differs on id=322, output=Gastroparesis | Nausea, vomiting, early satiety, bloating and abdominal, expected=Nausea, vomiting, early satiety, bloating, abdominal pain, poor appetite\n",
      "predicting 323 ...\n"
     ]
    },
    {
     "name": "stderr",
     "output_type": "stream",
     "text": [
      "The attention mask and the pad token id were not set. As a consequence, you may observe unexpected behavior. Please pass your input's `attention_mask` to obtain reliable results.\n",
      "Setting `pad_token_id` to `eos_token_id`:50256 for open-end generation.\n"
     ]
    },
    {
     "name": "stdout",
     "output_type": "stream",
     "text": [
      "done 323.\n",
      "result differs on id=323, output=Fat Embolism | Abdominal pain, high blood pressure, kidney stones, expected=Respiratory distress, chest pain, confusion, petechial rash (small red or purple spots), neurological symptoms\n",
      "predicting 324 ...\n"
     ]
    },
    {
     "name": "stderr",
     "output_type": "stream",
     "text": [
      "The attention mask and the pad token id were not set. As a consequence, you may observe unexpected behavior. Please pass your input's `attention_mask` to obtain reliable results.\n",
      "Setting `pad_token_id` to `eos_token_id`:50256 for open-end generation.\n"
     ]
    },
    {
     "name": "stdout",
     "output_type": "stream",
     "text": [
      "done 324.\n",
      "result differs on id=324, output=Polycythemia Vera | Increased red blood cell count, fatigue, headache, dizziness, itching, expected=Increased red blood cell count, fatigue, headache, dizziness, itching, enlarged spleen\n",
      "predicting 325 ...\n"
     ]
    },
    {
     "name": "stderr",
     "output_type": "stream",
     "text": [
      "The attention mask and the pad token id were not set. As a consequence, you may observe unexpected behavior. Please pass your input's `attention_mask` to obtain reliable results.\n",
      "Setting `pad_token_id` to `eos_token_id`:50256 for open-end generation.\n"
     ]
    },
    {
     "name": "stdout",
     "output_type": "stream",
     "text": [
      "done 325.\n",
      "result differs on id=325, output=Thrombocytopenia | Recurrent episodes of binge eating followed by purging behaviors, expected=Easy bruising, prolonged bleeding from cuts, petechiae (red or purple spots on the skin), nosebleeds, excessive menstrual bleeding\n",
      "predicting 326 ...\n"
     ]
    },
    {
     "name": "stderr",
     "output_type": "stream",
     "text": [
      "The attention mask and the pad token id were not set. As a consequence, you may observe unexpected behavior. Please pass your input's `attention_mask` to obtain reliable results.\n",
      "Setting `pad_token_id` to `eos_token_id`:50256 for open-end generation.\n",
      "The attention mask and the pad token id were not set. As a consequence, you may observe unexpected behavior. Please pass your input's `attention_mask` to obtain reliable results.\n",
      "Setting `pad_token_id` to `eos_token_id`:50256 for open-end generation.\n"
     ]
    },
    {
     "name": "stdout",
     "output_type": "stream",
     "text": [
      "done 326.\n",
      "result differs on id=326, output=Head and Neck Cancer | Persistent sore throat, difficulty swallowing, voice changes, ear pain, weight, expected=Persistent sore throat, difficulty swallowing, voice changes, ear pain, neck mass, weight loss\n",
      "predicting 327 ...\n",
      "done 327.\n",
      "result differs on id=327, output=Pseudohypoparathyroidism | Hypocalcemia (low calcium levels),, expected=Hypocalcemia (low calcium levels), tetany (muscle spasms), short stature, rounded face\n",
      "predicting 328 ...\n"
     ]
    },
    {
     "name": "stderr",
     "output_type": "stream",
     "text": [
      "The attention mask and the pad token id were not set. As a consequence, you may observe unexpected behavior. Please pass your input's `attention_mask` to obtain reliable results.\n",
      "Setting `pad_token_id` to `eos_token_id`:50256 for open-end generation.\n"
     ]
    },
    {
     "name": "stdout",
     "output_type": "stream",
     "text": [
      "done 328.\n",
      "result differs on id=328, output=Goiterranial Nerve Palsy | Depends on the specific cranial nerve involved;, expected=Enlarged thyroid gland in the neck, swelling or visible protrusion, difficulty swallowing or breathing\n",
      "predicting 329 ...\n"
     ]
    },
    {
     "name": "stderr",
     "output_type": "stream",
     "text": [
      "The attention mask and the pad token id were not set. As a consequence, you may observe unexpected behavior. Please pass your input's `attention_mask` to obtain reliable results.\n",
      "Setting `pad_token_id` to `eos_token_id`:50256 for open-end generation.\n"
     ]
    },
    {
     "name": "stdout",
     "output_type": "stream",
     "text": [
      "done 329.\n",
      "result differs on id=329, output=Urge Incontinence | Frequent or constant dribbling of urine, abdominal distension, poor, expected=Sudden, intense urge to urinate followed by involuntary urine leakage\n",
      "predicting 330 ...\n"
     ]
    },
    {
     "name": "stderr",
     "output_type": "stream",
     "text": [
      "The attention mask and the pad token id were not set. As a consequence, you may observe unexpected behavior. Please pass your input's `attention_mask` to obtain reliable results.\n",
      "Setting `pad_token_id` to `eos_token_id`:50256 for open-end generation.\n"
     ]
    },
    {
     "name": "stdout",
     "output_type": "stream",
     "text": [
      "done 330.\n",
      "result differs on id=330, output=Edward Syndrome | Fatigue, abdominal pain or swelling, jaundice, neurological symptoms (trem, expected=Developmental delays, intellectual disability, distinct facial features (small jaw, low-set ears), heart defects\n",
      "predicting 331 ...\n"
     ]
    },
    {
     "name": "stderr",
     "output_type": "stream",
     "text": [
      "The attention mask and the pad token id were not set. As a consequence, you may observe unexpected behavior. Please pass your input's `attention_mask` to obtain reliable results.\n",
      "Setting `pad_token_id` to `eos_token_id`:50256 for open-end generation.\n"
     ]
    },
    {
     "name": "stdout",
     "output_type": "stream",
     "text": [
      "done 331.\n",
      "result differs on id=331, output=Muscular Dystrophy | Progressive muscle weakness and degeneration, difficulty walking or moving, muscle wasting, expected=Progressive muscle weakness and degeneration, difficulty walking or moving, muscle wasting\n",
      "predicting 332 ...\n"
     ]
    },
    {
     "name": "stderr",
     "output_type": "stream",
     "text": [
      "The attention mask and the pad token id were not set. As a consequence, you may observe unexpected behavior. Please pass your input's `attention_mask` to obtain reliable results.\n",
      "Setting `pad_token_id` to `eos_token_id`:50256 for open-end generation.\n"
     ]
    },
    {
     "name": "stdout",
     "output_type": "stream",
     "text": [
      "done 332.\n",
      "result differs on id=332, output=Mittelschmerz | Lower abdominal pain and discomfort occurring around the time of ovulation, expected=Lower abdominal pain and discomfort occurring around the time of ovulation\n",
      "predicting 333 ...\n"
     ]
    },
    {
     "name": "stderr",
     "output_type": "stream",
     "text": [
      "The attention mask and the pad token id were not set. As a consequence, you may observe unexpected behavior. Please pass your input's `attention_mask` to obtain reliable results.\n",
      "Setting `pad_token_id` to `eos_token_id`:50256 for open-end generation.\n"
     ]
    },
    {
     "name": "stdout",
     "output_type": "stream",
     "text": [
      "done 333.\n",
      "result differs on id=333, output=Corneal Abrasion | Blurred or hazy vision, eye pain or discomfort, red, expected=Eye pain, redness, foreign body sensation, sensitivity to light\n",
      "predicting 334 ...\n"
     ]
    },
    {
     "name": "stderr",
     "output_type": "stream",
     "text": [
      "The attention mask and the pad token id were not set. As a consequence, you may observe unexpected behavior. Please pass your input's `attention_mask` to obtain reliable results.\n",
      "Setting `pad_token_id` to `eos_token_id`:50256 for open-end generation.\n"
     ]
    },
    {
     "name": "stdout",
     "output_type": "stream",
     "text": [
      "done 334.\n",
      "result differs on id=334, output=Anemia of Chronic Disease | Fatigue, weakness, pale skin, shortness of breath, decreased, expected=Fatigue, weakness, pale skin, shortness of breath, decreased exercise tolerance\n",
      "predicting 335 ...\n"
     ]
    },
    {
     "name": "stderr",
     "output_type": "stream",
     "text": [
      "The attention mask and the pad token id were not set. As a consequence, you may observe unexpected behavior. Please pass your input's `attention_mask` to obtain reliable results.\n",
      "Setting `pad_token_id` to `eos_token_id`:50256 for open-end generation.\n"
     ]
    },
    {
     "name": "stdout",
     "output_type": "stream",
     "text": [
      "done 335.\n",
      "result differs on id=335, output=Dysthymic Disorder | Persistent depressive symptoms (low mood, lack of interest), lasting, expected=Persistent depressive symptoms (low mood, lack of interest, changes in sleep and appetite), lasting for at least two years\n",
      "predicting 336 ...\n"
     ]
    },
    {
     "name": "stderr",
     "output_type": "stream",
     "text": [
      "The attention mask and the pad token id were not set. As a consequence, you may observe unexpected behavior. Please pass your input's `attention_mask` to obtain reliable results.\n",
      "Setting `pad_token_id` to `eos_token_id`:50256 for open-end generation.\n"
     ]
    },
    {
     "name": "stdout",
     "output_type": "stream",
     "text": [
      "done 336.\n",
      "result differs on id=336, output=Scarlet Fever | Sore throat, fever, rash (red, sandpaper-like), swollen, expected=Sore throat, fever, rash (red, sandpaper-like), swollen glands\n",
      "predicting 337 ...\n"
     ]
    },
    {
     "name": "stderr",
     "output_type": "stream",
     "text": [
      "The attention mask and the pad token id were not set. As a consequence, you may observe unexpected behavior. Please pass your input's `attention_mask` to obtain reliable results.\n",
      "Setting `pad_token_id` to `eos_token_id`:50256 for open-end generation.\n",
      "The attention mask and the pad token id were not set. As a consequence, you may observe unexpected behavior. Please pass your input's `attention_mask` to obtain reliable results.\n",
      "Setting `pad_token_id` to `eos_token_id`:50256 for open-end generation.\n"
     ]
    },
    {
     "name": "stdout",
     "output_type": "stream",
     "text": [
      "done 337.\n",
      "result differs on id=337, output=Hypertensive Heart Disease | High blood pressure, chest pain or discomfort, shortness of breath,, expected=High blood pressure, chest pain or discomfort, shortness of breath, fatigue\n",
      "predicting 338 ...\n",
      "done 338.\n",
      "result differs on id=338, output=Drug Abuse (Barbiturates) | Sedation, drowsiness, slurred speech,, expected=Sedation, drowsiness, slurred speech, confusion, respiratory depression\n",
      "predicting 339 ...\n"
     ]
    },
    {
     "name": "stderr",
     "output_type": "stream",
     "text": [
      "The attention mask and the pad token id were not set. As a consequence, you may observe unexpected behavior. Please pass your input's `attention_mask` to obtain reliable results.\n",
      "Setting `pad_token_id` to `eos_token_id`:50256 for open-end generation.\n"
     ]
    },
    {
     "name": "stdout",
     "output_type": "stream",
     "text": [
      "done 339.\n",
      "result differs on id=339, output=Polycystic Ovarian Syndrome | Irregular periods, excessive hair growth, acne, weight gain,, expected=Irregular periods, excessive hair growth, acne, weight gain, ovarian cysts\n",
      "predicting 340 ...\n"
     ]
    },
    {
     "name": "stderr",
     "output_type": "stream",
     "text": [
      "The attention mask and the pad token id were not set. As a consequence, you may observe unexpected behavior. Please pass your input's `attention_mask` to obtain reliable results.\n",
      "Setting `pad_token_id` to `eos_token_id`:50256 for open-end generation.\n"
     ]
    },
    {
     "name": "stdout",
     "output_type": "stream",
     "text": [
      "done 340.\n",
      "result differs on id=340, output=Encephalitis | Fever, chest pain, difficulty swallowing, fever, rapid or irregular heartbeat,, expected=Headache, fever, confusion, seizures, neurological symptoms\n",
      "predicting 341 ...\n"
     ]
    },
    {
     "name": "stderr",
     "output_type": "stream",
     "text": [
      "The attention mask and the pad token id were not set. As a consequence, you may observe unexpected behavior. Please pass your input's `attention_mask` to obtain reliable results.\n",
      "Setting `pad_token_id` to `eos_token_id`:50256 for open-end generation.\n"
     ]
    },
    {
     "name": "stdout",
     "output_type": "stream",
     "text": [
      "done 341.\n",
      "result differs on id=341, output=Cyst of the Eyelid | Painful lump or swelling on eyelid, redness,, expected=Painful lump or swelling on the eyelid, redness, tenderness\n",
      "predicting 342 ...\n"
     ]
    },
    {
     "name": "stderr",
     "output_type": "stream",
     "text": [
      "The attention mask and the pad token id were not set. As a consequence, you may observe unexpected behavior. Please pass your input's `attention_mask` to obtain reliable results.\n",
      "Setting `pad_token_id` to `eos_token_id`:50256 for open-end generation.\n"
     ]
    },
    {
     "name": "stdout",
     "output_type": "stream",
     "text": [
      "done 342.\n",
      "result differs on id=342, output=Balanitis | Inflammation of the glans penis (tip of the penis), redness, expected=Inflammation of the glans penis (tip of the penis), redness, swelling, pain\n",
      "predicting 343 ...\n"
     ]
    },
    {
     "name": "stderr",
     "output_type": "stream",
     "text": [
      "The attention mask and the pad token id were not set. As a consequence, you may observe unexpected behavior. Please pass your input's `attention_mask` to obtain reliable results.\n",
      "Setting `pad_token_id` to `eos_token_id`:50256 for open-end generation.\n"
     ]
    },
    {
     "name": "stdout",
     "output_type": "stream",
     "text": [
      "done 343.\n",
      "result differs on id=343, output=Foreign Body in the Throat | Sensation of a foreign object stuck in the throat, difficulty swallowing, expected=Sensation of a foreign object stuck in the throat, difficulty swallowing or speaking\n",
      "predicting 344 ...\n"
     ]
    },
    {
     "name": "stderr",
     "output_type": "stream",
     "text": [
      "The attention mask and the pad token id were not set. As a consequence, you may observe unexpected behavior. Please pass your input's `attention_mask` to obtain reliable results.\n",
      "Setting `pad_token_id` to `eos_token_id`:50256 for open-end generation.\n"
     ]
    },
    {
     "name": "stdout",
     "output_type": "stream",
     "text": [
      "done 344.\n",
      "result differs on id=344, output=Drug Abuse (Cocaine) | Euphoria, increased energy and dilated pupils, rapid heart, expected=Euphoria, increased energy, dilated pupils, rapid heart rate, high blood pressure, risk of heart attack or stroke\n",
      "predicting 345 ...\n"
     ]
    },
    {
     "name": "stderr",
     "output_type": "stream",
     "text": [
      "The attention mask and the pad token id were not set. As a consequence, you may observe unexpected behavior. Please pass your input's `attention_mask` to obtain reliable results.\n",
      "Setting `pad_token_id` to `eos_token_id`:50256 for open-end generation.\n"
     ]
    },
    {
     "name": "stdout",
     "output_type": "stream",
     "text": [
      "done 345.\n",
      "result differs on id=345, output=Optic Neuritis | Vision loss or blurry vision, eye pain with eye movement, color vision, expected=Vision loss or blurry vision, eye pain with eye movement, color vision impairment, flashing lights or floaters\n",
      "predicting 346 ...\n"
     ]
    },
    {
     "name": "stderr",
     "output_type": "stream",
     "text": [
      "The attention mask and the pad token id were not set. As a consequence, you may observe unexpected behavior. Please pass your input's `attention_mask` to obtain reliable results.\n",
      "Setting `pad_token_id` to `eos_token_id`:50256 for open-end generation.\n"
     ]
    },
    {
     "name": "stdout",
     "output_type": "stream",
     "text": [
      "done 346.\n",
      "result differs on id=346, output=Intestinal Malabsorption | Chronic diarrhea, weight loss, abdominal pain or bloating, nutrient deficiencies, expected=Chronic diarrhea, weight loss, abdominal pain or bloating, nutrient deficiencies (vitamins, minerals), fatigue, failure to thrive\n",
      "predicting 347 ...\n"
     ]
    },
    {
     "name": "stderr",
     "output_type": "stream",
     "text": [
      "The attention mask and the pad token id were not set. As a consequence, you may observe unexpected behavior. Please pass your input's `attention_mask` to obtain reliable results.\n",
      "Setting `pad_token_id` to `eos_token_id`:50256 for open-end generation.\n"
     ]
    },
    {
     "name": "stdout",
     "output_type": "stream",
     "text": [
      "done 347.\n",
      "result differs on id=347, output=Lead Poisoning | Fatigue, abdominal pain or swelling in the legs or ankles, expected=Fatigue, abdominal pain, joint pain, memory loss or cognitive difficulties, developmental delays (in children), anemia\n",
      "predicting 348 ...\n"
     ]
    },
    {
     "name": "stderr",
     "output_type": "stream",
     "text": [
      "The attention mask and the pad token id were not set. As a consequence, you may observe unexpected behavior. Please pass your input's `attention_mask` to obtain reliable results.\n",
      "Setting `pad_token_id` to `eos_token_id`:50256 for open-end generation.\n"
     ]
    },
    {
     "name": "stdout",
     "output_type": "stream",
     "text": [
      "done 348.\n",
      "result differs on id=348, output=Viral Warts | Small, rough growths on the skin or mucous membranes, typically pain, expected=Small, rough growths on the skin or mucous membranes, typically painless, may appear in clusters or as single lesions\n",
      "predicting 349 ...\n"
     ]
    },
    {
     "name": "stderr",
     "output_type": "stream",
     "text": [
      "The attention mask and the pad token id were not set. As a consequence, you may observe unexpected behavior. Please pass your input's `attention_mask` to obtain reliable results.\n",
      "Setting `pad_token_id` to `eos_token_id`:50256 for open-end generation.\n"
     ]
    },
    {
     "name": "stdout",
     "output_type": "stream",
     "text": [
      "done 349.\n",
      "result differs on id=349, output=Hyperhidrosis | Excessive sweating (beyond what is necessary for temperature regulation), typically in specific, expected=Excessive sweating (beyond what is necessary for temperature regulation), typically in specific areas (such as palms, soles, underarms), may interfere with daily activities\n",
      "predicting 350 ...\n"
     ]
    },
    {
     "name": "stderr",
     "output_type": "stream",
     "text": [
      "The attention mask and the pad token id were not set. As a consequence, you may observe unexpected behavior. Please pass your input's `attention_mask` to obtain reliable results.\n",
      "Setting `pad_token_id` to `eos_token_id`:50256 for open-end generation.\n"
     ]
    },
    {
     "name": "stdout",
     "output_type": "stream",
     "text": [
      "done 350.\n",
      "result differs on id=350, output=Stroke | Sudden numbness or weakness of the face, arm, or leg (typically, expected=Sudden numbness or weakness of the face, arm, or leg (typically on one side of the body), confusion, trouble speaking or understanding, severe headache\n",
      "predicting 351 ...\n"
     ]
    },
    {
     "name": "stderr",
     "output_type": "stream",
     "text": [
      "The attention mask and the pad token id were not set. As a consequence, you may observe unexpected behavior. Please pass your input's `attention_mask` to obtain reliable results.\n",
      "Setting `pad_token_id` to `eos_token_id`:50256 for open-end generation.\n"
     ]
    },
    {
     "name": "stdout",
     "output_type": "stream",
     "text": [
      "done 351.\n",
      "result differs on id=351, output=Pilonidal Cyst | Pain or discomfort in the tailbone area on one side of bowel,, expected=Pain or discomfort in the tailbone area, swelling, redness, drainage of pus or blood, abscess formation\n",
      "predicting 352 ...\n"
     ]
    },
    {
     "name": "stderr",
     "output_type": "stream",
     "text": [
      "The attention mask and the pad token id were not set. As a consequence, you may observe unexpected behavior. Please pass your input's `attention_mask` to obtain reliable results.\n",
      "Setting `pad_token_id` to `eos_token_id`:50256 for open-end generation.\n"
     ]
    },
    {
     "name": "stdout",
     "output_type": "stream",
     "text": [
      "done 352.\n",
      "result differs on id=352, output=Crushing Injury | Severe pain, swelling, bruising, difficulty moving or using the affected area, expected=Severe pain, swelling, deformity, bruising, difficulty moving or using the affected area\n",
      "predicting 353 ...\n"
     ]
    },
    {
     "name": "stderr",
     "output_type": "stream",
     "text": [
      "The attention mask and the pad token id were not set. As a consequence, you may observe unexpected behavior. Please pass your input's `attention_mask` to obtain reliable results.\n",
      "Setting `pad_token_id` to `eos_token_id`:50256 for open-end generation.\n"
     ]
    },
    {
     "name": "stdout",
     "output_type": "stream",
     "text": [
      "done 353.\n",
      "result differs on id=353, output=Normal Pressure Hydrocephalus | Nausea, vomiting, abdominal pain or cramps, fever, expected=Gait disturbances, urinary incontinence, cognitive decline or dementia-like symptoms\n",
      "predicting 354 ...\n"
     ]
    },
    {
     "name": "stderr",
     "output_type": "stream",
     "text": [
      "The attention mask and the pad token id were not set. As a consequence, you may observe unexpected behavior. Please pass your input's `attention_mask` to obtain reliable results.\n",
      "Setting `pad_token_id` to `eos_token_id`:50256 for open-end generation.\n"
     ]
    },
    {
     "name": "stdout",
     "output_type": "stream",
     "text": [
      "done 354.\n",
      "result differs on id=354, output=Alopecia | Hair loss or balding, patchy or generalized hair loss, expected=Hair loss or balding, patchy or generalized hair loss\n",
      "predicting 355 ...\n"
     ]
    },
    {
     "name": "stderr",
     "output_type": "stream",
     "text": [
      "The attention mask and the pad token id were not set. As a consequence, you may observe unexpected behavior. Please pass your input's `attention_mask` to obtain reliable results.\n",
      "Setting `pad_token_id` to `eos_token_id`:50256 for open-end generation.\n"
     ]
    },
    {
     "name": "stdout",
     "output_type": "stream",
     "text": [
      "done 355.\n",
      "result differs on id=355, output=Hashimoto Thyroiditis | Fatigue, weight gain and constipation, depression, muscle aches, expected=Fatigue, weight gain, constipation, dry skin, depression, muscle aches and stiffness, sensitivity to cold\n",
      "predicting 356 ...\n"
     ]
    },
    {
     "name": "stderr",
     "output_type": "stream",
     "text": [
      "The attention mask and the pad token id were not set. As a consequence, you may observe unexpected behavior. Please pass your input's `attention_mask` to obtain reliable results.\n",
      "Setting `pad_token_id` to `eos_token_id`:50256 for open-end generation.\n",
      "The attention mask and the pad token id were not set. As a consequence, you may observe unexpected behavior. Please pass your input's `attention_mask` to obtain reliable results.\n",
      "Setting `pad_token_id` to `eos_token_id`:50256 for open-end generation.\n"
     ]
    },
    {
     "name": "stdout",
     "output_type": "stream",
     "text": [
      "done 356.\n",
      "result differs on id=356, output=Flat Feet | Foot pain or achiness, difficulty with foot and ankle movement, foot fatigue, expected=Foot pain or achiness, difficulty with foot and ankle movement, foot fatigue, swelling\n",
      "predicting 357 ...\n",
      "done 357.\n",
      "result differs on id=357, output=Nonalcoholic Liver Disease (NASH) | Fatigue, abdominal swelling or pain, enlarged liver, expected=Fatigue, abdominal swelling or pain, enlarged liver, elevated liver enzymes, insulin resistance\n",
      "predicting 358 ...\n"
     ]
    },
    {
     "name": "stderr",
     "output_type": "stream",
     "text": [
      "The attention mask and the pad token id were not set. As a consequence, you may observe unexpected behavior. Please pass your input's `attention_mask` to obtain reliable results.\n",
      "Setting `pad_token_id` to `eos_token_id`:50256 for open-end generation.\n"
     ]
    },
    {
     "name": "stdout",
     "output_type": "stream",
     "text": [
      "done 358.\n",
      "result differs on id=358, output=Hemarthrosis | Chest pain, difficulty swallowing, fever, chest pain or discomfort, heart pal, expected=Joint swelling, pain, warmth, limited range of motion\n",
      "predicting 359 ...\n"
     ]
    },
    {
     "name": "stderr",
     "output_type": "stream",
     "text": [
      "The attention mask and the pad token id were not set. As a consequence, you may observe unexpected behavior. Please pass your input's `attention_mask` to obtain reliable results.\n",
      "Setting `pad_token_id` to `eos_token_id`:50256 for open-end generation.\n"
     ]
    },
    {
     "name": "stdout",
     "output_type": "stream",
     "text": [
      "done 359.\n",
      "result differs on id=359, output=Pelvic Organ Prolapse | Pelvic pressure or heaviness, urinary incontinence, bowel, expected=Pelvic pressure or heaviness, urinary incontinence, bowel movement difficulties, discomfort or pain during intercourse\n",
      "predicting 360 ...\n"
     ]
    },
    {
     "name": "stderr",
     "output_type": "stream",
     "text": [
      "The attention mask and the pad token id were not set. As a consequence, you may observe unexpected behavior. Please pass your input's `attention_mask` to obtain reliable results.\n",
      "Setting `pad_token_id` to `eos_token_id`:50256 for open-end generation.\n",
      "The attention mask and the pad token id were not set. As a consequence, you may observe unexpected behavior. Please pass your input's `attention_mask` to obtain reliable results.\n",
      "Setting `pad_token_id` to `eos_token_id`:50256 for open-end generation.\n"
     ]
    },
    {
     "name": "stdout",
     "output_type": "stream",
     "text": [
      "done 360.\n",
      "result differs on id=360, output=Fracture of the Arm | Pain, swelling, deformity, limited mobility or difficulty moving the, expected=Pain, swelling, deformity, limited mobility or difficulty moving the arm, bruising\n",
      "predicting 361 ...\n",
      "done 361.\n",
      "result differs on id=361, output=Coagulation (Bleeding) Disorder | Easy bruising, prolonged bleeding after injury or surgery, excessive, expected=Easy bruising, prolonged bleeding after injury or surgery, excessive bleeding from minor cuts or abrasions, frequent nosebleeds, heavy menstrual bleeding\n",
      "predicting 362 ...\n"
     ]
    },
    {
     "name": "stderr",
     "output_type": "stream",
     "text": [
      "The attention mask and the pad token id were not set. As a consequence, you may observe unexpected behavior. Please pass your input's `attention_mask` to obtain reliable results.\n",
      "Setting `pad_token_id` to `eos_token_id`:50256 for open-end generation.\n"
     ]
    },
    {
     "name": "stdout",
     "output_type": "stream",
     "text": [
      "done 362.\n",
      "result differs on id=362, output=Intracranial Hemorrhage | Headache, fever, neurological deficits, expected=Severe headache, nausea or vomiting, changes in vision, loss of consciousness, seizures\n",
      "predicting 363 ...\n"
     ]
    },
    {
     "name": "stderr",
     "output_type": "stream",
     "text": [
      "The attention mask and the pad token id were not set. As a consequence, you may observe unexpected behavior. Please pass your input's `attention_mask` to obtain reliable results.\n",
      "Setting `pad_token_id` to `eos_token_id`:50256 for open-end generation.\n"
     ]
    },
    {
     "name": "stdout",
     "output_type": "stream",
     "text": [
      "done 363.\n",
      "result differs on id=363, output=Hyperkalemia | Muscle weakness or fatigue, irregular heartbeat or palpitations, numbness or, expected=Muscle weakness or fatigue, irregular heartbeat or palpitations, numbness or tingling, nausea or vomiting\n",
      "predicting 364 ...\n"
     ]
    },
    {
     "name": "stderr",
     "output_type": "stream",
     "text": [
      "The attention mask and the pad token id were not set. As a consequence, you may observe unexpected behavior. Please pass your input's `attention_mask` to obtain reliable results.\n",
      "Setting `pad_token_id` to `eos_token_id`:50256 for open-end generation.\n"
     ]
    },
    {
     "name": "stdout",
     "output_type": "stream",
     "text": [
      "done 364.\n",
      "result differs on id=364, output=Cornea Infection | Eye redness, pain or discomfort, blurred or decreased vision, increased, expected=Eye redness, pain or discomfort, blurred or decreased vision, increased sensitivity to light\n",
      "predicting 365 ...\n"
     ]
    },
    {
     "name": "stderr",
     "output_type": "stream",
     "text": [
      "The attention mask and the pad token id were not set. As a consequence, you may observe unexpected behavior. Please pass your input's `attention_mask` to obtain reliable results.\n",
      "Setting `pad_token_id` to `eos_token_id`:50256 for open-end generation.\n"
     ]
    },
    {
     "name": "stdout",
     "output_type": "stream",
     "text": [
      "done 365.\n",
      "result differs on id=365, output=Abscess of the Lung | Frequent urination, rapid breathing, chest pain or discomfort, dizz, expected=Cough with phlegm or pus, chest pain, fever, shortness of breath, fatigue\n",
      "predicting 366 ...\n"
     ]
    },
    {
     "name": "stderr",
     "output_type": "stream",
     "text": [
      "The attention mask and the pad token id were not set. As a consequence, you may observe unexpected behavior. Please pass your input's `attention_mask` to obtain reliable results.\n",
      "Setting `pad_token_id` to `eos_token_id`:50256 for open-end generation.\n"
     ]
    },
    {
     "name": "stdout",
     "output_type": "stream",
     "text": [
      "done 366.\n",
      "result differs on id=366, output=Dengue Fever | High fever, severe headache, joint and muscle pain, rash, nausea or, expected=High fever, severe headache, joint and muscle pain, rash, nausea or vomiting, bleeding tendencies\n",
      "predicting 367 ...\n"
     ]
    },
    {
     "name": "stderr",
     "output_type": "stream",
     "text": [
      "The attention mask and the pad token id were not set. As a consequence, you may observe unexpected behavior. Please pass your input's `attention_mask` to obtain reliable results.\n",
      "Setting `pad_token_id` to `eos_token_id`:50256 for open-end generation.\n"
     ]
    },
    {
     "name": "stdout",
     "output_type": "stream",
     "text": [
      "done 367.\n",
      "result differs on id=367, output=Chronic Sinusitis | Facial pain or pressure, nasal congestion, thick nasal discharge, post, expected=Facial pain or pressure, nasal congestion, thick nasal discharge, postnasal drip, cough, fatigue\n",
      "predicting 368 ...\n"
     ]
    },
    {
     "name": "stderr",
     "output_type": "stream",
     "text": [
      "The attention mask and the pad token id were not set. As a consequence, you may observe unexpected behavior. Please pass your input's `attention_mask` to obtain reliable results.\n",
      "Setting `pad_token_id` to `eos_token_id`:50256 for open-end generation.\n"
     ]
    },
    {
     "name": "stdout",
     "output_type": "stream",
     "text": [
      "done 368.\n",
      "result differs on id=368, output=Cholesteatoma | Ear pain, hearing loss, ear drainage, dizziness or vertigo, expected=Ear pain, hearing loss, ear drainage, dizziness or vertigo, tinnitus\n",
      "predicting 369 ...\n"
     ]
    },
    {
     "name": "stderr",
     "output_type": "stream",
     "text": [
      "The attention mask and the pad token id were not set. As a consequence, you may observe unexpected behavior. Please pass your input's `attention_mask` to obtain reliable results.\n",
      "Setting `pad_token_id` to `eos_token_id`:50256 for open-end generation.\n"
     ]
    },
    {
     "name": "stdout",
     "output_type": "stream",
     "text": [
      "done 369.\n",
      "result differs on id=369, output=Volvulus | Increased energy and alertness, fatigue, nausea or vomiting, expected=Abdominal pain, nausea, vomiting, bloating, constipation, bloody stool\n",
      "predicting 370 ...\n"
     ]
    },
    {
     "name": "stderr",
     "output_type": "stream",
     "text": [
      "The attention mask and the pad token id were not set. As a consequence, you may observe unexpected behavior. Please pass your input's `attention_mask` to obtain reliable results.\n",
      "Setting `pad_token_id` to `eos_token_id`:50256 for open-end generation.\n",
      "The attention mask and the pad token id were not set. As a consequence, you may observe unexpected behavior. Please pass your input's `attention_mask` to obtain reliable results.\n",
      "Setting `pad_token_id` to `eos_token_id`:50256 for open-end generation.\n"
     ]
    },
    {
     "name": "stdout",
     "output_type": "stream",
     "text": [
      "done 370.\n",
      "result differs on id=370, output=Injury to the Finger | Pain, swelling, bruising, difficulty gripping or using the finger, expected=Pain, swelling, bruising, deformity, restricted range of motion, difficulty gripping or using the finger\n",
      "predicting 371 ...\n",
      "done 371.\n",
      "result differs on id=371, output=Poisoning due to Analgesics | Nausea, vomiting, abdominal pain, liver, expected=Nausea, vomiting, abdominal pain, liver or kidney damage, dizziness, confusion, respiratory distress\n",
      "predicting 372 ...\n"
     ]
    },
    {
     "name": "stderr",
     "output_type": "stream",
     "text": [
      "The attention mask and the pad token id were not set. As a consequence, you may observe unexpected behavior. Please pass your input's `attention_mask` to obtain reliable results.\n",
      "Setting `pad_token_id` to `eos_token_id`:50256 for open-end generation.\n"
     ]
    },
    {
     "name": "stdout",
     "output_type": "stream",
     "text": [
      "done 372.\n",
      "result differs on id=372, output=Atrial Fibrillation | Irregular or rapid heartbeat, palpitations, shortness of breath, expected=Irregular or rapid heartbeat, palpitations, shortness of breath, chest pain or discomfort, dizziness or lightheadedness, fatigue\n",
      "predicting 373 ...\n"
     ]
    },
    {
     "name": "stderr",
     "output_type": "stream",
     "text": [
      "The attention mask and the pad token id were not set. As a consequence, you may observe unexpected behavior. Please pass your input's `attention_mask` to obtain reliable results.\n",
      "Setting `pad_token_id` to `eos_token_id`:50256 for open-end generation.\n"
     ]
    },
    {
     "name": "stdout",
     "output_type": "stream",
     "text": [
      "done 373.\n",
      "result differs on id=373, output=Pinworm Infection | Itching around the anus or vagina, restless sleep, irritability, anal, expected=Itching around the anus or vagina, restless sleep, irritability, anal or vaginal discharge, abdominal pain or discomfort, loss of appetite\n",
      "predicting 374 ...\n"
     ]
    },
    {
     "name": "stderr",
     "output_type": "stream",
     "text": [
      "The attention mask and the pad token id were not set. As a consequence, you may observe unexpected behavior. Please pass your input's `attention_mask` to obtain reliable results.\n",
      "Setting `pad_token_id` to `eos_token_id`:50256 for open-end generation.\n",
      "The attention mask and the pad token id were not set. As a consequence, you may observe unexpected behavior. Please pass your input's `attention_mask` to obtain reliable results.\n",
      "Setting `pad_token_id` to `eos_token_id`:50256 for open-end generation.\n"
     ]
    },
    {
     "name": "stdout",
     "output_type": "stream",
     "text": [
      "done 374.\n",
      "result differs on id=374, output=Urethral Valves | Difficulty or poor urinary stream, urinary tract infections, urinary frequency or urgency, expected=Difficulty or poor urinary stream, urinary tract infections, urinary frequency or urgency, abdominal distension, poor weight gain\n",
      "predicting 375 ...\n",
      "done 375.\n",
      "result differs on id=375, output=Migraine | Recurrent, disabling migraines, expected=Severe headaches, nausea, sensitivity to light and sound\n",
      "predicting 376 ...\n"
     ]
    },
    {
     "name": "stderr",
     "output_type": "stream",
     "text": [
      "The attention mask and the pad token id were not set. As a consequence, you may observe unexpected behavior. Please pass your input's `attention_mask` to obtain reliable results.\n",
      "Setting `pad_token_id` to `eos_token_id`:50256 for open-end generation.\n"
     ]
    },
    {
     "name": "stdout",
     "output_type": "stream",
     "text": [
      "done 376.\n",
      "result differs on id=376, output=Arthritis | Joint pain, stiffness, swelling, expected=Joint pain, stiffness, swelling\n",
      "predicting 377 ...\n"
     ]
    },
    {
     "name": "stderr",
     "output_type": "stream",
     "text": [
      "The attention mask and the pad token id were not set. As a consequence, you may observe unexpected behavior. Please pass your input's `attention_mask` to obtain reliable results.\n",
      "Setting `pad_token_id` to `eos_token_id`:50256 for open-end generation.\n",
      "The attention mask and the pad token id were not set. As a consequence, you may observe unexpected behavior. Please pass your input's `attention_mask` to obtain reliable results.\n",
      "Setting `pad_token_id` to `eos_token_id`:50256 for open-end generation.\n"
     ]
    },
    {
     "name": "stdout",
     "output_type": "stream",
     "text": [
      "done 377.\n",
      "result differs on id=377, output=Sciatica | Lower back pain, leg pain, numbness or tingling, expected=Lower back pain, leg pain, numbness or tingling\n",
      "predicting 378 ...\n",
      "done 378.\n",
      "result differs on id=378, output=Complex Regional Pain Syndrome (CRPS) | Intense burning pain, swelling, changes in skin, expected=Intense burning pain, swelling, changes in skin temperature\n",
      "predicting 379 ...\n"
     ]
    },
    {
     "name": "stderr",
     "output_type": "stream",
     "text": [
      "The attention mask and the pad token id were not set. As a consequence, you may observe unexpected behavior. Please pass your input's `attention_mask` to obtain reliable results.\n",
      "Setting `pad_token_id` to `eos_token_id`:50256 for open-end generation.\n",
      "The attention mask and the pad token id were not set. As a consequence, you may observe unexpected behavior. Please pass your input's `attention_mask` to obtain reliable results.\n",
      "Setting `pad_token_id` to `eos_token_id`:50256 for open-end generation.\n"
     ]
    },
    {
     "name": "stdout",
     "output_type": "stream",
     "text": [
      "done 379.\n",
      "result differs on id=379, output=Lupus | Joint pain, fatigue, skin rashes, expected=Joint pain, fatigue, skin rashes\n",
      "predicting 380 ...\n",
      "done 380.\n",
      "result differs on id=380, output=Endometriosis | Pelvic pain, painful periods, infertility, expected=Pelvic pain, painful periods, infertility\n",
      "predicting 381 ...\n"
     ]
    },
    {
     "name": "stderr",
     "output_type": "stream",
     "text": [
      "The attention mask and the pad token id were not set. As a consequence, you may observe unexpected behavior. Please pass your input's `attention_mask` to obtain reliable results.\n",
      "Setting `pad_token_id` to `eos_token_id`:50256 for open-end generation.\n",
      "The attention mask and the pad token id were not set. As a consequence, you may observe unexpected behavior. Please pass your input's `attention_mask` to obtain reliable results.\n",
      "Setting `pad_token_id` to `eos_token_id`:50256 for open-end generation.\n"
     ]
    },
    {
     "name": "stdout",
     "output_type": "stream",
     "text": [
      "done 381.\n",
      "result differs on id=381, output=Chronic Headache | Persistent head pain, tension in neck and shoulders, expected=Persistent head pain, tension in neck and shoulders\n",
      "predicting 382 ...\n",
      "done 382.\n",
      "result differs on id=382, output=Dry Skin | Dry, flaky skin with itching, expected=Dry, flaky skin with itching\n",
      "predicting 383 ...\n"
     ]
    },
    {
     "name": "stderr",
     "output_type": "stream",
     "text": [
      "The attention mask and the pad token id were not set. As a consequence, you may observe unexpected behavior. Please pass your input's `attention_mask` to obtain reliable results.\n",
      "Setting `pad_token_id` to `eos_token_id`:50256 for open-end generation.\n",
      "The attention mask and the pad token id were not set. As a consequence, you may observe unexpected behavior. Please pass your input's `attention_mask` to obtain reliable results.\n",
      "Setting `pad_token_id` to `eos_token_id`:50256 for open-end generation.\n"
     ]
    },
    {
     "name": "stdout",
     "output_type": "stream",
     "text": [
      "done 383.\n",
      "result differs on id=383, output=Eczema | Itchy, red, inflamed skin, rash, expected=Itchy, red, inflamed skin, rash\n",
      "predicting 384 ...\n",
      "done 384.\n",
      "result differs on id=384, output=Psoriasis | Red, scaly patches on the skin, itching, expected=Red, scaly patches on the skin, itching\n",
      "predicting 385 ...\n"
     ]
    },
    {
     "name": "stderr",
     "output_type": "stream",
     "text": [
      "The attention mask and the pad token id were not set. As a consequence, you may observe unexpected behavior. Please pass your input's `attention_mask` to obtain reliable results.\n",
      "Setting `pad_token_id` to `eos_token_id`:50256 for open-end generation.\n",
      "The attention mask and the pad token id were not set. As a consequence, you may observe unexpected behavior. Please pass your input's `attention_mask` to obtain reliable results.\n",
      "Setting `pad_token_id` to `eos_token_id`:50256 for open-end generation.\n"
     ]
    },
    {
     "name": "stdout",
     "output_type": "stream",
     "text": [
      "done 385.\n",
      "result differs on id=385, output=Scabies | Intense itching, especially at night, small blisters or bumps, expected=Intense itching, especially at night, small blisters or bumps\n",
      "predicting 386 ...\n",
      "done 386.\n",
      "result differs on id=386, output=Urticaria (Hives) | Raised, itchy welts on the skin, expected=Raised, itchy welts on the skin\n",
      "predicting 387 ...\n"
     ]
    },
    {
     "name": "stderr",
     "output_type": "stream",
     "text": [
      "The attention mask and the pad token id were not set. As a consequence, you may observe unexpected behavior. Please pass your input's `attention_mask` to obtain reliable results.\n",
      "Setting `pad_token_id` to `eos_token_id`:50256 for open-end generation.\n"
     ]
    },
    {
     "name": "stdout",
     "output_type": "stream",
     "text": [
      "done 387.\n",
      "result differs on id=387, output=Insect Bites | Red, swollen, itchy bumps, expected=Red, swollen, itchy bumps\n",
      "predicting 388 ...\n"
     ]
    },
    {
     "name": "stderr",
     "output_type": "stream",
     "text": [
      "The attention mask and the pad token id were not set. As a consequence, you may observe unexpected behavior. Please pass your input's `attention_mask` to obtain reliable results.\n",
      "Setting `pad_token_id` to `eos_token_id`:50256 for open-end generation.\n",
      "The attention mask and the pad token id were not set. As a consequence, you may observe unexpected behavior. Please pass your input's `attention_mask` to obtain reliable results.\n",
      "Setting `pad_token_id` to `eos_token_id`:50256 for open-end generation.\n"
     ]
    },
    {
     "name": "stdout",
     "output_type": "stream",
     "text": [
      "done 388.\n",
      "result differs on id=388, output=Contact Dermatitis | Itchy, red rash caused by contact with irritants or allergens, expected=Itchy, red rash caused by contact with irritants or allergens\n",
      "predicting 389 ...\n",
      "done 389.\n",
      "result differs on id=389, output=Dermatitis due to Sun Exposure | Redness, itching, rash, blistering, expected=Sunburn-like rash, redness, itching\n",
      "predicting 390 ...\n"
     ]
    },
    {
     "name": "stderr",
     "output_type": "stream",
     "text": [
      "The attention mask and the pad token id were not set. As a consequence, you may observe unexpected behavior. Please pass your input's `attention_mask` to obtain reliable results.\n",
      "Setting `pad_token_id` to `eos_token_id`:50256 for open-end generation.\n"
     ]
    },
    {
     "name": "stdout",
     "output_type": "stream",
     "text": [
      "done 390.\n",
      "result differs on id=390, output=Parasitic Infections | Intense itching, visible lice or nits in the affected area, expected=Intense itching, visible lice or nits in the affected area\n",
      "predicting 391 ...\n"
     ]
    },
    {
     "name": "stderr",
     "output_type": "stream",
     "text": [
      "The attention mask and the pad token id were not set. As a consequence, you may observe unexpected behavior. Please pass your input's `attention_mask` to obtain reliable results.\n",
      "Setting `pad_token_id` to `eos_token_id`:50256 for open-end generation.\n",
      "The attention mask and the pad token id were not set. As a consequence, you may observe unexpected behavior. Please pass your input's `attention_mask` to obtain reliable results.\n",
      "Setting `pad_token_id` to `eos_token_id`:50256 for open-end generation.\n"
     ]
    },
    {
     "name": "stdout",
     "output_type": "stream",
     "text": [
      "done 391.\n",
      "result differs on id=391, output=Influenza (Flu) | High fever, body aches, fatigue, cough, sore, expected=High fever, body aches, fatigue, cough, sore throat, congestion\n",
      "predicting 392 ...\n",
      "done 392.\n",
      "result differs on id=392, output=Urinary Tract Infection (UTI) | Frequent urination, burning sensation during physical, expected=Frequent urination, burning sensation during urination, cloudy or bloody urine, pelvic pain\n",
      "predicting 393 ...\n"
     ]
    },
    {
     "name": "stderr",
     "output_type": "stream",
     "text": [
      "The attention mask and the pad token id were not set. As a consequence, you may observe unexpected behavior. Please pass your input's `attention_mask` to obtain reliable results.\n",
      "Setting `pad_token_id` to `eos_token_id`:50256 for open-end generation.\n",
      "The attention mask and the pad token id were not set. As a consequence, you may observe unexpected behavior. Please pass your input's `attention_mask` to obtain reliable results.\n",
      "Setting `pad_token_id` to `eos_token_id`:50256 for open-end generation.\n"
     ]
    },
    {
     "name": "stdout",
     "output_type": "stream",
     "text": [
      "done 393.\n",
      "result differs on id=393, output=Bronchitis | Itchy, red rash caused by contact with irritants or allergens, expected=Persistent cough with yellow or green mucus, chest congestion, fatigue\n",
      "predicting 394 ...\n",
      "done 394.\n",
      "result differs on id=394, output=Gastroenteritis (Stomach Flu) | Nausea, vomiting, diarrhea, abdominal, expected=Nausea, vomiting, diarrhea, abdominal pain or cramps, fever\n",
      "predicting 395 ...\n"
     ]
    },
    {
     "name": "stderr",
     "output_type": "stream",
     "text": [
      "The attention mask and the pad token id were not set. As a consequence, you may observe unexpected behavior. Please pass your input's `attention_mask` to obtain reliable results.\n",
      "Setting `pad_token_id` to `eos_token_id`:50256 for open-end generation.\n"
     ]
    },
    {
     "name": "stdout",
     "output_type": "stream",
     "text": [
      "done 395.\n",
      "result differs on id=395, output=Urinary Stones (Kidney Stones) | Severe abdominal or back pain, blood in urine,, expected=Severe abdominal or back pain, blood in urine, frequent urination, pain during urination\n",
      "predicting 396 ...\n"
     ]
    },
    {
     "name": "stderr",
     "output_type": "stream",
     "text": [
      "The attention mask and the pad token id were not set. As a consequence, you may observe unexpected behavior. Please pass your input's `attention_mask` to obtain reliable results.\n",
      "Setting `pad_token_id` to `eos_token_id`:50256 for open-end generation.\n"
     ]
    },
    {
     "name": "stdout",
     "output_type": "stream",
     "text": [
      "done 396.\n",
      "result differs on id=396, output=Osteoporosis | Fragile bones, loss of height over time, back pain, fractures, expected=Fragile bones, loss of height over time, back pain, fractures\n",
      "predicting 397 ...\n"
     ]
    },
    {
     "name": "stderr",
     "output_type": "stream",
     "text": [
      "The attention mask and the pad token id were not set. As a consequence, you may observe unexpected behavior. Please pass your input's `attention_mask` to obtain reliable results.\n",
      "Setting `pad_token_id` to `eos_token_id`:50256 for open-end generation.\n",
      "The attention mask and the pad token id were not set. As a consequence, you may observe unexpected behavior. Please pass your input's `attention_mask` to obtain reliable results.\n",
      "Setting `pad_token_id` to `eos_token_id`:50256 for open-end generation.\n"
     ]
    },
    {
     "name": "stdout",
     "output_type": "stream",
     "text": [
      "done 397.\n",
      "result differs on id=397, output=Rheumatoid Arthritis | Joint pain, swelling, stiffness, limited range of motion, fever, expected=Joint pain, stiffness, swelling, fatigue, loss of appetite\n",
      "predicting 398 ...\n",
      "done 398.\n",
      "result differs on id=398, output=Type 1 Diabetes | Frequent urination, Increased thirst, Weight loss, expected=Frequent urination, Increased thirst, Weight loss\n",
      "predicting 399 ...\n",
      "done 399.\n",
      "result differs on id=399, output=Type 2 Diabetes | Frequent urination, Increased thirst, Weight loss, expected=Fatigue, Increased hunger, Slow healing of wounds\n"
     ]
    }
   ],
   "source": [
    "# Test tuned GPT2 model\n",
    "count = 0\n",
    "for item in data_sample['train']:\n",
    "    input_str = item['Name']\n",
    "    input_ids = base_tokenizer.encode(input_str, return_tensors='pt').to(device) \n",
    "    print(f\"predicting {count} ...\")\n",
    "    output = tune_model.generate( input_ids, max_length=20, num_return_sequences=1, \\\n",
    "                        do_sample=True, top_k=8, top_p=0.95, temperature=0.5, repetition_penalty=1.2 ) \n",
    "    print(f\"done {count}.\")\n",
    "    decoded_output = base_tokenizer.decode(output[0], skip_special_tokens=True) \n",
    "    if decoded_output != item['Symptoms']:\n",
    "        print(f\"result differs on id={count}, output={decoded_output}, expected={item['Symptoms']}\")\n",
    "    count += 1\n",
    "   "
   ]
  },
  {
   "cell_type": "code",
   "execution_count": 13,
   "id": "57bf3aeb-8a91-4c80-9f21-f063f22aef7a",
   "metadata": {},
   "outputs": [],
   "source": [
    "# for item in data_sample['train']:\n",
    "#     print(item['Name'] + ' --  ' + item['Symptoms'])"
   ]
  },
  {
   "cell_type": "code",
   "execution_count": null,
   "id": "19e6a747-44c1-4af8-ac13-af311564b799",
   "metadata": {},
   "outputs": [],
   "source": []
  }
 ],
 "metadata": {
  "kernelspec": {
   "display_name": "Python 3 (ipykernel)",
   "language": "python",
   "name": "python3"
  },
  "language_info": {
   "codemirror_mode": {
    "name": "ipython",
    "version": 3
   },
   "file_extension": ".py",
   "mimetype": "text/x-python",
   "name": "python",
   "nbconvert_exporter": "python",
   "pygments_lexer": "ipython3",
   "version": "3.10.10"
  }
 },
 "nbformat": 4,
 "nbformat_minor": 5
}
