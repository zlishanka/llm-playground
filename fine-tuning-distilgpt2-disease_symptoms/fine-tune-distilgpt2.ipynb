{
 "cells": [
  {
   "cell_type": "code",
   "execution_count": 1,
   "id": "4d80cd4b-246f-48b7-a5fe-014e2a2391b3",
   "metadata": {},
   "outputs": [
    {
     "data": {
      "application/vnd.jupyter.widget-view+json": {
       "model_id": "df1f313f44c7449aaf9d7626664cf021",
       "version_major": 2,
       "version_minor": 0
      },
      "text/plain": [
       "Downloading readme:   0%|          | 0.00/381 [00:00<?, ?B/s]"
      ]
     },
     "metadata": {},
     "output_type": "display_data"
    },
    {
     "name": "stderr",
     "output_type": "stream",
     "text": [
      "/Users/royzheng/workArea/workspace/llm-playground/env/lib/python3.10/site-packages/huggingface_hub/repocard.py:105: UserWarning: Repo card metadata block was not found. Setting CardData to empty.\n",
      "  warnings.warn(\"Repo card metadata block was not found. Setting CardData to empty.\")\n"
     ]
    },
    {
     "data": {
      "application/vnd.jupyter.widget-view+json": {
       "model_id": "6d36d7edadde4c56bb20e14551ac57f4",
       "version_major": 2,
       "version_minor": 0
      },
      "text/plain": [
       "Downloading data:   0%|          | 0.00/107k [00:00<?, ?B/s]"
      ]
     },
     "metadata": {},
     "output_type": "display_data"
    },
    {
     "data": {
      "application/vnd.jupyter.widget-view+json": {
       "model_id": "962ada22d69f4bf4a96ce50766175bf1",
       "version_major": 2,
       "version_minor": 0
      },
      "text/plain": [
       "Generating train split: 0 examples [00:00, ? examples/s]"
      ]
     },
     "metadata": {},
     "output_type": "display_data"
    },
    {
     "name": "stderr",
     "output_type": "stream",
     "text": [
      "/Users/royzheng/workArea/workspace/llm-playground/env/lib/python3.10/site-packages/datasets/download/streaming_download_manager.py:778: FutureWarning: The 'verbose' keyword in pd.read_csv is deprecated and will be removed in a future version.\n",
      "  return pd.read_csv(xopen(filepath_or_buffer, \"rb\", download_config=download_config), **kwargs)\n"
     ]
    }
   ],
   "source": [
    "import os\n",
    "from dotenv import load_dotenv\n",
    "from datasets import load_dataset, DatasetDict, Dataset \n",
    "import pandas as pd \n",
    "import ast \n",
    "import datasets \n",
    "from tqdm import tqdm \n",
    "import time\n",
    "\n",
    "load_dotenv()\n",
    "access_token = os.getenv(\"ACCESS_TOKEN\")\n",
    "\n",
    "# Load data set from huggingface \n",
    "data_sample = load_dataset(\"QuyenAnhDE/Diseases_Symptoms\")"
   ]
  },
  {
   "cell_type": "code",
   "execution_count": 2,
   "id": "f9affba9-c3f8-4df9-bab1-6273274fed4e",
   "metadata": {},
   "outputs": [
    {
     "data": {
      "text/plain": [
       "DatasetDict({\n",
       "    train: Dataset({\n",
       "        features: ['Code', 'Name', 'Symptoms', 'Treatments'],\n",
       "        num_rows: 400\n",
       "    })\n",
       "})"
      ]
     },
     "execution_count": 2,
     "metadata": {},
     "output_type": "execute_result"
    }
   ],
   "source": [
    "data_sample"
   ]
  },
  {
   "cell_type": "code",
   "execution_count": 3,
   "id": "bd65c44c-a9ac-4a97-92d7-ae80147d1437",
   "metadata": {},
   "outputs": [
    {
     "data": {
      "text/html": [
       "<div>\n",
       "<style scoped>\n",
       "    .dataframe tbody tr th:only-of-type {\n",
       "        vertical-align: middle;\n",
       "    }\n",
       "\n",
       "    .dataframe tbody tr th {\n",
       "        vertical-align: top;\n",
       "    }\n",
       "\n",
       "    .dataframe thead th {\n",
       "        text-align: right;\n",
       "    }\n",
       "</style>\n",
       "<table border=\"1\" class=\"dataframe\">\n",
       "  <thead>\n",
       "    <tr style=\"text-align: right;\">\n",
       "      <th></th>\n",
       "      <th>Name</th>\n",
       "      <th>Symptoms</th>\n",
       "    </tr>\n",
       "  </thead>\n",
       "  <tbody>\n",
       "    <tr>\n",
       "      <th>0</th>\n",
       "      <td>Panic disorder</td>\n",
       "      <td>Palpitations, Sweating, Trembling, Shortness o...</td>\n",
       "    </tr>\n",
       "    <tr>\n",
       "      <th>1</th>\n",
       "      <td>Vocal cord polyp</td>\n",
       "      <td>Hoarseness, Vocal Changes, Vocal Fatigue</td>\n",
       "    </tr>\n",
       "    <tr>\n",
       "      <th>2</th>\n",
       "      <td>Turner syndrome</td>\n",
       "      <td>Short stature, Gonadal dysgenesis, Webbed neck...</td>\n",
       "    </tr>\n",
       "    <tr>\n",
       "      <th>3</th>\n",
       "      <td>Cryptorchidism</td>\n",
       "      <td>Absence or undescended testicle(s), empty scro...</td>\n",
       "    </tr>\n",
       "    <tr>\n",
       "      <th>4</th>\n",
       "      <td>Ethylene glycol poisoning-1</td>\n",
       "      <td>Nausea, vomiting, abdominal pain, General mala...</td>\n",
       "    </tr>\n",
       "  </tbody>\n",
       "</table>\n",
       "</div>"
      ],
      "text/plain": [
       "                          Name  \\\n",
       "0               Panic disorder   \n",
       "1             Vocal cord polyp   \n",
       "2              Turner syndrome   \n",
       "3               Cryptorchidism   \n",
       "4  Ethylene glycol poisoning-1   \n",
       "\n",
       "                                            Symptoms  \n",
       "0  Palpitations, Sweating, Trembling, Shortness o...  \n",
       "1           Hoarseness, Vocal Changes, Vocal Fatigue  \n",
       "2  Short stature, Gonadal dysgenesis, Webbed neck...  \n",
       "3  Absence or undescended testicle(s), empty scro...  \n",
       "4  Nausea, vomiting, abdominal pain, General mala...  "
      ]
     },
     "execution_count": 3,
     "metadata": {},
     "output_type": "execute_result"
    }
   ],
   "source": [
    "# Convert to a pandas dataframe \n",
    "updated_data = [{'Name': item['Name'], 'Symptoms': item['Symptoms']} for item in data_sample['train']] \n",
    "df = pd.DataFrame(updated_data)\n",
    "df.head(5)"
   ]
  },
  {
   "cell_type": "code",
   "execution_count": 4,
   "id": "4d565412-5cf3-4e69-badd-0dc4bdde8a1b",
   "metadata": {},
   "outputs": [
    {
     "data": {
      "text/html": [
       "<div>\n",
       "<style scoped>\n",
       "    .dataframe tbody tr th:only-of-type {\n",
       "        vertical-align: middle;\n",
       "    }\n",
       "\n",
       "    .dataframe tbody tr th {\n",
       "        vertical-align: top;\n",
       "    }\n",
       "\n",
       "    .dataframe thead th {\n",
       "        text-align: right;\n",
       "    }\n",
       "</style>\n",
       "<table border=\"1\" class=\"dataframe\">\n",
       "  <thead>\n",
       "    <tr style=\"text-align: right;\">\n",
       "      <th></th>\n",
       "      <th>Name</th>\n",
       "      <th>Symptoms</th>\n",
       "    </tr>\n",
       "  </thead>\n",
       "  <tbody>\n",
       "    <tr>\n",
       "      <th>0</th>\n",
       "      <td>Panic disorder</td>\n",
       "      <td>Palpitations, Sweating, Trembling, Shortness o...</td>\n",
       "    </tr>\n",
       "    <tr>\n",
       "      <th>1</th>\n",
       "      <td>Vocal cord polyp</td>\n",
       "      <td>Hoarseness, Vocal Changes, Vocal Fatigue</td>\n",
       "    </tr>\n",
       "    <tr>\n",
       "      <th>2</th>\n",
       "      <td>Turner syndrome</td>\n",
       "      <td>Short stature, Gonadal dysgenesis, Webbed neck...</td>\n",
       "    </tr>\n",
       "    <tr>\n",
       "      <th>3</th>\n",
       "      <td>Cryptorchidism</td>\n",
       "      <td>Absence or undescended testicle(s), empty scro...</td>\n",
       "    </tr>\n",
       "    <tr>\n",
       "      <th>4</th>\n",
       "      <td>Ethylene glycol poisoning-1</td>\n",
       "      <td>Nausea, vomiting, abdominal pain, General mala...</td>\n",
       "    </tr>\n",
       "  </tbody>\n",
       "</table>\n",
       "</div>"
      ],
      "text/plain": [
       "                          Name  \\\n",
       "0               Panic disorder   \n",
       "1             Vocal cord polyp   \n",
       "2              Turner syndrome   \n",
       "3               Cryptorchidism   \n",
       "4  Ethylene glycol poisoning-1   \n",
       "\n",
       "                                            Symptoms  \n",
       "0  Palpitations, Sweating, Trembling, Shortness o...  \n",
       "1           Hoarseness, Vocal Changes, Vocal Fatigue  \n",
       "2  Short stature, Gonadal dysgenesis, Webbed neck...  \n",
       "3  Absence or undescended testicle(s), empty scro...  \n",
       "4  Nausea, vomiting, abdominal pain, General mala...  "
      ]
     },
     "metadata": {},
     "output_type": "display_data"
    }
   ],
   "source": [
    "# Just extract the Symptoms \n",
    "df['Symptoms'] = df['Symptoms'].apply(lambda x: ', '.join(x.split(', '))) \n",
    "display(df.head())"
   ]
  },
  {
   "cell_type": "code",
   "execution_count": 5,
   "id": "96844e2d-65ef-4586-82a3-5f19b0846514",
   "metadata": {},
   "outputs": [],
   "source": [
    "from transformers import GPT2Tokenizer, GPT2LMHeadModel \n",
    "import torch \n",
    "import torch.nn as nn \n",
    "import torch.optim as optim \n",
    "from torch.utils.data import Dataset, DataLoader, random_split"
   ]
  },
  {
   "cell_type": "code",
   "execution_count": 6,
   "id": "411245e4-b513-4362-a6f5-2961cdc4742c",
   "metadata": {},
   "outputs": [],
   "source": [
    "# If you have an NVIDIA GPU attached, use 'cuda' \n",
    "if torch.cuda.is_available(): \n",
    "    device = torch.device('cuda') \n",
    "else: # If Apple Silicon, set to 'mps' - otherwise 'cpu' (not advised) \n",
    "    try: \n",
    "        device = torch.device('mps') \n",
    "    except Exception: \n",
    "        device = torch.device('cpu')"
   ]
  },
  {
   "cell_type": "code",
   "execution_count": 7,
   "id": "50a447ad-c597-4e1c-bde1-cc96b741967e",
   "metadata": {},
   "outputs": [
    {
     "data": {
      "text/plain": [
       "device(type='mps')"
      ]
     },
     "execution_count": 7,
     "metadata": {},
     "output_type": "execute_result"
    }
   ],
   "source": [
    "device"
   ]
  },
  {
   "cell_type": "code",
   "execution_count": 8,
   "id": "68ad4f5f-18f4-4d5e-807a-249163e6728c",
   "metadata": {},
   "outputs": [
    {
     "data": {
      "application/vnd.jupyter.widget-view+json": {
       "model_id": "278fadda3ee14cac87a2963a96e0e50b",
       "version_major": 2,
       "version_minor": 0
      },
      "text/plain": [
       "vocab.json:   0%|          | 0.00/1.04M [00:00<?, ?B/s]"
      ]
     },
     "metadata": {},
     "output_type": "display_data"
    },
    {
     "data": {
      "application/vnd.jupyter.widget-view+json": {
       "model_id": "c13512cb1d444cff947710c844b72275",
       "version_major": 2,
       "version_minor": 0
      },
      "text/plain": [
       "merges.txt:   0%|          | 0.00/456k [00:00<?, ?B/s]"
      ]
     },
     "metadata": {},
     "output_type": "display_data"
    },
    {
     "data": {
      "application/vnd.jupyter.widget-view+json": {
       "model_id": "f3614082c6554f59809e811b5e7e4d37",
       "version_major": 2,
       "version_minor": 0
      },
      "text/plain": [
       "tokenizer.json:   0%|          | 0.00/1.36M [00:00<?, ?B/s]"
      ]
     },
     "metadata": {},
     "output_type": "display_data"
    },
    {
     "data": {
      "application/vnd.jupyter.widget-view+json": {
       "model_id": "25b4410569ff4a008a1e76a926d611ac",
       "version_major": 2,
       "version_minor": 0
      },
      "text/plain": [
       "config.json:   0%|          | 0.00/762 [00:00<?, ?B/s]"
      ]
     },
     "metadata": {},
     "output_type": "display_data"
    },
    {
     "data": {
      "application/vnd.jupyter.widget-view+json": {
       "model_id": "e0d4c11f672f4e40a848e042526b38e5",
       "version_major": 2,
       "version_minor": 0
      },
      "text/plain": [
       "model.safetensors:   0%|          | 0.00/353M [00:00<?, ?B/s]"
      ]
     },
     "metadata": {},
     "output_type": "display_data"
    },
    {
     "data": {
      "application/vnd.jupyter.widget-view+json": {
       "model_id": "011189ad1f884c30b632f1f77cc28448",
       "version_major": 2,
       "version_minor": 0
      },
      "text/plain": [
       "generation_config.json:   0%|          | 0.00/124 [00:00<?, ?B/s]"
      ]
     },
     "metadata": {},
     "output_type": "display_data"
    }
   ],
   "source": [
    "# The tokenizer turns texts to numbers (and vice-versa) \n",
    "tokenizer = GPT2Tokenizer.from_pretrained('distilgpt2') \n",
    "# The transformer \n",
    "model = GPT2LMHeadModel.from_pretrained('distilgpt2').to(device)"
   ]
  },
  {
   "cell_type": "code",
   "execution_count": 9,
   "id": "c143f7dc-7d9d-41f8-8e9d-00b559ba8f09",
   "metadata": {},
   "outputs": [
    {
     "data": {
      "text/plain": [
       "GPT2LMHeadModel(\n",
       "  (transformer): GPT2Model(\n",
       "    (wte): Embedding(50257, 768)\n",
       "    (wpe): Embedding(1024, 768)\n",
       "    (drop): Dropout(p=0.1, inplace=False)\n",
       "    (h): ModuleList(\n",
       "      (0-5): 6 x GPT2Block(\n",
       "        (ln_1): LayerNorm((768,), eps=1e-05, elementwise_affine=True)\n",
       "        (attn): GPT2Attention(\n",
       "          (c_attn): Conv1D()\n",
       "          (c_proj): Conv1D()\n",
       "          (attn_dropout): Dropout(p=0.1, inplace=False)\n",
       "          (resid_dropout): Dropout(p=0.1, inplace=False)\n",
       "        )\n",
       "        (ln_2): LayerNorm((768,), eps=1e-05, elementwise_affine=True)\n",
       "        (mlp): GPT2MLP(\n",
       "          (c_fc): Conv1D()\n",
       "          (c_proj): Conv1D()\n",
       "          (act): NewGELUActivation()\n",
       "          (dropout): Dropout(p=0.1, inplace=False)\n",
       "        )\n",
       "      )\n",
       "    )\n",
       "    (ln_f): LayerNorm((768,), eps=1e-05, elementwise_affine=True)\n",
       "  )\n",
       "  (lm_head): Linear(in_features=768, out_features=50257, bias=False)\n",
       ")"
      ]
     },
     "execution_count": 9,
     "metadata": {},
     "output_type": "execute_result"
    }
   ],
   "source": [
    "model"
   ]
  },
  {
   "cell_type": "code",
   "execution_count": 10,
   "id": "0eeb4da3-fea4-497d-bd97-88f42e27075c",
   "metadata": {},
   "outputs": [],
   "source": [
    "# Model params \n",
    "BATCH_SIZE = 8"
   ]
  },
  {
   "cell_type": "code",
   "execution_count": 11,
   "id": "141248d7-5750-4490-913f-133bc74c7154",
   "metadata": {},
   "outputs": [
    {
     "data": {
      "text/html": [
       "<div>\n",
       "<style scoped>\n",
       "    .dataframe tbody tr th:only-of-type {\n",
       "        vertical-align: middle;\n",
       "    }\n",
       "\n",
       "    .dataframe tbody tr th {\n",
       "        vertical-align: top;\n",
       "    }\n",
       "\n",
       "    .dataframe thead th {\n",
       "        text-align: right;\n",
       "    }\n",
       "</style>\n",
       "<table border=\"1\" class=\"dataframe\">\n",
       "  <thead>\n",
       "    <tr style=\"text-align: right;\">\n",
       "      <th></th>\n",
       "      <th>Name</th>\n",
       "      <th>Symptoms</th>\n",
       "    </tr>\n",
       "  </thead>\n",
       "  <tbody>\n",
       "    <tr>\n",
       "      <th>count</th>\n",
       "      <td>400</td>\n",
       "      <td>400</td>\n",
       "    </tr>\n",
       "    <tr>\n",
       "      <th>unique</th>\n",
       "      <td>392</td>\n",
       "      <td>395</td>\n",
       "    </tr>\n",
       "    <tr>\n",
       "      <th>top</th>\n",
       "      <td>Sciatica</td>\n",
       "      <td>Swelling, pain, dry mouth, bad taste</td>\n",
       "    </tr>\n",
       "    <tr>\n",
       "      <th>freq</th>\n",
       "      <td>3</td>\n",
       "      <td>3</td>\n",
       "    </tr>\n",
       "  </tbody>\n",
       "</table>\n",
       "</div>"
      ],
      "text/plain": [
       "            Name                              Symptoms\n",
       "count        400                                   400\n",
       "unique       392                                   395\n",
       "top     Sciatica  Swelling, pain, dry mouth, bad taste\n",
       "freq           3                                     3"
      ]
     },
     "execution_count": 11,
     "metadata": {},
     "output_type": "execute_result"
    }
   ],
   "source": [
    "df.describe()"
   ]
  },
  {
   "cell_type": "code",
   "execution_count": 13,
   "id": "45d8f3be-b181-442f-9d6c-d51c5ca5f715",
   "metadata": {},
   "outputs": [],
   "source": [
    "# Dataset Prep \n",
    "class LanguageDataset(Dataset): \n",
    "    \"\"\" An extension of the Dataset object to: - Make training loop cleaner - Make ingestion easier from pandas df's \"\"\" \n",
    "    def __init__(self, df, tokenizer): \n",
    "        self.labels = df.columns \n",
    "        self.data = df.to_dict(orient='records') \n",
    "        self.tokenizer = tokenizer \n",
    "        x = self.fittest_max_length(df) \n",
    "        # Fix here \n",
    "        self.max_length = x\n",
    "        \n",
    "    def __len__(self): \n",
    "        return len(self.data) \n",
    "    \n",
    "    def __getitem__(self, idx): \n",
    "        x = self.data[idx][self.labels[0]] \n",
    "        y = self.data[idx][self.labels[1]] \n",
    "        text = f\"{x} | {y}\" \n",
    "        tokens = self.tokenizer.encode_plus(text, return_tensors='pt', max_length=128, padding='max_length', truncation=True) \n",
    "        return tokens \n",
    "    \n",
    "    def fittest_max_length(self, df): \n",
    "        # Fix here \"\"\" Smallest power of two larger than the longest term in the data set. Important to set up max length to speed training time. \"\"\" \n",
    "        max_length = max(len(max(df[self.labels[0]], key=len)), len(max(df[self.labels[1]], key=len))) \n",
    "        x = 2 \n",
    "        while x < max_length: \n",
    "            x = x * 2 \n",
    "            return x \n",
    "\n",
    "# Cast the Huggingface data set as a LanguageDataset we defined above \n",
    "data_sample = LanguageDataset(df, tokenizer)"
   ]
  },
  {
   "cell_type": "code",
   "execution_count": 15,
   "id": "d6c373a0-e1f8-4f73-9bf3-9b7f7943a990",
   "metadata": {},
   "outputs": [
    {
     "data": {
      "text/plain": [
       "400"
      ]
     },
     "execution_count": 15,
     "metadata": {},
     "output_type": "execute_result"
    }
   ],
   "source": [
    "len(data_sample)"
   ]
  },
  {
   "cell_type": "code",
   "execution_count": 16,
   "id": "16629d9d-62d9-4aef-903b-a77395a594d1",
   "metadata": {},
   "outputs": [],
   "source": [
    "# Create train, valid \n",
    "train_size = int(0.8 * len(data_sample)) \n",
    "valid_size = len(data_sample) - train_size \n",
    "train_data, valid_data = random_split(data_sample, [train_size, valid_size])"
   ]
  },
  {
   "cell_type": "code",
   "execution_count": 17,
   "id": "3a0d0537-ef39-4564-b894-02bdd9f0864d",
   "metadata": {},
   "outputs": [],
   "source": [
    "# Make the iterators \n",
    "train_loader = DataLoader(train_data, batch_size=BATCH_SIZE, shuffle=True) \n",
    "valid_loader = DataLoader(valid_data, batch_size=BATCH_SIZE)"
   ]
  },
  {
   "cell_type": "code",
   "execution_count": 18,
   "id": "a0e08cb8-fb01-4376-9574-3d15c94f1bbd",
   "metadata": {},
   "outputs": [],
   "source": [
    "# Set the number of epochs \n",
    "num_epochs = 10"
   ]
  },
  {
   "cell_type": "code",
   "execution_count": 19,
   "id": "2dadc01a-7798-410c-b7de-65a308a0b67b",
   "metadata": {},
   "outputs": [],
   "source": [
    "# Training parameters \n",
    "batch_size = BATCH_SIZE \n",
    "model_name = 'distilgpt2' \n",
    "gpu = 0"
   ]
  },
  {
   "cell_type": "code",
   "execution_count": 20,
   "id": "705b8e10-a769-4603-8598-f4ecd41059b9",
   "metadata": {},
   "outputs": [],
   "source": [
    "# Set the learning rate and loss function \n",
    "## CrossEntropyLoss measures how close answers to the truth. \n",
    "## More punishing for high confidence wrong answers \n",
    "criterion = nn.CrossEntropyLoss(ignore_index = tokenizer.pad_token_id) \n",
    "optimizer = optim.Adam(model.parameters(), lr=5e-4) \n",
    "tokenizer.pad_token = tokenizer.eos_token"
   ]
  },
  {
   "cell_type": "code",
   "execution_count": 21,
   "id": "517faa30-36e7-4ff0-92eb-a8cd37b66647",
   "metadata": {},
   "outputs": [],
   "source": [
    "# Init a results dataframe \n",
    "results = pd.DataFrame(columns=['epoch', 'transformer', 'batch_size', 'gpu', 'training_loss', 'validation_loss', 'epoch_duration_sec'])"
   ]
  },
  {
   "cell_type": "code",
   "execution_count": 26,
   "id": "928075f7-a201-4e5e-a01b-f6c59c4990bc",
   "metadata": {},
   "outputs": [
    {
     "name": "stderr",
     "output_type": "stream",
     "text": [
      "Training Epoch 1/10 Batch Size: 8, Transformer: distilgpt2: 100%|█████████████████████████████████████████████████████████████████████| 40/40 [00:23<00:00,  1.69it/s, Training Loss=0.128]\n",
      "Validation Epoch 1/10: 100%|████████████████████████████████████████████████████████████████████████████████████████████████████████| 10/10 [00:01<00:00,  7.46it/s, Validation Loss=0.834]\n"
     ]
    },
    {
     "name": "stdout",
     "output_type": "stream",
     "text": [
      "Epoch: 1, Validation Loss: 0.8908479809761047\n"
     ]
    },
    {
     "name": "stderr",
     "output_type": "stream",
     "text": [
      "Training Epoch 2/10 Batch Size: 8, Transformer: distilgpt2: 100%|████████████████████████████████████████████████████████████████████| 40/40 [00:23<00:00,  1.68it/s, Training Loss=0.0797]\n",
      "Validation Epoch 2/10: 100%|████████████████████████████████████████████████████████████████████████████████████████████████████████| 10/10 [00:01<00:00,  7.01it/s, Validation Loss=0.853]\n"
     ]
    },
    {
     "name": "stdout",
     "output_type": "stream",
     "text": [
      "Epoch: 2, Validation Loss: 0.9306161999702454\n"
     ]
    },
    {
     "name": "stderr",
     "output_type": "stream",
     "text": [
      "Training Epoch 3/10 Batch Size: 8, Transformer: distilgpt2: 100%|████████████████████████████████████████████████████████████████████| 40/40 [00:23<00:00,  1.72it/s, Training Loss=0.0589]\n",
      "Validation Epoch 3/10: 100%|████████████████████████████████████████████████████████████████████████████████████████████████████████| 10/10 [00:01<00:00,  7.48it/s, Validation Loss=0.884]\n"
     ]
    },
    {
     "name": "stdout",
     "output_type": "stream",
     "text": [
      "Epoch: 3, Validation Loss: 0.9611042737960815\n"
     ]
    },
    {
     "name": "stderr",
     "output_type": "stream",
     "text": [
      "Training Epoch 4/10 Batch Size: 8, Transformer: distilgpt2: 100%|████████████████████████████████████████████████████████████████████| 40/40 [00:23<00:00,  1.72it/s, Training Loss=0.0623]\n",
      "Validation Epoch 4/10: 100%|████████████████████████████████████████████████████████████████████████████████████████████████████████| 10/10 [00:01<00:00,  7.47it/s, Validation Loss=0.866]\n"
     ]
    },
    {
     "name": "stdout",
     "output_type": "stream",
     "text": [
      "Epoch: 4, Validation Loss: 0.9501286745071411\n"
     ]
    },
    {
     "name": "stderr",
     "output_type": "stream",
     "text": [
      "Training Epoch 5/10 Batch Size: 8, Transformer: distilgpt2: 100%|████████████████████████████████████████████████████████████████████| 40/40 [00:23<00:00,  1.73it/s, Training Loss=0.0866]\n",
      "Validation Epoch 5/10: 100%|█████████████████████████████████████████████████████████████████████████████████████████████████████████| 10/10 [00:01<00:00,  7.47it/s, Validation Loss=0.91]\n"
     ]
    },
    {
     "name": "stdout",
     "output_type": "stream",
     "text": [
      "Epoch: 5, Validation Loss: 0.9856120944023132\n"
     ]
    },
    {
     "name": "stderr",
     "output_type": "stream",
     "text": [
      "Training Epoch 6/10 Batch Size: 8, Transformer: distilgpt2: 100%|████████████████████████████████████████████████████████████████████| 40/40 [00:23<00:00,  1.72it/s, Training Loss=0.0879]\n",
      "Validation Epoch 6/10: 100%|████████████████████████████████████████████████████████████████████████████████████████████████████████| 10/10 [00:01<00:00,  7.47it/s, Validation Loss=0.914]\n"
     ]
    },
    {
     "name": "stdout",
     "output_type": "stream",
     "text": [
      "Epoch: 6, Validation Loss: 0.9954801797866821\n"
     ]
    },
    {
     "name": "stderr",
     "output_type": "stream",
     "text": [
      "Training Epoch 7/10 Batch Size: 8, Transformer: distilgpt2: 100%|████████████████████████████████████████████████████████████████████| 40/40 [00:23<00:00,  1.73it/s, Training Loss=0.0316]\n",
      "Validation Epoch 7/10: 100%|████████████████████████████████████████████████████████████████████████████████████████████████████████| 10/10 [00:01<00:00,  7.47it/s, Validation Loss=0.952]\n"
     ]
    },
    {
     "name": "stdout",
     "output_type": "stream",
     "text": [
      "Epoch: 7, Validation Loss: 1.0025545358657837\n"
     ]
    },
    {
     "name": "stderr",
     "output_type": "stream",
     "text": [
      "Training Epoch 8/10 Batch Size: 8, Transformer: distilgpt2: 100%|████████████████████████████████████████████████████████████████████| 40/40 [00:23<00:00,  1.72it/s, Training Loss=0.0515]\n",
      "Validation Epoch 8/10: 100%|█████████████████████████████████████████████████████████████████████████████████████████████████████████| 10/10 [00:01<00:00,  7.45it/s, Validation Loss=0.94]\n"
     ]
    },
    {
     "name": "stdout",
     "output_type": "stream",
     "text": [
      "Epoch: 8, Validation Loss: 1.018175721168518\n"
     ]
    },
    {
     "name": "stderr",
     "output_type": "stream",
     "text": [
      "Training Epoch 9/10 Batch Size: 8, Transformer: distilgpt2: 100%|████████████████████████████████████████████████████████████████████| 40/40 [00:23<00:00,  1.72it/s, Training Loss=0.0553]\n",
      "Validation Epoch 9/10: 100%|████████████████████████████████████████████████████████████████████████████████████████████████████████| 10/10 [00:01<00:00,  7.46it/s, Validation Loss=0.876]\n"
     ]
    },
    {
     "name": "stdout",
     "output_type": "stream",
     "text": [
      "Epoch: 9, Validation Loss: 0.965999960899353\n"
     ]
    },
    {
     "name": "stderr",
     "output_type": "stream",
     "text": [
      "Training Epoch 10/10 Batch Size: 8, Transformer: distilgpt2: 100%|███████████████████████████████████████████████████████████████████| 40/40 [00:23<00:00,  1.73it/s, Training Loss=0.0375]\n",
      "Validation Epoch 10/10: 100%|███████████████████████████████████████████████████████████████████████████████████████████████████████| 10/10 [00:01<00:00,  7.47it/s, Validation Loss=0.904]"
     ]
    },
    {
     "name": "stdout",
     "output_type": "stream",
     "text": [
      "Epoch: 10, Validation Loss: 1.0026198625564575\n"
     ]
    },
    {
     "name": "stderr",
     "output_type": "stream",
     "text": [
      "\n"
     ]
    }
   ],
   "source": [
    "# The training loop \n",
    "for epoch in range(num_epochs): \n",
    "    start_time = time.time() # Start the timer for the epoch \n",
    "    \n",
    "    # Training \n",
    "    ## This line tells the model we're in 'learning mode' \n",
    "    model.train() \n",
    "    epoch_training_loss = 0 \n",
    "    train_iterator = tqdm(train_loader, desc=f\"Training Epoch {epoch+1}/{num_epochs} Batch Size: {batch_size}, Transformer: {model_name}\") \n",
    "    for batch in train_iterator: \n",
    "        optimizer.zero_grad() \n",
    "        inputs = batch['input_ids'].squeeze(1).to(device) \n",
    "        targets = inputs.clone() \n",
    "        outputs = model(input_ids=inputs, labels=targets) \n",
    "        loss = outputs.loss \n",
    "        loss.backward() \n",
    "        optimizer.step() \n",
    "        train_iterator.set_postfix({'Training Loss': loss.item()}) \n",
    "        epoch_training_loss += loss.item() \n",
    "        avg_epoch_training_loss = epoch_training_loss / len(train_iterator) \n",
    "\n",
    "    # Validation \n",
    "    ## This line below tells the model to 'stop learning' \n",
    "    model.eval() \n",
    "    epoch_validation_loss = 0 \n",
    "    total_loss = 0 \n",
    "    valid_iterator = tqdm(valid_loader, desc=f\"Validation Epoch {epoch+1}/{num_epochs}\") \n",
    "    with torch.no_grad(): \n",
    "        for batch in valid_iterator: \n",
    "            inputs = batch['input_ids'].squeeze(1).to(device) \n",
    "            targets = inputs.clone() \n",
    "            outputs = model(input_ids=inputs, labels=targets) \n",
    "            loss = outputs.loss \n",
    "            total_loss += loss \n",
    "            valid_iterator.set_postfix({'Validation Loss': loss.item()}) \n",
    "            epoch_validation_loss += loss.item() \n",
    "    \n",
    "    avg_epoch_validation_loss = epoch_validation_loss / len(valid_loader) \n",
    "    end_time = time.time() # End the timer for the epoch \n",
    "    epoch_duration_sec = end_time - start_time \n",
    "    # Calculate the duration in seconds \n",
    "    new_row = {'transformer': model_name, 'batch_size': batch_size, 'gpu': gpu, 'epoch': epoch+1, \\\n",
    "               'training_loss': avg_epoch_training_loss, 'validation_loss': avg_epoch_validation_loss, \\\n",
    "               'epoch_duration_sec': epoch_duration_sec} \n",
    "    # Add epoch_duration to the dataframe \n",
    "    results.loc[len(results)] = new_row \n",
    "    print(f\"Epoch: {epoch+1}, Validation Loss: {total_loss/len(valid_loader)}\")"
   ]
  },
  {
   "cell_type": "code",
   "execution_count": 29,
   "id": "e4285bf6-25e5-4b6b-95c3-d0c77ac3ec98",
   "metadata": {},
   "outputs": [
    {
     "name": "stderr",
     "output_type": "stream",
     "text": [
      "The attention mask and the pad token id were not set. As a consequence, you may observe unexpected behavior. Please pass your input's `attention_mask` to obtain reliable results.\n",
      "Setting `pad_token_id` to `eos_token_id`:50256 for open-end generation.\n"
     ]
    },
    {
     "name": "stdout",
     "output_type": "stream",
     "text": [
      "Fetal Alcohol Syndrome | Growth deficiencies, facial abnormalities, developmental delays, intellectual disability\n"
     ]
    }
   ],
   "source": [
    "input_str = \"Fetal Alcohol Syndrome\" \n",
    "input_ids = tokenizer.encode(input_str, return_tensors='pt').to(device) \n",
    "output = model.generate( input_ids, max_length=20, num_return_sequences=1, \\\n",
    "                        do_sample=True, top_k=8, top_p=0.95, temperature=0.5, repetition_penalty=1.2 ) \n",
    "decoded_output = tokenizer.decode(output[0], skip_special_tokens=True) \n",
    "print(decoded_output)"
   ]
  },
  {
   "cell_type": "code",
   "execution_count": 28,
   "id": "b06fe7bd-09c6-46d4-9587-df58b498330c",
   "metadata": {},
   "outputs": [],
   "source": [
    "torch.save(model, 'SmallMedLM.pt')"
   ]
  },
  {
   "cell_type": "code",
   "execution_count": 30,
   "id": "06bd6b41-b0f5-48b0-a549-a6b6c48b5691",
   "metadata": {},
   "outputs": [
    {
     "data": {
      "application/vnd.jupyter.widget-view+json": {
       "model_id": "13969c16b7ae44e88f443e013d0b5833",
       "version_major": 2,
       "version_minor": 0
      },
      "text/plain": [
       "model.safetensors:   0%|          | 0.00/328M [00:00<?, ?B/s]"
      ]
     },
     "metadata": {},
     "output_type": "display_data"
    },
    {
     "data": {
      "text/plain": [
       "CommitInfo(commit_url='https://huggingface.co/zheng438/distilgpt2-disease-syptom/commit/2592e0c596003d104c92f8ff5b83759361a234df', commit_message='Upload model', commit_description='', oid='2592e0c596003d104c92f8ff5b83759361a234df', pr_url=None, pr_revision=None, pr_num=None)"
      ]
     },
     "execution_count": 30,
     "metadata": {},
     "output_type": "execute_result"
    }
   ],
   "source": [
    "# push to the hf hub\n",
    "# hf_name = 'zheng438' # your hf username or org name\n",
    "# model_id = hf_name + \"/\"  + \"distilgpt2-disease-syptom\" # you can name the model whatever you want\n",
    "# model.push_to_hub(model_id) # save model\n",
    "# trainer.push_to_hub(model_id) # save trainer"
   ]
  },
  {
   "cell_type": "code",
   "execution_count": 31,
   "id": "dc9de2dd-687d-4d49-9aea-40f8908848f4",
   "metadata": {},
   "outputs": [
    {
     "data": {
      "text/plain": [
       "GPT2LMHeadModel(\n",
       "  (transformer): GPT2Model(\n",
       "    (wte): Embedding(50257, 768)\n",
       "    (wpe): Embedding(1024, 768)\n",
       "    (drop): Dropout(p=0.1, inplace=False)\n",
       "    (h): ModuleList(\n",
       "      (0-5): 6 x GPT2Block(\n",
       "        (ln_1): LayerNorm((768,), eps=1e-05, elementwise_affine=True)\n",
       "        (attn): GPT2Attention(\n",
       "          (c_attn): Conv1D()\n",
       "          (c_proj): Conv1D()\n",
       "          (attn_dropout): Dropout(p=0.1, inplace=False)\n",
       "          (resid_dropout): Dropout(p=0.1, inplace=False)\n",
       "        )\n",
       "        (ln_2): LayerNorm((768,), eps=1e-05, elementwise_affine=True)\n",
       "        (mlp): GPT2MLP(\n",
       "          (c_fc): Conv1D()\n",
       "          (c_proj): Conv1D()\n",
       "          (act): NewGELUActivation()\n",
       "          (dropout): Dropout(p=0.1, inplace=False)\n",
       "        )\n",
       "      )\n",
       "    )\n",
       "    (ln_f): LayerNorm((768,), eps=1e-05, elementwise_affine=True)\n",
       "  )\n",
       "  (lm_head): Linear(in_features=768, out_features=50257, bias=False)\n",
       ")"
      ]
     },
     "execution_count": 31,
     "metadata": {},
     "output_type": "execute_result"
    }
   ],
   "source": [
    "model"
   ]
  },
  {
   "cell_type": "code",
   "execution_count": null,
   "id": "75869ace-25c3-4ec5-800b-4330c0a2af87",
   "metadata": {},
   "outputs": [],
   "source": []
  }
 ],
 "metadata": {
  "kernelspec": {
   "display_name": "Python 3 (ipykernel)",
   "language": "python",
   "name": "python3"
  },
  "language_info": {
   "codemirror_mode": {
    "name": "ipython",
    "version": 3
   },
   "file_extension": ".py",
   "mimetype": "text/x-python",
   "name": "python",
   "nbconvert_exporter": "python",
   "pygments_lexer": "ipython3",
   "version": "3.10.10"
  }
 },
 "nbformat": 4,
 "nbformat_minor": 5
}
